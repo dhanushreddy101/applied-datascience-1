{
  "nbformat": 4,
  "nbformat_minor": 0,
  "metadata": {
    "colab": {
      "provenance": [],
      "authorship_tag": "ABX9TyOXjYQqeBfDuPyt2b0D2q2c",
      "include_colab_link": true
    },
    "kernelspec": {
      "name": "python3",
      "display_name": "Python 3"
    },
    "language_info": {
      "name": "python"
    }
  },
  "cells": [
    {
      "cell_type": "markdown",
      "metadata": {
        "id": "view-in-github",
        "colab_type": "text"
      },
      "source": [
        "<a href=\"https://colab.research.google.com/github/dhanushreddy101/applied-datascience-1/blob/main/Final_Visualisation_.ipynb\" target=\"_parent\"><img src=\"https://colab.research.google.com/assets/colab-badge.svg\" alt=\"Open In Colab\"/></a>"
      ]
    },
    {
      "cell_type": "code",
      "execution_count": 1,
      "metadata": {
        "id": "xyzR5X1UAWcX"
      },
      "outputs": [],
      "source": [
        "import pandas as pd\n",
        "import matplotlib.pyplot as plt\n",
        "import seaborn as sns\n",
        "\n",
        "# Load the dataset\n",
        "data = pd.read_csv('/content/understanding road traffic accidents.csv')\n"
      ]
    },
    {
      "cell_type": "code",
      "source": [
        "import plotly.graph_objects as go\n",
        "import plotly.express as px"
      ],
      "metadata": {
        "id": "6llR8GtnB_wP"
      },
      "execution_count": 2,
      "outputs": []
    },
    {
      "cell_type": "code",
      "source": [
        "data.info()"
      ],
      "metadata": {
        "colab": {
          "base_uri": "https://localhost:8080/"
        },
        "id": "BB4UrYqKCFpt",
        "outputId": "767e77e4-ccd0-46bb-9ef3-59aa026ea8a8"
      },
      "execution_count": 3,
      "outputs": [
        {
          "output_type": "stream",
          "name": "stdout",
          "text": [
            "<class 'pandas.core.frame.DataFrame'>\n",
            "RangeIndex: 9550 entries, 0 to 9549\n",
            "Data columns (total 5 columns):\n",
            " #   Column               Non-Null Count  Dtype  \n",
            "---  ------               --------------  -----  \n",
            " 0   Million Plus Cities  9550 non-null   object \n",
            " 1   Cause category       9550 non-null   object \n",
            " 2   Cause Subcategory    9550 non-null   object \n",
            " 3   Outcome of Incident  9550 non-null   object \n",
            " 4   Count                9547 non-null   float64\n",
            "dtypes: float64(1), object(4)\n",
            "memory usage: 373.2+ KB\n"
          ]
        }
      ]
    },
    {
      "cell_type": "code",
      "source": [
        "data.shape"
      ],
      "metadata": {
        "colab": {
          "base_uri": "https://localhost:8080/"
        },
        "id": "joHpOyY-CJsz",
        "outputId": "59f557bf-e28a-4215-b295-70577bfc7812"
      },
      "execution_count": 4,
      "outputs": [
        {
          "output_type": "execute_result",
          "data": {
            "text/plain": [
              "(9550, 5)"
            ]
          },
          "metadata": {},
          "execution_count": 4
        }
      ]
    },
    {
      "cell_type": "code",
      "source": [
        "data.isnull().sum()"
      ],
      "metadata": {
        "colab": {
          "base_uri": "https://localhost:8080/"
        },
        "id": "fp-0B6OSCNjg",
        "outputId": "c374d5dc-d760-4d72-8363-7ec46cf02b56"
      },
      "execution_count": 5,
      "outputs": [
        {
          "output_type": "execute_result",
          "data": {
            "text/plain": [
              "Million Plus Cities    0\n",
              "Cause category         0\n",
              "Cause Subcategory      0\n",
              "Outcome of Incident    0\n",
              "Count                  3\n",
              "dtype: int64"
            ]
          },
          "metadata": {},
          "execution_count": 5
        }
      ]
    },
    {
      "cell_type": "code",
      "source": [
        "data.dropna(inplace=True)"
      ],
      "metadata": {
        "id": "DXrxsiBdCRl5"
      },
      "execution_count": 6,
      "outputs": []
    },
    {
      "cell_type": "code",
      "source": [
        "data.duplicated().sum()"
      ],
      "metadata": {
        "colab": {
          "base_uri": "https://localhost:8080/"
        },
        "id": "QLkNaCZ_CVnu",
        "outputId": "f634c90b-47df-46c7-fa55-debfbf61d2b0"
      },
      "execution_count": 7,
      "outputs": [
        {
          "output_type": "execute_result",
          "data": {
            "text/plain": [
              "0"
            ]
          },
          "metadata": {},
          "execution_count": 7
        }
      ]
    },
    {
      "cell_type": "code",
      "source": [
        "data.sample(5)"
      ],
      "metadata": {
        "colab": {
          "base_uri": "https://localhost:8080/",
          "height": 206
        },
        "id": "KP4oMRvRCY86",
        "outputId": "7e770cf0-5d20-4ce8-ade2-62d52ccacdb3"
      },
      "execution_count": 8,
      "outputs": [
        {
          "output_type": "execute_result",
          "data": {
            "text/plain": [
              "     Million Plus Cities Cause category     Cause Subcategory  \\\n",
              "2623               Patna       Junction  Round about Junction   \n",
              "2376             Lucknow       Junction                Others   \n",
              "4943               Delhi  Road Features                Bridge   \n",
              "9221              Nashik        Weather           Sunny/Clear   \n",
              "2165              Kannur       Junction                Others   \n",
              "\n",
              "     Outcome of Incident  Count  \n",
              "2623       Total Injured    8.0  \n",
              "2376        Minor Injury  149.0  \n",
              "4943      Persons Killed   79.0  \n",
              "9221        Minor Injury   78.0  \n",
              "2165  Greviously Injured  214.0  "
            ],
            "text/html": [
              "\n",
              "  <div id=\"df-81344ed7-f34c-4941-a881-dc764c560a74\" class=\"colab-df-container\">\n",
              "    <div>\n",
              "<style scoped>\n",
              "    .dataframe tbody tr th:only-of-type {\n",
              "        vertical-align: middle;\n",
              "    }\n",
              "\n",
              "    .dataframe tbody tr th {\n",
              "        vertical-align: top;\n",
              "    }\n",
              "\n",
              "    .dataframe thead th {\n",
              "        text-align: right;\n",
              "    }\n",
              "</style>\n",
              "<table border=\"1\" class=\"dataframe\">\n",
              "  <thead>\n",
              "    <tr style=\"text-align: right;\">\n",
              "      <th></th>\n",
              "      <th>Million Plus Cities</th>\n",
              "      <th>Cause category</th>\n",
              "      <th>Cause Subcategory</th>\n",
              "      <th>Outcome of Incident</th>\n",
              "      <th>Count</th>\n",
              "    </tr>\n",
              "  </thead>\n",
              "  <tbody>\n",
              "    <tr>\n",
              "      <th>2623</th>\n",
              "      <td>Patna</td>\n",
              "      <td>Junction</td>\n",
              "      <td>Round about Junction</td>\n",
              "      <td>Total Injured</td>\n",
              "      <td>8.0</td>\n",
              "    </tr>\n",
              "    <tr>\n",
              "      <th>2376</th>\n",
              "      <td>Lucknow</td>\n",
              "      <td>Junction</td>\n",
              "      <td>Others</td>\n",
              "      <td>Minor Injury</td>\n",
              "      <td>149.0</td>\n",
              "    </tr>\n",
              "    <tr>\n",
              "      <th>4943</th>\n",
              "      <td>Delhi</td>\n",
              "      <td>Road Features</td>\n",
              "      <td>Bridge</td>\n",
              "      <td>Persons Killed</td>\n",
              "      <td>79.0</td>\n",
              "    </tr>\n",
              "    <tr>\n",
              "      <th>9221</th>\n",
              "      <td>Nashik</td>\n",
              "      <td>Weather</td>\n",
              "      <td>Sunny/Clear</td>\n",
              "      <td>Minor Injury</td>\n",
              "      <td>78.0</td>\n",
              "    </tr>\n",
              "    <tr>\n",
              "      <th>2165</th>\n",
              "      <td>Kannur</td>\n",
              "      <td>Junction</td>\n",
              "      <td>Others</td>\n",
              "      <td>Greviously Injured</td>\n",
              "      <td>214.0</td>\n",
              "    </tr>\n",
              "  </tbody>\n",
              "</table>\n",
              "</div>\n",
              "    <div class=\"colab-df-buttons\">\n",
              "\n",
              "  <div class=\"colab-df-container\">\n",
              "    <button class=\"colab-df-convert\" onclick=\"convertToInteractive('df-81344ed7-f34c-4941-a881-dc764c560a74')\"\n",
              "            title=\"Convert this dataframe to an interactive table.\"\n",
              "            style=\"display:none;\">\n",
              "\n",
              "  <svg xmlns=\"http://www.w3.org/2000/svg\" height=\"24px\" viewBox=\"0 -960 960 960\">\n",
              "    <path d=\"M120-120v-720h720v720H120Zm60-500h600v-160H180v160Zm220 220h160v-160H400v160Zm0 220h160v-160H400v160ZM180-400h160v-160H180v160Zm440 0h160v-160H620v160ZM180-180h160v-160H180v160Zm440 0h160v-160H620v160Z\"/>\n",
              "  </svg>\n",
              "    </button>\n",
              "\n",
              "  <style>\n",
              "    .colab-df-container {\n",
              "      display:flex;\n",
              "      gap: 12px;\n",
              "    }\n",
              "\n",
              "    .colab-df-convert {\n",
              "      background-color: #E8F0FE;\n",
              "      border: none;\n",
              "      border-radius: 50%;\n",
              "      cursor: pointer;\n",
              "      display: none;\n",
              "      fill: #1967D2;\n",
              "      height: 32px;\n",
              "      padding: 0 0 0 0;\n",
              "      width: 32px;\n",
              "    }\n",
              "\n",
              "    .colab-df-convert:hover {\n",
              "      background-color: #E2EBFA;\n",
              "      box-shadow: 0px 1px 2px rgba(60, 64, 67, 0.3), 0px 1px 3px 1px rgba(60, 64, 67, 0.15);\n",
              "      fill: #174EA6;\n",
              "    }\n",
              "\n",
              "    .colab-df-buttons div {\n",
              "      margin-bottom: 4px;\n",
              "    }\n",
              "\n",
              "    [theme=dark] .colab-df-convert {\n",
              "      background-color: #3B4455;\n",
              "      fill: #D2E3FC;\n",
              "    }\n",
              "\n",
              "    [theme=dark] .colab-df-convert:hover {\n",
              "      background-color: #434B5C;\n",
              "      box-shadow: 0px 1px 3px 1px rgba(0, 0, 0, 0.15);\n",
              "      filter: drop-shadow(0px 1px 2px rgba(0, 0, 0, 0.3));\n",
              "      fill: #FFFFFF;\n",
              "    }\n",
              "  </style>\n",
              "\n",
              "    <script>\n",
              "      const buttonEl =\n",
              "        document.querySelector('#df-81344ed7-f34c-4941-a881-dc764c560a74 button.colab-df-convert');\n",
              "      buttonEl.style.display =\n",
              "        google.colab.kernel.accessAllowed ? 'block' : 'none';\n",
              "\n",
              "      async function convertToInteractive(key) {\n",
              "        const element = document.querySelector('#df-81344ed7-f34c-4941-a881-dc764c560a74');\n",
              "        const dataTable =\n",
              "          await google.colab.kernel.invokeFunction('convertToInteractive',\n",
              "                                                    [key], {});\n",
              "        if (!dataTable) return;\n",
              "\n",
              "        const docLinkHtml = 'Like what you see? Visit the ' +\n",
              "          '<a target=\"_blank\" href=https://colab.research.google.com/notebooks/data_table.ipynb>data table notebook</a>'\n",
              "          + ' to learn more about interactive tables.';\n",
              "        element.innerHTML = '';\n",
              "        dataTable['output_type'] = 'display_data';\n",
              "        await google.colab.output.renderOutput(dataTable, element);\n",
              "        const docLink = document.createElement('div');\n",
              "        docLink.innerHTML = docLinkHtml;\n",
              "        element.appendChild(docLink);\n",
              "      }\n",
              "    </script>\n",
              "  </div>\n",
              "\n",
              "\n",
              "<div id=\"df-01c3ca8d-65d2-4d1a-9e2b-9b97277a3297\">\n",
              "  <button class=\"colab-df-quickchart\" onclick=\"quickchart('df-01c3ca8d-65d2-4d1a-9e2b-9b97277a3297')\"\n",
              "            title=\"Suggest charts\"\n",
              "            style=\"display:none;\">\n",
              "\n",
              "<svg xmlns=\"http://www.w3.org/2000/svg\" height=\"24px\"viewBox=\"0 0 24 24\"\n",
              "     width=\"24px\">\n",
              "    <g>\n",
              "        <path d=\"M19 3H5c-1.1 0-2 .9-2 2v14c0 1.1.9 2 2 2h14c1.1 0 2-.9 2-2V5c0-1.1-.9-2-2-2zM9 17H7v-7h2v7zm4 0h-2V7h2v10zm4 0h-2v-4h2v4z\"/>\n",
              "    </g>\n",
              "</svg>\n",
              "  </button>\n",
              "\n",
              "<style>\n",
              "  .colab-df-quickchart {\n",
              "      --bg-color: #E8F0FE;\n",
              "      --fill-color: #1967D2;\n",
              "      --hover-bg-color: #E2EBFA;\n",
              "      --hover-fill-color: #174EA6;\n",
              "      --disabled-fill-color: #AAA;\n",
              "      --disabled-bg-color: #DDD;\n",
              "  }\n",
              "\n",
              "  [theme=dark] .colab-df-quickchart {\n",
              "      --bg-color: #3B4455;\n",
              "      --fill-color: #D2E3FC;\n",
              "      --hover-bg-color: #434B5C;\n",
              "      --hover-fill-color: #FFFFFF;\n",
              "      --disabled-bg-color: #3B4455;\n",
              "      --disabled-fill-color: #666;\n",
              "  }\n",
              "\n",
              "  .colab-df-quickchart {\n",
              "    background-color: var(--bg-color);\n",
              "    border: none;\n",
              "    border-radius: 50%;\n",
              "    cursor: pointer;\n",
              "    display: none;\n",
              "    fill: var(--fill-color);\n",
              "    height: 32px;\n",
              "    padding: 0;\n",
              "    width: 32px;\n",
              "  }\n",
              "\n",
              "  .colab-df-quickchart:hover {\n",
              "    background-color: var(--hover-bg-color);\n",
              "    box-shadow: 0 1px 2px rgba(60, 64, 67, 0.3), 0 1px 3px 1px rgba(60, 64, 67, 0.15);\n",
              "    fill: var(--button-hover-fill-color);\n",
              "  }\n",
              "\n",
              "  .colab-df-quickchart-complete:disabled,\n",
              "  .colab-df-quickchart-complete:disabled:hover {\n",
              "    background-color: var(--disabled-bg-color);\n",
              "    fill: var(--disabled-fill-color);\n",
              "    box-shadow: none;\n",
              "  }\n",
              "\n",
              "  .colab-df-spinner {\n",
              "    border: 2px solid var(--fill-color);\n",
              "    border-color: transparent;\n",
              "    border-bottom-color: var(--fill-color);\n",
              "    animation:\n",
              "      spin 1s steps(1) infinite;\n",
              "  }\n",
              "\n",
              "  @keyframes spin {\n",
              "    0% {\n",
              "      border-color: transparent;\n",
              "      border-bottom-color: var(--fill-color);\n",
              "      border-left-color: var(--fill-color);\n",
              "    }\n",
              "    20% {\n",
              "      border-color: transparent;\n",
              "      border-left-color: var(--fill-color);\n",
              "      border-top-color: var(--fill-color);\n",
              "    }\n",
              "    30% {\n",
              "      border-color: transparent;\n",
              "      border-left-color: var(--fill-color);\n",
              "      border-top-color: var(--fill-color);\n",
              "      border-right-color: var(--fill-color);\n",
              "    }\n",
              "    40% {\n",
              "      border-color: transparent;\n",
              "      border-right-color: var(--fill-color);\n",
              "      border-top-color: var(--fill-color);\n",
              "    }\n",
              "    60% {\n",
              "      border-color: transparent;\n",
              "      border-right-color: var(--fill-color);\n",
              "    }\n",
              "    80% {\n",
              "      border-color: transparent;\n",
              "      border-right-color: var(--fill-color);\n",
              "      border-bottom-color: var(--fill-color);\n",
              "    }\n",
              "    90% {\n",
              "      border-color: transparent;\n",
              "      border-bottom-color: var(--fill-color);\n",
              "    }\n",
              "  }\n",
              "</style>\n",
              "\n",
              "  <script>\n",
              "    async function quickchart(key) {\n",
              "      const quickchartButtonEl =\n",
              "        document.querySelector('#' + key + ' button');\n",
              "      quickchartButtonEl.disabled = true;  // To prevent multiple clicks.\n",
              "      quickchartButtonEl.classList.add('colab-df-spinner');\n",
              "      try {\n",
              "        const charts = await google.colab.kernel.invokeFunction(\n",
              "            'suggestCharts', [key], {});\n",
              "      } catch (error) {\n",
              "        console.error('Error during call to suggestCharts:', error);\n",
              "      }\n",
              "      quickchartButtonEl.classList.remove('colab-df-spinner');\n",
              "      quickchartButtonEl.classList.add('colab-df-quickchart-complete');\n",
              "    }\n",
              "    (() => {\n",
              "      let quickchartButtonEl =\n",
              "        document.querySelector('#df-01c3ca8d-65d2-4d1a-9e2b-9b97277a3297 button');\n",
              "      quickchartButtonEl.style.display =\n",
              "        google.colab.kernel.accessAllowed ? 'block' : 'none';\n",
              "    })();\n",
              "  </script>\n",
              "</div>\n",
              "    </div>\n",
              "  </div>\n"
            ],
            "application/vnd.google.colaboratory.intrinsic+json": {
              "type": "dataframe",
              "summary": "{\n  \"name\": \"data\",\n  \"rows\": 5,\n  \"fields\": [\n    {\n      \"column\": \"Million Plus Cities\",\n      \"properties\": {\n        \"dtype\": \"string\",\n        \"num_unique_values\": 5,\n        \"samples\": [\n          \"Lucknow\",\n          \"Kannur\",\n          \"Delhi\"\n        ],\n        \"semantic_type\": \"\",\n        \"description\": \"\"\n      }\n    },\n    {\n      \"column\": \"Cause category\",\n      \"properties\": {\n        \"dtype\": \"string\",\n        \"num_unique_values\": 3,\n        \"samples\": [\n          \"Junction\",\n          \"Road Features\",\n          \"Weather\"\n        ],\n        \"semantic_type\": \"\",\n        \"description\": \"\"\n      }\n    },\n    {\n      \"column\": \"Cause Subcategory\",\n      \"properties\": {\n        \"dtype\": \"string\",\n        \"num_unique_values\": 4,\n        \"samples\": [\n          \"Others\",\n          \"Sunny/Clear\",\n          \"Round about Junction\"\n        ],\n        \"semantic_type\": \"\",\n        \"description\": \"\"\n      }\n    },\n    {\n      \"column\": \"Outcome of Incident\",\n      \"properties\": {\n        \"dtype\": \"string\",\n        \"num_unique_values\": 4,\n        \"samples\": [\n          \"Minor Injury\",\n          \"Greviously Injured\",\n          \"Total Injured\"\n        ],\n        \"semantic_type\": \"\",\n        \"description\": \"\"\n      }\n    },\n    {\n      \"column\": \"Count\",\n      \"properties\": {\n        \"dtype\": \"number\",\n        \"std\": 78.46846500346493,\n        \"min\": 8.0,\n        \"max\": 214.0,\n        \"num_unique_values\": 5,\n        \"samples\": [\n          149.0,\n          214.0,\n          79.0\n        ],\n        \"semantic_type\": \"\",\n        \"description\": \"\"\n      }\n    }\n  ]\n}"
            }
          },
          "metadata": {},
          "execution_count": 8
        }
      ]
    },
    {
      "cell_type": "code",
      "source": [
        "data.columns"
      ],
      "metadata": {
        "colab": {
          "base_uri": "https://localhost:8080/"
        },
        "id": "S7s1b0v4CfLj",
        "outputId": "3712b698-8d9a-405a-d24b-c1ea9a34b6b9"
      },
      "execution_count": 9,
      "outputs": [
        {
          "output_type": "execute_result",
          "data": {
            "text/plain": [
              "Index(['Million Plus Cities', 'Cause category', 'Cause Subcategory',\n",
              "       'Outcome of Incident', 'Count'],\n",
              "      dtype='object')"
            ]
          },
          "metadata": {},
          "execution_count": 9
        }
      ]
    },
    {
      "cell_type": "code",
      "source": [
        "data[\"Cause Subcategory\"].unique()"
      ],
      "metadata": {
        "colab": {
          "base_uri": "https://localhost:8080/"
        },
        "id": "33OPHjk6CjM0",
        "outputId": "80b250ed-5c70-4a7d-abf5-2b8d68c8a66e"
      },
      "execution_count": 10,
      "outputs": [
        {
          "output_type": "execute_result",
          "data": {
            "text/plain": [
              "array(['Flashing Signal/Blinker', 'Others', 'Police Controlled',\n",
              "       'Stop Sign', 'Traffic Light Signal', 'Uncontrolled',\n",
              "       'Four arm Junction', 'Round about Junction', 'Staggered Junction',\n",
              "       'T', 'Y', 'Driving on Wrong side',\n",
              "       'Drunken Driving/ Consumption of alcohol and drug',\n",
              "       'Jumping Red Light', 'Over', 'Use of Mobile Phone', 'Bridge',\n",
              "       'Culvert', 'Curved Road', 'Ongoing Road Works/Under Construction',\n",
              "       'Pot Holes', 'Steep Grade', 'Straight Road', 'Auto Rickshaws',\n",
              "       'Bicycles', 'Buses', 'Cars, Taxis, Vans and LMV', 'Other Non',\n",
              "       'Pedestrian', 'Trucks/Lorries', 'Two Wheelers', 'Foggy and Misty',\n",
              "       'Hail/Sleet', 'Rainy', 'Sunny/Clear'], dtype=object)"
            ]
          },
          "metadata": {},
          "execution_count": 10
        }
      ]
    },
    {
      "cell_type": "code",
      "source": [
        "data[\"Cause category\"].unique()"
      ],
      "metadata": {
        "colab": {
          "base_uri": "https://localhost:8080/"
        },
        "id": "MOcJcX-kCmtS",
        "outputId": "c616a2a9-ad99-4e46-cb56-52b512fef776"
      },
      "execution_count": 11,
      "outputs": [
        {
          "output_type": "execute_result",
          "data": {
            "text/plain": [
              "array(['Traffic Control', 'Junction', 'Traffic Violation',\n",
              "       'Road Features', 'Impacting Vehicle/Object', 'Weather'],\n",
              "      dtype=object)"
            ]
          },
          "metadata": {},
          "execution_count": 11
        }
      ]
    },
    {
      "cell_type": "code",
      "source": [
        "data[\"Million Plus Cities\"].unique()"
      ],
      "metadata": {
        "colab": {
          "base_uri": "https://localhost:8080/"
        },
        "id": "dzCJwXVsCp6D",
        "outputId": "d4e33f90-41e2-4216-a652-3f9bfe0ccc28"
      },
      "execution_count": 12,
      "outputs": [
        {
          "output_type": "execute_result",
          "data": {
            "text/plain": [
              "array(['Agra', 'Ahmedabad', 'Allahabad(Prayagraj)', 'Amritsar',\n",
              "       'Asansol Durgapur', 'Aurangabad', 'Bengaluru', 'Bhopal',\n",
              "       'Chandigarh', 'Chennai', 'Coimbatore', 'Delhi', 'Dhanbad',\n",
              "       'Faridabad', 'Ghaziabad', 'Gwalior', 'Hyderabad', 'Indore',\n",
              "       'Jabalpur', 'Jaipur', 'Jamshedpur', 'Jodhpur', 'Kannur', 'Kanpur',\n",
              "       'Khozikode', 'Kochi', 'Kolkata', 'Kollam', 'Kota', 'Lucknow',\n",
              "       'Ludhiana', 'Madurai', 'Mallapuram', 'Meerut', 'Mumbai', 'Nagpur',\n",
              "       'Nashik', 'Patna', 'Pune', 'Raipur', 'Rajkot', 'Srinagar', 'Surat',\n",
              "       'Thiruvanthapuram', 'Thrissur', 'Tiruchirapalli', 'Vadodra',\n",
              "       'Varanasi', 'Vijaywada city', 'Vizaq'], dtype=object)"
            ]
          },
          "metadata": {},
          "execution_count": 12
        }
      ]
    },
    {
      "cell_type": "code",
      "source": [
        "data[\"Count\"]=data[\"Count\"].astype(\"int\")"
      ],
      "metadata": {
        "id": "vh98YM7tCuTm"
      },
      "execution_count": 13,
      "outputs": []
    },
    {
      "cell_type": "markdown",
      "source": [
        "Accident Count in each City"
      ],
      "metadata": {
        "id": "c2aRGKGPC3uo"
      }
    },
    {
      "cell_type": "code",
      "source": [
        "accident_count=data[data[\"Outcome of Incident\"]==\"Total number of Accidents\"].groupby(by=\"Million Plus Cities\")[\"Count\"].sum().sort_values(ascending=False).reset_index()\n",
        "\n",
        "accident_count[\"Count\"]=accident_count[\"Count\"].astype(\"int\")\n",
        "\n",
        "px.bar(accident_count,\"Million Plus Cities\",\"Count\",color=\"Count\",title=\"Accident Count in cities\",text=\"Count\")"
      ],
      "metadata": {
        "colab": {
          "base_uri": "https://localhost:8080/",
          "height": 542
        },
        "id": "PkeXoS75C6Bg",
        "outputId": "14ea0484-d809-4756-c35c-60d2a0cd15d3"
      },
      "execution_count": 14,
      "outputs": [
        {
          "output_type": "display_data",
          "data": {
            "text/html": [
              "<html>\n",
              "<head><meta charset=\"utf-8\" /></head>\n",
              "<body>\n",
              "    <div>            <script src=\"https://cdnjs.cloudflare.com/ajax/libs/mathjax/2.7.5/MathJax.js?config=TeX-AMS-MML_SVG\"></script><script type=\"text/javascript\">if (window.MathJax && window.MathJax.Hub && window.MathJax.Hub.Config) {window.MathJax.Hub.Config({SVG: {font: \"STIX-Web\"}});}</script>                <script type=\"text/javascript\">window.PlotlyConfig = {MathJaxConfig: 'local'};</script>\n",
              "        <script charset=\"utf-8\" src=\"https://cdn.plot.ly/plotly-2.24.1.min.js\"></script>                <div id=\"497b5991-a4f5-4782-b6f2-3cd0cf242327\" class=\"plotly-graph-div\" style=\"height:525px; width:100%;\"></div>            <script type=\"text/javascript\">                                    window.PLOTLYENV=window.PLOTLYENV || {};                                    if (document.getElementById(\"497b5991-a4f5-4782-b6f2-3cd0cf242327\")) {                    Plotly.newPlot(                        \"497b5991-a4f5-4782-b6f2-3cd0cf242327\",                        [{\"alignmentgroup\":\"True\",\"hovertemplate\":\"Million Plus Cities=%{x}\\u003cbr\\u003eCount=%{marker.color}\\u003cextra\\u003e\\u003c\\u002fextra\\u003e\",\"legendgroup\":\"\",\"marker\":{\"color\":[26334,25068,19398,19356,18216,13770,12384,11640,10872,10794,10704,10596,10590,10098,8784,8622,8466,7344,7284,7110,6912,6432,6018,5676,5436,4638,4350,4248,4242,3450,3180,3024,2934,2892,2886,2670,2592,2568,2508,2496,2436,2388,2238,2118,1752,1650,984,954,714,600],\"coloraxis\":\"coloraxis\",\"pattern\":{\"shape\":\"\"}},\"name\":\"\",\"offsetgroup\":\"\",\"orientation\":\"v\",\"showlegend\":false,\"text\":[26334.0,25068.0,19398.0,19356.0,18216.0,13770.0,12384.0,11640.0,10872.0,10794.0,10704.0,10596.0,10590.0,10098.0,8784.0,8622.0,8466.0,7344.0,7284.0,7110.0,6912.0,6432.0,6018.0,5676.0,5436.0,4638.0,4350.0,4248.0,4242.0,3450.0,3180.0,3024.0,2934.0,2892.0,2886.0,2670.0,2592.0,2568.0,2508.0,2496.0,2436.0,2388.0,2238.0,2118.0,1752.0,1650.0,984.0,954.0,714.0,600.0],\"textposition\":\"auto\",\"x\":[\"Chennai\",\"Delhi\",\"Bengaluru\",\"Jabalpur\",\"Indore\",\"Bhopal\",\"Hyderabad\",\"Jaipur\",\"Mumbai\",\"Gwalior\",\"Mallapuram\",\"Raipur\",\"Vizaq\",\"Kolkata\",\"Thrissur\",\"Kochi\",\"Kollam\",\"Kanpur\",\"Thiruvanthapuram\",\"Ahmedabad\",\"Allahabad(Prayagraj)\",\"Vijaywada city\",\"Khozikode\",\"Lucknow\",\"Agra\",\"Nagpur\",\"Meerut\",\"Ghaziabad\",\"Coimbatore\",\"Surat\",\"Madurai\",\"Kannur\",\"Faridabad\",\"Pune\",\"Vadodra\",\"Varanasi\",\"Rajkot\",\"Asansol Durgapur\",\"Ludhiana\",\"Nashik\",\"Aurangabad\",\"Tiruchirapalli\",\"Patna\",\"Kota\",\"Jodhpur\",\"Srinagar\",\"Dhanbad\",\"Chandigarh\",\"Jamshedpur\",\"Amritsar\"],\"xaxis\":\"x\",\"y\":[26334,25068,19398,19356,18216,13770,12384,11640,10872,10794,10704,10596,10590,10098,8784,8622,8466,7344,7284,7110,6912,6432,6018,5676,5436,4638,4350,4248,4242,3450,3180,3024,2934,2892,2886,2670,2592,2568,2508,2496,2436,2388,2238,2118,1752,1650,984,954,714,600],\"yaxis\":\"y\",\"type\":\"bar\"}],                        {\"template\":{\"data\":{\"histogram2dcontour\":[{\"type\":\"histogram2dcontour\",\"colorbar\":{\"outlinewidth\":0,\"ticks\":\"\"},\"colorscale\":[[0.0,\"#0d0887\"],[0.1111111111111111,\"#46039f\"],[0.2222222222222222,\"#7201a8\"],[0.3333333333333333,\"#9c179e\"],[0.4444444444444444,\"#bd3786\"],[0.5555555555555556,\"#d8576b\"],[0.6666666666666666,\"#ed7953\"],[0.7777777777777778,\"#fb9f3a\"],[0.8888888888888888,\"#fdca26\"],[1.0,\"#f0f921\"]]}],\"choropleth\":[{\"type\":\"choropleth\",\"colorbar\":{\"outlinewidth\":0,\"ticks\":\"\"}}],\"histogram2d\":[{\"type\":\"histogram2d\",\"colorbar\":{\"outlinewidth\":0,\"ticks\":\"\"},\"colorscale\":[[0.0,\"#0d0887\"],[0.1111111111111111,\"#46039f\"],[0.2222222222222222,\"#7201a8\"],[0.3333333333333333,\"#9c179e\"],[0.4444444444444444,\"#bd3786\"],[0.5555555555555556,\"#d8576b\"],[0.6666666666666666,\"#ed7953\"],[0.7777777777777778,\"#fb9f3a\"],[0.8888888888888888,\"#fdca26\"],[1.0,\"#f0f921\"]]}],\"heatmap\":[{\"type\":\"heatmap\",\"colorbar\":{\"outlinewidth\":0,\"ticks\":\"\"},\"colorscale\":[[0.0,\"#0d0887\"],[0.1111111111111111,\"#46039f\"],[0.2222222222222222,\"#7201a8\"],[0.3333333333333333,\"#9c179e\"],[0.4444444444444444,\"#bd3786\"],[0.5555555555555556,\"#d8576b\"],[0.6666666666666666,\"#ed7953\"],[0.7777777777777778,\"#fb9f3a\"],[0.8888888888888888,\"#fdca26\"],[1.0,\"#f0f921\"]]}],\"heatmapgl\":[{\"type\":\"heatmapgl\",\"colorbar\":{\"outlinewidth\":0,\"ticks\":\"\"},\"colorscale\":[[0.0,\"#0d0887\"],[0.1111111111111111,\"#46039f\"],[0.2222222222222222,\"#7201a8\"],[0.3333333333333333,\"#9c179e\"],[0.4444444444444444,\"#bd3786\"],[0.5555555555555556,\"#d8576b\"],[0.6666666666666666,\"#ed7953\"],[0.7777777777777778,\"#fb9f3a\"],[0.8888888888888888,\"#fdca26\"],[1.0,\"#f0f921\"]]}],\"contourcarpet\":[{\"type\":\"contourcarpet\",\"colorbar\":{\"outlinewidth\":0,\"ticks\":\"\"}}],\"contour\":[{\"type\":\"contour\",\"colorbar\":{\"outlinewidth\":0,\"ticks\":\"\"},\"colorscale\":[[0.0,\"#0d0887\"],[0.1111111111111111,\"#46039f\"],[0.2222222222222222,\"#7201a8\"],[0.3333333333333333,\"#9c179e\"],[0.4444444444444444,\"#bd3786\"],[0.5555555555555556,\"#d8576b\"],[0.6666666666666666,\"#ed7953\"],[0.7777777777777778,\"#fb9f3a\"],[0.8888888888888888,\"#fdca26\"],[1.0,\"#f0f921\"]]}],\"surface\":[{\"type\":\"surface\",\"colorbar\":{\"outlinewidth\":0,\"ticks\":\"\"},\"colorscale\":[[0.0,\"#0d0887\"],[0.1111111111111111,\"#46039f\"],[0.2222222222222222,\"#7201a8\"],[0.3333333333333333,\"#9c179e\"],[0.4444444444444444,\"#bd3786\"],[0.5555555555555556,\"#d8576b\"],[0.6666666666666666,\"#ed7953\"],[0.7777777777777778,\"#fb9f3a\"],[0.8888888888888888,\"#fdca26\"],[1.0,\"#f0f921\"]]}],\"mesh3d\":[{\"type\":\"mesh3d\",\"colorbar\":{\"outlinewidth\":0,\"ticks\":\"\"}}],\"scatter\":[{\"fillpattern\":{\"fillmode\":\"overlay\",\"size\":10,\"solidity\":0.2},\"type\":\"scatter\"}],\"parcoords\":[{\"type\":\"parcoords\",\"line\":{\"colorbar\":{\"outlinewidth\":0,\"ticks\":\"\"}}}],\"scatterpolargl\":[{\"type\":\"scatterpolargl\",\"marker\":{\"colorbar\":{\"outlinewidth\":0,\"ticks\":\"\"}}}],\"bar\":[{\"error_x\":{\"color\":\"#2a3f5f\"},\"error_y\":{\"color\":\"#2a3f5f\"},\"marker\":{\"line\":{\"color\":\"#E5ECF6\",\"width\":0.5},\"pattern\":{\"fillmode\":\"overlay\",\"size\":10,\"solidity\":0.2}},\"type\":\"bar\"}],\"scattergeo\":[{\"type\":\"scattergeo\",\"marker\":{\"colorbar\":{\"outlinewidth\":0,\"ticks\":\"\"}}}],\"scatterpolar\":[{\"type\":\"scatterpolar\",\"marker\":{\"colorbar\":{\"outlinewidth\":0,\"ticks\":\"\"}}}],\"histogram\":[{\"marker\":{\"pattern\":{\"fillmode\":\"overlay\",\"size\":10,\"solidity\":0.2}},\"type\":\"histogram\"}],\"scattergl\":[{\"type\":\"scattergl\",\"marker\":{\"colorbar\":{\"outlinewidth\":0,\"ticks\":\"\"}}}],\"scatter3d\":[{\"type\":\"scatter3d\",\"line\":{\"colorbar\":{\"outlinewidth\":0,\"ticks\":\"\"}},\"marker\":{\"colorbar\":{\"outlinewidth\":0,\"ticks\":\"\"}}}],\"scattermapbox\":[{\"type\":\"scattermapbox\",\"marker\":{\"colorbar\":{\"outlinewidth\":0,\"ticks\":\"\"}}}],\"scatterternary\":[{\"type\":\"scatterternary\",\"marker\":{\"colorbar\":{\"outlinewidth\":0,\"ticks\":\"\"}}}],\"scattercarpet\":[{\"type\":\"scattercarpet\",\"marker\":{\"colorbar\":{\"outlinewidth\":0,\"ticks\":\"\"}}}],\"carpet\":[{\"aaxis\":{\"endlinecolor\":\"#2a3f5f\",\"gridcolor\":\"white\",\"linecolor\":\"white\",\"minorgridcolor\":\"white\",\"startlinecolor\":\"#2a3f5f\"},\"baxis\":{\"endlinecolor\":\"#2a3f5f\",\"gridcolor\":\"white\",\"linecolor\":\"white\",\"minorgridcolor\":\"white\",\"startlinecolor\":\"#2a3f5f\"},\"type\":\"carpet\"}],\"table\":[{\"cells\":{\"fill\":{\"color\":\"#EBF0F8\"},\"line\":{\"color\":\"white\"}},\"header\":{\"fill\":{\"color\":\"#C8D4E3\"},\"line\":{\"color\":\"white\"}},\"type\":\"table\"}],\"barpolar\":[{\"marker\":{\"line\":{\"color\":\"#E5ECF6\",\"width\":0.5},\"pattern\":{\"fillmode\":\"overlay\",\"size\":10,\"solidity\":0.2}},\"type\":\"barpolar\"}],\"pie\":[{\"automargin\":true,\"type\":\"pie\"}]},\"layout\":{\"autotypenumbers\":\"strict\",\"colorway\":[\"#636efa\",\"#EF553B\",\"#00cc96\",\"#ab63fa\",\"#FFA15A\",\"#19d3f3\",\"#FF6692\",\"#B6E880\",\"#FF97FF\",\"#FECB52\"],\"font\":{\"color\":\"#2a3f5f\"},\"hovermode\":\"closest\",\"hoverlabel\":{\"align\":\"left\"},\"paper_bgcolor\":\"white\",\"plot_bgcolor\":\"#E5ECF6\",\"polar\":{\"bgcolor\":\"#E5ECF6\",\"angularaxis\":{\"gridcolor\":\"white\",\"linecolor\":\"white\",\"ticks\":\"\"},\"radialaxis\":{\"gridcolor\":\"white\",\"linecolor\":\"white\",\"ticks\":\"\"}},\"ternary\":{\"bgcolor\":\"#E5ECF6\",\"aaxis\":{\"gridcolor\":\"white\",\"linecolor\":\"white\",\"ticks\":\"\"},\"baxis\":{\"gridcolor\":\"white\",\"linecolor\":\"white\",\"ticks\":\"\"},\"caxis\":{\"gridcolor\":\"white\",\"linecolor\":\"white\",\"ticks\":\"\"}},\"coloraxis\":{\"colorbar\":{\"outlinewidth\":0,\"ticks\":\"\"}},\"colorscale\":{\"sequential\":[[0.0,\"#0d0887\"],[0.1111111111111111,\"#46039f\"],[0.2222222222222222,\"#7201a8\"],[0.3333333333333333,\"#9c179e\"],[0.4444444444444444,\"#bd3786\"],[0.5555555555555556,\"#d8576b\"],[0.6666666666666666,\"#ed7953\"],[0.7777777777777778,\"#fb9f3a\"],[0.8888888888888888,\"#fdca26\"],[1.0,\"#f0f921\"]],\"sequentialminus\":[[0.0,\"#0d0887\"],[0.1111111111111111,\"#46039f\"],[0.2222222222222222,\"#7201a8\"],[0.3333333333333333,\"#9c179e\"],[0.4444444444444444,\"#bd3786\"],[0.5555555555555556,\"#d8576b\"],[0.6666666666666666,\"#ed7953\"],[0.7777777777777778,\"#fb9f3a\"],[0.8888888888888888,\"#fdca26\"],[1.0,\"#f0f921\"]],\"diverging\":[[0,\"#8e0152\"],[0.1,\"#c51b7d\"],[0.2,\"#de77ae\"],[0.3,\"#f1b6da\"],[0.4,\"#fde0ef\"],[0.5,\"#f7f7f7\"],[0.6,\"#e6f5d0\"],[0.7,\"#b8e186\"],[0.8,\"#7fbc41\"],[0.9,\"#4d9221\"],[1,\"#276419\"]]},\"xaxis\":{\"gridcolor\":\"white\",\"linecolor\":\"white\",\"ticks\":\"\",\"title\":{\"standoff\":15},\"zerolinecolor\":\"white\",\"automargin\":true,\"zerolinewidth\":2},\"yaxis\":{\"gridcolor\":\"white\",\"linecolor\":\"white\",\"ticks\":\"\",\"title\":{\"standoff\":15},\"zerolinecolor\":\"white\",\"automargin\":true,\"zerolinewidth\":2},\"scene\":{\"xaxis\":{\"backgroundcolor\":\"#E5ECF6\",\"gridcolor\":\"white\",\"linecolor\":\"white\",\"showbackground\":true,\"ticks\":\"\",\"zerolinecolor\":\"white\",\"gridwidth\":2},\"yaxis\":{\"backgroundcolor\":\"#E5ECF6\",\"gridcolor\":\"white\",\"linecolor\":\"white\",\"showbackground\":true,\"ticks\":\"\",\"zerolinecolor\":\"white\",\"gridwidth\":2},\"zaxis\":{\"backgroundcolor\":\"#E5ECF6\",\"gridcolor\":\"white\",\"linecolor\":\"white\",\"showbackground\":true,\"ticks\":\"\",\"zerolinecolor\":\"white\",\"gridwidth\":2}},\"shapedefaults\":{\"line\":{\"color\":\"#2a3f5f\"}},\"annotationdefaults\":{\"arrowcolor\":\"#2a3f5f\",\"arrowhead\":0,\"arrowwidth\":1},\"geo\":{\"bgcolor\":\"white\",\"landcolor\":\"#E5ECF6\",\"subunitcolor\":\"white\",\"showland\":true,\"showlakes\":true,\"lakecolor\":\"white\"},\"title\":{\"x\":0.05},\"mapbox\":{\"style\":\"light\"}}},\"xaxis\":{\"anchor\":\"y\",\"domain\":[0.0,1.0],\"title\":{\"text\":\"Million Plus Cities\"}},\"yaxis\":{\"anchor\":\"x\",\"domain\":[0.0,1.0],\"title\":{\"text\":\"Count\"}},\"coloraxis\":{\"colorbar\":{\"title\":{\"text\":\"Count\"}},\"colorscale\":[[0.0,\"#0d0887\"],[0.1111111111111111,\"#46039f\"],[0.2222222222222222,\"#7201a8\"],[0.3333333333333333,\"#9c179e\"],[0.4444444444444444,\"#bd3786\"],[0.5555555555555556,\"#d8576b\"],[0.6666666666666666,\"#ed7953\"],[0.7777777777777778,\"#fb9f3a\"],[0.8888888888888888,\"#fdca26\"],[1.0,\"#f0f921\"]]},\"legend\":{\"tracegroupgap\":0},\"title\":{\"text\":\"Accident Count in cities\"},\"barmode\":\"relative\"},                        {\"responsive\": true}                    ).then(function(){\n",
              "                            \n",
              "var gd = document.getElementById('497b5991-a4f5-4782-b6f2-3cd0cf242327');\n",
              "var x = new MutationObserver(function (mutations, observer) {{\n",
              "        var display = window.getComputedStyle(gd).display;\n",
              "        if (!display || display === 'none') {{\n",
              "            console.log([gd, 'removed!']);\n",
              "            Plotly.purge(gd);\n",
              "            observer.disconnect();\n",
              "        }}\n",
              "}});\n",
              "\n",
              "// Listen for the removal of the full notebook cells\n",
              "var notebookContainer = gd.closest('#notebook-container');\n",
              "if (notebookContainer) {{\n",
              "    x.observe(notebookContainer, {childList: true});\n",
              "}}\n",
              "\n",
              "// Listen for the clearing of the current output cell\n",
              "var outputEl = gd.closest('.output');\n",
              "if (outputEl) {{\n",
              "    x.observe(outputEl, {childList: true});\n",
              "}}\n",
              "\n",
              "                        })                };                            </script>        </div>\n",
              "</body>\n",
              "</html>"
            ]
          },
          "metadata": {}
        }
      ]
    },
    {
      "cell_type": "code",
      "source": [
        "Outcome=data.groupby(by=\"Outcome of Incident\")[\"Count\"].sum()\n",
        "Outcome=Outcome.reset_index()\n",
        "Outcome.sort_values(by=\"Count\" ,ascending=False,inplace=True)\n",
        "px.bar(Outcome,x=\"Outcome of Incident\",y=\"Count\",color=\"Outcome of Incident\",title=\"OutCome vs Number of Incident\")"
      ],
      "metadata": {
        "colab": {
          "base_uri": "https://localhost:8080/",
          "height": 542
        },
        "id": "lFNdl0sPDRR5",
        "outputId": "1178b362-575f-4704-864b-0c361df10f76"
      },
      "execution_count": 15,
      "outputs": [
        {
          "output_type": "display_data",
          "data": {
            "text/html": [
              "<html>\n",
              "<head><meta charset=\"utf-8\" /></head>\n",
              "<body>\n",
              "    <div>            <script src=\"https://cdnjs.cloudflare.com/ajax/libs/mathjax/2.7.5/MathJax.js?config=TeX-AMS-MML_SVG\"></script><script type=\"text/javascript\">if (window.MathJax && window.MathJax.Hub && window.MathJax.Hub.Config) {window.MathJax.Hub.Config({SVG: {font: \"STIX-Web\"}});}</script>                <script type=\"text/javascript\">window.PlotlyConfig = {MathJaxConfig: 'local'};</script>\n",
              "        <script charset=\"utf-8\" src=\"https://cdn.plot.ly/plotly-2.24.1.min.js\"></script>                <div id=\"37da98f0-ec71-4087-9fb8-a73986a9d196\" class=\"plotly-graph-div\" style=\"height:525px; width:100%;\"></div>            <script type=\"text/javascript\">                                    window.PLOTLYENV=window.PLOTLYENV || {};                                    if (document.getElementById(\"37da98f0-ec71-4087-9fb8-a73986a9d196\")) {                    Plotly.newPlot(                        \"37da98f0-ec71-4087-9fb8-a73986a9d196\",                        [{\"alignmentgroup\":\"True\",\"hovertemplate\":\"Outcome of Incident=%{x}\\u003cbr\\u003eCount=%{y}\\u003cextra\\u003e\\u003c\\u002fextra\\u003e\",\"legendgroup\":\"Total number of Accidents\",\"marker\":{\"color\":\"#636efa\",\"pattern\":{\"shape\":\"\"}},\"name\":\"Total number of Accidents\",\"offsetgroup\":\"Total number of Accidents\",\"orientation\":\"v\",\"showlegend\":true,\"textposition\":\"auto\",\"x\":[\"Total number of Accidents\"],\"xaxis\":\"x\",\"y\":[352416],\"yaxis\":\"y\",\"type\":\"bar\"},{\"alignmentgroup\":\"True\",\"hovertemplate\":\"Outcome of Incident=%{x}\\u003cbr\\u003eCount=%{y}\\u003cextra\\u003e\\u003c\\u002fextra\\u003e\",\"legendgroup\":\"Total Injured\",\"marker\":{\"color\":\"#EF553B\",\"pattern\":{\"shape\":\"\"}},\"name\":\"Total Injured\",\"offsetgroup\":\"Total Injured\",\"orientation\":\"v\",\"showlegend\":true,\"textposition\":\"auto\",\"x\":[\"Total Injured\"],\"xaxis\":\"x\",\"y\":[252575],\"yaxis\":\"y\",\"type\":\"bar\"},{\"alignmentgroup\":\"True\",\"hovertemplate\":\"Outcome of Incident=%{x}\\u003cbr\\u003eCount=%{y}\\u003cextra\\u003e\\u003c\\u002fextra\\u003e\",\"legendgroup\":\"Minor Injury\",\"marker\":{\"color\":\"#00cc96\",\"pattern\":{\"shape\":\"\"}},\"name\":\"Minor Injury\",\"offsetgroup\":\"Minor Injury\",\"orientation\":\"v\",\"showlegend\":true,\"textposition\":\"auto\",\"x\":[\"Minor Injury\"],\"xaxis\":\"x\",\"y\":[179898],\"yaxis\":\"y\",\"type\":\"bar\"},{\"alignmentgroup\":\"True\",\"hovertemplate\":\"Outcome of Incident=%{x}\\u003cbr\\u003eCount=%{y}\\u003cextra\\u003e\\u003c\\u002fextra\\u003e\",\"legendgroup\":\"Greviously Injured\",\"marker\":{\"color\":\"#ab63fa\",\"pattern\":{\"shape\":\"\"}},\"name\":\"Greviously Injured\",\"offsetgroup\":\"Greviously Injured\",\"orientation\":\"v\",\"showlegend\":true,\"textposition\":\"auto\",\"x\":[\"Greviously Injured\"],\"xaxis\":\"x\",\"y\":[123192],\"yaxis\":\"y\",\"type\":\"bar\"},{\"alignmentgroup\":\"True\",\"hovertemplate\":\"Outcome of Incident=%{x}\\u003cbr\\u003eCount=%{y}\\u003cextra\\u003e\\u003c\\u002fextra\\u003e\",\"legendgroup\":\"Persons Killed\",\"marker\":{\"color\":\"#FFA15A\",\"pattern\":{\"shape\":\"\"}},\"name\":\"Persons Killed\",\"offsetgroup\":\"Persons Killed\",\"orientation\":\"v\",\"showlegend\":true,\"textposition\":\"auto\",\"x\":[\"Persons Killed\"],\"xaxis\":\"x\",\"y\":[81250],\"yaxis\":\"y\",\"type\":\"bar\"}],                        {\"template\":{\"data\":{\"histogram2dcontour\":[{\"type\":\"histogram2dcontour\",\"colorbar\":{\"outlinewidth\":0,\"ticks\":\"\"},\"colorscale\":[[0.0,\"#0d0887\"],[0.1111111111111111,\"#46039f\"],[0.2222222222222222,\"#7201a8\"],[0.3333333333333333,\"#9c179e\"],[0.4444444444444444,\"#bd3786\"],[0.5555555555555556,\"#d8576b\"],[0.6666666666666666,\"#ed7953\"],[0.7777777777777778,\"#fb9f3a\"],[0.8888888888888888,\"#fdca26\"],[1.0,\"#f0f921\"]]}],\"choropleth\":[{\"type\":\"choropleth\",\"colorbar\":{\"outlinewidth\":0,\"ticks\":\"\"}}],\"histogram2d\":[{\"type\":\"histogram2d\",\"colorbar\":{\"outlinewidth\":0,\"ticks\":\"\"},\"colorscale\":[[0.0,\"#0d0887\"],[0.1111111111111111,\"#46039f\"],[0.2222222222222222,\"#7201a8\"],[0.3333333333333333,\"#9c179e\"],[0.4444444444444444,\"#bd3786\"],[0.5555555555555556,\"#d8576b\"],[0.6666666666666666,\"#ed7953\"],[0.7777777777777778,\"#fb9f3a\"],[0.8888888888888888,\"#fdca26\"],[1.0,\"#f0f921\"]]}],\"heatmap\":[{\"type\":\"heatmap\",\"colorbar\":{\"outlinewidth\":0,\"ticks\":\"\"},\"colorscale\":[[0.0,\"#0d0887\"],[0.1111111111111111,\"#46039f\"],[0.2222222222222222,\"#7201a8\"],[0.3333333333333333,\"#9c179e\"],[0.4444444444444444,\"#bd3786\"],[0.5555555555555556,\"#d8576b\"],[0.6666666666666666,\"#ed7953\"],[0.7777777777777778,\"#fb9f3a\"],[0.8888888888888888,\"#fdca26\"],[1.0,\"#f0f921\"]]}],\"heatmapgl\":[{\"type\":\"heatmapgl\",\"colorbar\":{\"outlinewidth\":0,\"ticks\":\"\"},\"colorscale\":[[0.0,\"#0d0887\"],[0.1111111111111111,\"#46039f\"],[0.2222222222222222,\"#7201a8\"],[0.3333333333333333,\"#9c179e\"],[0.4444444444444444,\"#bd3786\"],[0.5555555555555556,\"#d8576b\"],[0.6666666666666666,\"#ed7953\"],[0.7777777777777778,\"#fb9f3a\"],[0.8888888888888888,\"#fdca26\"],[1.0,\"#f0f921\"]]}],\"contourcarpet\":[{\"type\":\"contourcarpet\",\"colorbar\":{\"outlinewidth\":0,\"ticks\":\"\"}}],\"contour\":[{\"type\":\"contour\",\"colorbar\":{\"outlinewidth\":0,\"ticks\":\"\"},\"colorscale\":[[0.0,\"#0d0887\"],[0.1111111111111111,\"#46039f\"],[0.2222222222222222,\"#7201a8\"],[0.3333333333333333,\"#9c179e\"],[0.4444444444444444,\"#bd3786\"],[0.5555555555555556,\"#d8576b\"],[0.6666666666666666,\"#ed7953\"],[0.7777777777777778,\"#fb9f3a\"],[0.8888888888888888,\"#fdca26\"],[1.0,\"#f0f921\"]]}],\"surface\":[{\"type\":\"surface\",\"colorbar\":{\"outlinewidth\":0,\"ticks\":\"\"},\"colorscale\":[[0.0,\"#0d0887\"],[0.1111111111111111,\"#46039f\"],[0.2222222222222222,\"#7201a8\"],[0.3333333333333333,\"#9c179e\"],[0.4444444444444444,\"#bd3786\"],[0.5555555555555556,\"#d8576b\"],[0.6666666666666666,\"#ed7953\"],[0.7777777777777778,\"#fb9f3a\"],[0.8888888888888888,\"#fdca26\"],[1.0,\"#f0f921\"]]}],\"mesh3d\":[{\"type\":\"mesh3d\",\"colorbar\":{\"outlinewidth\":0,\"ticks\":\"\"}}],\"scatter\":[{\"fillpattern\":{\"fillmode\":\"overlay\",\"size\":10,\"solidity\":0.2},\"type\":\"scatter\"}],\"parcoords\":[{\"type\":\"parcoords\",\"line\":{\"colorbar\":{\"outlinewidth\":0,\"ticks\":\"\"}}}],\"scatterpolargl\":[{\"type\":\"scatterpolargl\",\"marker\":{\"colorbar\":{\"outlinewidth\":0,\"ticks\":\"\"}}}],\"bar\":[{\"error_x\":{\"color\":\"#2a3f5f\"},\"error_y\":{\"color\":\"#2a3f5f\"},\"marker\":{\"line\":{\"color\":\"#E5ECF6\",\"width\":0.5},\"pattern\":{\"fillmode\":\"overlay\",\"size\":10,\"solidity\":0.2}},\"type\":\"bar\"}],\"scattergeo\":[{\"type\":\"scattergeo\",\"marker\":{\"colorbar\":{\"outlinewidth\":0,\"ticks\":\"\"}}}],\"scatterpolar\":[{\"type\":\"scatterpolar\",\"marker\":{\"colorbar\":{\"outlinewidth\":0,\"ticks\":\"\"}}}],\"histogram\":[{\"marker\":{\"pattern\":{\"fillmode\":\"overlay\",\"size\":10,\"solidity\":0.2}},\"type\":\"histogram\"}],\"scattergl\":[{\"type\":\"scattergl\",\"marker\":{\"colorbar\":{\"outlinewidth\":0,\"ticks\":\"\"}}}],\"scatter3d\":[{\"type\":\"scatter3d\",\"line\":{\"colorbar\":{\"outlinewidth\":0,\"ticks\":\"\"}},\"marker\":{\"colorbar\":{\"outlinewidth\":0,\"ticks\":\"\"}}}],\"scattermapbox\":[{\"type\":\"scattermapbox\",\"marker\":{\"colorbar\":{\"outlinewidth\":0,\"ticks\":\"\"}}}],\"scatterternary\":[{\"type\":\"scatterternary\",\"marker\":{\"colorbar\":{\"outlinewidth\":0,\"ticks\":\"\"}}}],\"scattercarpet\":[{\"type\":\"scattercarpet\",\"marker\":{\"colorbar\":{\"outlinewidth\":0,\"ticks\":\"\"}}}],\"carpet\":[{\"aaxis\":{\"endlinecolor\":\"#2a3f5f\",\"gridcolor\":\"white\",\"linecolor\":\"white\",\"minorgridcolor\":\"white\",\"startlinecolor\":\"#2a3f5f\"},\"baxis\":{\"endlinecolor\":\"#2a3f5f\",\"gridcolor\":\"white\",\"linecolor\":\"white\",\"minorgridcolor\":\"white\",\"startlinecolor\":\"#2a3f5f\"},\"type\":\"carpet\"}],\"table\":[{\"cells\":{\"fill\":{\"color\":\"#EBF0F8\"},\"line\":{\"color\":\"white\"}},\"header\":{\"fill\":{\"color\":\"#C8D4E3\"},\"line\":{\"color\":\"white\"}},\"type\":\"table\"}],\"barpolar\":[{\"marker\":{\"line\":{\"color\":\"#E5ECF6\",\"width\":0.5},\"pattern\":{\"fillmode\":\"overlay\",\"size\":10,\"solidity\":0.2}},\"type\":\"barpolar\"}],\"pie\":[{\"automargin\":true,\"type\":\"pie\"}]},\"layout\":{\"autotypenumbers\":\"strict\",\"colorway\":[\"#636efa\",\"#EF553B\",\"#00cc96\",\"#ab63fa\",\"#FFA15A\",\"#19d3f3\",\"#FF6692\",\"#B6E880\",\"#FF97FF\",\"#FECB52\"],\"font\":{\"color\":\"#2a3f5f\"},\"hovermode\":\"closest\",\"hoverlabel\":{\"align\":\"left\"},\"paper_bgcolor\":\"white\",\"plot_bgcolor\":\"#E5ECF6\",\"polar\":{\"bgcolor\":\"#E5ECF6\",\"angularaxis\":{\"gridcolor\":\"white\",\"linecolor\":\"white\",\"ticks\":\"\"},\"radialaxis\":{\"gridcolor\":\"white\",\"linecolor\":\"white\",\"ticks\":\"\"}},\"ternary\":{\"bgcolor\":\"#E5ECF6\",\"aaxis\":{\"gridcolor\":\"white\",\"linecolor\":\"white\",\"ticks\":\"\"},\"baxis\":{\"gridcolor\":\"white\",\"linecolor\":\"white\",\"ticks\":\"\"},\"caxis\":{\"gridcolor\":\"white\",\"linecolor\":\"white\",\"ticks\":\"\"}},\"coloraxis\":{\"colorbar\":{\"outlinewidth\":0,\"ticks\":\"\"}},\"colorscale\":{\"sequential\":[[0.0,\"#0d0887\"],[0.1111111111111111,\"#46039f\"],[0.2222222222222222,\"#7201a8\"],[0.3333333333333333,\"#9c179e\"],[0.4444444444444444,\"#bd3786\"],[0.5555555555555556,\"#d8576b\"],[0.6666666666666666,\"#ed7953\"],[0.7777777777777778,\"#fb9f3a\"],[0.8888888888888888,\"#fdca26\"],[1.0,\"#f0f921\"]],\"sequentialminus\":[[0.0,\"#0d0887\"],[0.1111111111111111,\"#46039f\"],[0.2222222222222222,\"#7201a8\"],[0.3333333333333333,\"#9c179e\"],[0.4444444444444444,\"#bd3786\"],[0.5555555555555556,\"#d8576b\"],[0.6666666666666666,\"#ed7953\"],[0.7777777777777778,\"#fb9f3a\"],[0.8888888888888888,\"#fdca26\"],[1.0,\"#f0f921\"]],\"diverging\":[[0,\"#8e0152\"],[0.1,\"#c51b7d\"],[0.2,\"#de77ae\"],[0.3,\"#f1b6da\"],[0.4,\"#fde0ef\"],[0.5,\"#f7f7f7\"],[0.6,\"#e6f5d0\"],[0.7,\"#b8e186\"],[0.8,\"#7fbc41\"],[0.9,\"#4d9221\"],[1,\"#276419\"]]},\"xaxis\":{\"gridcolor\":\"white\",\"linecolor\":\"white\",\"ticks\":\"\",\"title\":{\"standoff\":15},\"zerolinecolor\":\"white\",\"automargin\":true,\"zerolinewidth\":2},\"yaxis\":{\"gridcolor\":\"white\",\"linecolor\":\"white\",\"ticks\":\"\",\"title\":{\"standoff\":15},\"zerolinecolor\":\"white\",\"automargin\":true,\"zerolinewidth\":2},\"scene\":{\"xaxis\":{\"backgroundcolor\":\"#E5ECF6\",\"gridcolor\":\"white\",\"linecolor\":\"white\",\"showbackground\":true,\"ticks\":\"\",\"zerolinecolor\":\"white\",\"gridwidth\":2},\"yaxis\":{\"backgroundcolor\":\"#E5ECF6\",\"gridcolor\":\"white\",\"linecolor\":\"white\",\"showbackground\":true,\"ticks\":\"\",\"zerolinecolor\":\"white\",\"gridwidth\":2},\"zaxis\":{\"backgroundcolor\":\"#E5ECF6\",\"gridcolor\":\"white\",\"linecolor\":\"white\",\"showbackground\":true,\"ticks\":\"\",\"zerolinecolor\":\"white\",\"gridwidth\":2}},\"shapedefaults\":{\"line\":{\"color\":\"#2a3f5f\"}},\"annotationdefaults\":{\"arrowcolor\":\"#2a3f5f\",\"arrowhead\":0,\"arrowwidth\":1},\"geo\":{\"bgcolor\":\"white\",\"landcolor\":\"#E5ECF6\",\"subunitcolor\":\"white\",\"showland\":true,\"showlakes\":true,\"lakecolor\":\"white\"},\"title\":{\"x\":0.05},\"mapbox\":{\"style\":\"light\"}}},\"xaxis\":{\"anchor\":\"y\",\"domain\":[0.0,1.0],\"title\":{\"text\":\"Outcome of Incident\"},\"categoryorder\":\"array\",\"categoryarray\":[\"Total number of Accidents\",\"Total Injured\",\"Minor Injury\",\"Greviously Injured\",\"Persons Killed\"]},\"yaxis\":{\"anchor\":\"x\",\"domain\":[0.0,1.0],\"title\":{\"text\":\"Count\"}},\"legend\":{\"title\":{\"text\":\"Outcome of Incident\"},\"tracegroupgap\":0},\"title\":{\"text\":\"OutCome vs Number of Incident\"},\"barmode\":\"relative\"},                        {\"responsive\": true}                    ).then(function(){\n",
              "                            \n",
              "var gd = document.getElementById('37da98f0-ec71-4087-9fb8-a73986a9d196');\n",
              "var x = new MutationObserver(function (mutations, observer) {{\n",
              "        var display = window.getComputedStyle(gd).display;\n",
              "        if (!display || display === 'none') {{\n",
              "            console.log([gd, 'removed!']);\n",
              "            Plotly.purge(gd);\n",
              "            observer.disconnect();\n",
              "        }}\n",
              "}});\n",
              "\n",
              "// Listen for the removal of the full notebook cells\n",
              "var notebookContainer = gd.closest('#notebook-container');\n",
              "if (notebookContainer) {{\n",
              "    x.observe(notebookContainer, {childList: true});\n",
              "}}\n",
              "\n",
              "// Listen for the clearing of the current output cell\n",
              "var outputEl = gd.closest('.output');\n",
              "if (outputEl) {{\n",
              "    x.observe(outputEl, {childList: true});\n",
              "}}\n",
              "\n",
              "                        })                };                            </script>        </div>\n",
              "</body>\n",
              "</html>"
            ]
          },
          "metadata": {}
        }
      ]
    },
    {
      "cell_type": "code",
      "source": [
        "injured_data = data[data['Outcome of Incident']=='Greviously Injured']\n",
        "injuries_by_cities = injured_data.groupby('Million Plus Cities')['Count'].sum().sort_values(ascending=False).reset_index()\n",
        "print(injuries_by_cities.head(5))\n",
        "print(injuries_by_cities.tail(5))"
      ],
      "metadata": {
        "colab": {
          "base_uri": "https://localhost:8080/"
        },
        "id": "O-t9tmqKDXDk",
        "outputId": "599a307d-52b3-4345-dfe8-3d6c0251e04b"
      },
      "execution_count": 16,
      "outputs": [
        {
          "output_type": "stream",
          "name": "stdout",
          "text": [
            "  Million Plus Cities  Count\n",
            "0           Bengaluru  10242\n",
            "1          Mallapuram   8208\n",
            "2              Mumbai   7782\n",
            "3              Kollam   7236\n",
            "4               Kochi   6732\n",
            "   Million Plus Cities  Count\n",
            "45             Jodhpur    198\n",
            "46              Meerut    162\n",
            "47          Chandigarh     84\n",
            "48            Srinagar      0\n",
            "49      Tiruchirapalli      0\n"
          ]
        }
      ]
    },
    {
      "cell_type": "code",
      "source": [
        "top_five_cities = injuries_by_cities.head(5)\n",
        "px.bar(top_five_cities,x=\"Million Plus Cities\",y=\"Count\",color=\"Million Plus Cities\",title=\"Top Five Cities with Highest Number of Greviously Injured\")"
      ],
      "metadata": {
        "colab": {
          "base_uri": "https://localhost:8080/",
          "height": 542
        },
        "id": "wmMwJWRjDdxT",
        "outputId": "51cf8c0e-bf9b-4e57-a294-b1b35e939041"
      },
      "execution_count": 17,
      "outputs": [
        {
          "output_type": "display_data",
          "data": {
            "text/html": [
              "<html>\n",
              "<head><meta charset=\"utf-8\" /></head>\n",
              "<body>\n",
              "    <div>            <script src=\"https://cdnjs.cloudflare.com/ajax/libs/mathjax/2.7.5/MathJax.js?config=TeX-AMS-MML_SVG\"></script><script type=\"text/javascript\">if (window.MathJax && window.MathJax.Hub && window.MathJax.Hub.Config) {window.MathJax.Hub.Config({SVG: {font: \"STIX-Web\"}});}</script>                <script type=\"text/javascript\">window.PlotlyConfig = {MathJaxConfig: 'local'};</script>\n",
              "        <script charset=\"utf-8\" src=\"https://cdn.plot.ly/plotly-2.24.1.min.js\"></script>                <div id=\"a3ec8dfb-c56b-4d62-b606-1abd36bcde56\" class=\"plotly-graph-div\" style=\"height:525px; width:100%;\"></div>            <script type=\"text/javascript\">                                    window.PLOTLYENV=window.PLOTLYENV || {};                                    if (document.getElementById(\"a3ec8dfb-c56b-4d62-b606-1abd36bcde56\")) {                    Plotly.newPlot(                        \"a3ec8dfb-c56b-4d62-b606-1abd36bcde56\",                        [{\"alignmentgroup\":\"True\",\"hovertemplate\":\"Million Plus Cities=%{x}\\u003cbr\\u003eCount=%{y}\\u003cextra\\u003e\\u003c\\u002fextra\\u003e\",\"legendgroup\":\"Bengaluru\",\"marker\":{\"color\":\"#636efa\",\"pattern\":{\"shape\":\"\"}},\"name\":\"Bengaluru\",\"offsetgroup\":\"Bengaluru\",\"orientation\":\"v\",\"showlegend\":true,\"textposition\":\"auto\",\"x\":[\"Bengaluru\"],\"xaxis\":\"x\",\"y\":[10242],\"yaxis\":\"y\",\"type\":\"bar\"},{\"alignmentgroup\":\"True\",\"hovertemplate\":\"Million Plus Cities=%{x}\\u003cbr\\u003eCount=%{y}\\u003cextra\\u003e\\u003c\\u002fextra\\u003e\",\"legendgroup\":\"Mallapuram\",\"marker\":{\"color\":\"#EF553B\",\"pattern\":{\"shape\":\"\"}},\"name\":\"Mallapuram\",\"offsetgroup\":\"Mallapuram\",\"orientation\":\"v\",\"showlegend\":true,\"textposition\":\"auto\",\"x\":[\"Mallapuram\"],\"xaxis\":\"x\",\"y\":[8208],\"yaxis\":\"y\",\"type\":\"bar\"},{\"alignmentgroup\":\"True\",\"hovertemplate\":\"Million Plus Cities=%{x}\\u003cbr\\u003eCount=%{y}\\u003cextra\\u003e\\u003c\\u002fextra\\u003e\",\"legendgroup\":\"Mumbai\",\"marker\":{\"color\":\"#00cc96\",\"pattern\":{\"shape\":\"\"}},\"name\":\"Mumbai\",\"offsetgroup\":\"Mumbai\",\"orientation\":\"v\",\"showlegend\":true,\"textposition\":\"auto\",\"x\":[\"Mumbai\"],\"xaxis\":\"x\",\"y\":[7782],\"yaxis\":\"y\",\"type\":\"bar\"},{\"alignmentgroup\":\"True\",\"hovertemplate\":\"Million Plus Cities=%{x}\\u003cbr\\u003eCount=%{y}\\u003cextra\\u003e\\u003c\\u002fextra\\u003e\",\"legendgroup\":\"Kollam\",\"marker\":{\"color\":\"#ab63fa\",\"pattern\":{\"shape\":\"\"}},\"name\":\"Kollam\",\"offsetgroup\":\"Kollam\",\"orientation\":\"v\",\"showlegend\":true,\"textposition\":\"auto\",\"x\":[\"Kollam\"],\"xaxis\":\"x\",\"y\":[7236],\"yaxis\":\"y\",\"type\":\"bar\"},{\"alignmentgroup\":\"True\",\"hovertemplate\":\"Million Plus Cities=%{x}\\u003cbr\\u003eCount=%{y}\\u003cextra\\u003e\\u003c\\u002fextra\\u003e\",\"legendgroup\":\"Kochi\",\"marker\":{\"color\":\"#FFA15A\",\"pattern\":{\"shape\":\"\"}},\"name\":\"Kochi\",\"offsetgroup\":\"Kochi\",\"orientation\":\"v\",\"showlegend\":true,\"textposition\":\"auto\",\"x\":[\"Kochi\"],\"xaxis\":\"x\",\"y\":[6732],\"yaxis\":\"y\",\"type\":\"bar\"}],                        {\"template\":{\"data\":{\"histogram2dcontour\":[{\"type\":\"histogram2dcontour\",\"colorbar\":{\"outlinewidth\":0,\"ticks\":\"\"},\"colorscale\":[[0.0,\"#0d0887\"],[0.1111111111111111,\"#46039f\"],[0.2222222222222222,\"#7201a8\"],[0.3333333333333333,\"#9c179e\"],[0.4444444444444444,\"#bd3786\"],[0.5555555555555556,\"#d8576b\"],[0.6666666666666666,\"#ed7953\"],[0.7777777777777778,\"#fb9f3a\"],[0.8888888888888888,\"#fdca26\"],[1.0,\"#f0f921\"]]}],\"choropleth\":[{\"type\":\"choropleth\",\"colorbar\":{\"outlinewidth\":0,\"ticks\":\"\"}}],\"histogram2d\":[{\"type\":\"histogram2d\",\"colorbar\":{\"outlinewidth\":0,\"ticks\":\"\"},\"colorscale\":[[0.0,\"#0d0887\"],[0.1111111111111111,\"#46039f\"],[0.2222222222222222,\"#7201a8\"],[0.3333333333333333,\"#9c179e\"],[0.4444444444444444,\"#bd3786\"],[0.5555555555555556,\"#d8576b\"],[0.6666666666666666,\"#ed7953\"],[0.7777777777777778,\"#fb9f3a\"],[0.8888888888888888,\"#fdca26\"],[1.0,\"#f0f921\"]]}],\"heatmap\":[{\"type\":\"heatmap\",\"colorbar\":{\"outlinewidth\":0,\"ticks\":\"\"},\"colorscale\":[[0.0,\"#0d0887\"],[0.1111111111111111,\"#46039f\"],[0.2222222222222222,\"#7201a8\"],[0.3333333333333333,\"#9c179e\"],[0.4444444444444444,\"#bd3786\"],[0.5555555555555556,\"#d8576b\"],[0.6666666666666666,\"#ed7953\"],[0.7777777777777778,\"#fb9f3a\"],[0.8888888888888888,\"#fdca26\"],[1.0,\"#f0f921\"]]}],\"heatmapgl\":[{\"type\":\"heatmapgl\",\"colorbar\":{\"outlinewidth\":0,\"ticks\":\"\"},\"colorscale\":[[0.0,\"#0d0887\"],[0.1111111111111111,\"#46039f\"],[0.2222222222222222,\"#7201a8\"],[0.3333333333333333,\"#9c179e\"],[0.4444444444444444,\"#bd3786\"],[0.5555555555555556,\"#d8576b\"],[0.6666666666666666,\"#ed7953\"],[0.7777777777777778,\"#fb9f3a\"],[0.8888888888888888,\"#fdca26\"],[1.0,\"#f0f921\"]]}],\"contourcarpet\":[{\"type\":\"contourcarpet\",\"colorbar\":{\"outlinewidth\":0,\"ticks\":\"\"}}],\"contour\":[{\"type\":\"contour\",\"colorbar\":{\"outlinewidth\":0,\"ticks\":\"\"},\"colorscale\":[[0.0,\"#0d0887\"],[0.1111111111111111,\"#46039f\"],[0.2222222222222222,\"#7201a8\"],[0.3333333333333333,\"#9c179e\"],[0.4444444444444444,\"#bd3786\"],[0.5555555555555556,\"#d8576b\"],[0.6666666666666666,\"#ed7953\"],[0.7777777777777778,\"#fb9f3a\"],[0.8888888888888888,\"#fdca26\"],[1.0,\"#f0f921\"]]}],\"surface\":[{\"type\":\"surface\",\"colorbar\":{\"outlinewidth\":0,\"ticks\":\"\"},\"colorscale\":[[0.0,\"#0d0887\"],[0.1111111111111111,\"#46039f\"],[0.2222222222222222,\"#7201a8\"],[0.3333333333333333,\"#9c179e\"],[0.4444444444444444,\"#bd3786\"],[0.5555555555555556,\"#d8576b\"],[0.6666666666666666,\"#ed7953\"],[0.7777777777777778,\"#fb9f3a\"],[0.8888888888888888,\"#fdca26\"],[1.0,\"#f0f921\"]]}],\"mesh3d\":[{\"type\":\"mesh3d\",\"colorbar\":{\"outlinewidth\":0,\"ticks\":\"\"}}],\"scatter\":[{\"fillpattern\":{\"fillmode\":\"overlay\",\"size\":10,\"solidity\":0.2},\"type\":\"scatter\"}],\"parcoords\":[{\"type\":\"parcoords\",\"line\":{\"colorbar\":{\"outlinewidth\":0,\"ticks\":\"\"}}}],\"scatterpolargl\":[{\"type\":\"scatterpolargl\",\"marker\":{\"colorbar\":{\"outlinewidth\":0,\"ticks\":\"\"}}}],\"bar\":[{\"error_x\":{\"color\":\"#2a3f5f\"},\"error_y\":{\"color\":\"#2a3f5f\"},\"marker\":{\"line\":{\"color\":\"#E5ECF6\",\"width\":0.5},\"pattern\":{\"fillmode\":\"overlay\",\"size\":10,\"solidity\":0.2}},\"type\":\"bar\"}],\"scattergeo\":[{\"type\":\"scattergeo\",\"marker\":{\"colorbar\":{\"outlinewidth\":0,\"ticks\":\"\"}}}],\"scatterpolar\":[{\"type\":\"scatterpolar\",\"marker\":{\"colorbar\":{\"outlinewidth\":0,\"ticks\":\"\"}}}],\"histogram\":[{\"marker\":{\"pattern\":{\"fillmode\":\"overlay\",\"size\":10,\"solidity\":0.2}},\"type\":\"histogram\"}],\"scattergl\":[{\"type\":\"scattergl\",\"marker\":{\"colorbar\":{\"outlinewidth\":0,\"ticks\":\"\"}}}],\"scatter3d\":[{\"type\":\"scatter3d\",\"line\":{\"colorbar\":{\"outlinewidth\":0,\"ticks\":\"\"}},\"marker\":{\"colorbar\":{\"outlinewidth\":0,\"ticks\":\"\"}}}],\"scattermapbox\":[{\"type\":\"scattermapbox\",\"marker\":{\"colorbar\":{\"outlinewidth\":0,\"ticks\":\"\"}}}],\"scatterternary\":[{\"type\":\"scatterternary\",\"marker\":{\"colorbar\":{\"outlinewidth\":0,\"ticks\":\"\"}}}],\"scattercarpet\":[{\"type\":\"scattercarpet\",\"marker\":{\"colorbar\":{\"outlinewidth\":0,\"ticks\":\"\"}}}],\"carpet\":[{\"aaxis\":{\"endlinecolor\":\"#2a3f5f\",\"gridcolor\":\"white\",\"linecolor\":\"white\",\"minorgridcolor\":\"white\",\"startlinecolor\":\"#2a3f5f\"},\"baxis\":{\"endlinecolor\":\"#2a3f5f\",\"gridcolor\":\"white\",\"linecolor\":\"white\",\"minorgridcolor\":\"white\",\"startlinecolor\":\"#2a3f5f\"},\"type\":\"carpet\"}],\"table\":[{\"cells\":{\"fill\":{\"color\":\"#EBF0F8\"},\"line\":{\"color\":\"white\"}},\"header\":{\"fill\":{\"color\":\"#C8D4E3\"},\"line\":{\"color\":\"white\"}},\"type\":\"table\"}],\"barpolar\":[{\"marker\":{\"line\":{\"color\":\"#E5ECF6\",\"width\":0.5},\"pattern\":{\"fillmode\":\"overlay\",\"size\":10,\"solidity\":0.2}},\"type\":\"barpolar\"}],\"pie\":[{\"automargin\":true,\"type\":\"pie\"}]},\"layout\":{\"autotypenumbers\":\"strict\",\"colorway\":[\"#636efa\",\"#EF553B\",\"#00cc96\",\"#ab63fa\",\"#FFA15A\",\"#19d3f3\",\"#FF6692\",\"#B6E880\",\"#FF97FF\",\"#FECB52\"],\"font\":{\"color\":\"#2a3f5f\"},\"hovermode\":\"closest\",\"hoverlabel\":{\"align\":\"left\"},\"paper_bgcolor\":\"white\",\"plot_bgcolor\":\"#E5ECF6\",\"polar\":{\"bgcolor\":\"#E5ECF6\",\"angularaxis\":{\"gridcolor\":\"white\",\"linecolor\":\"white\",\"ticks\":\"\"},\"radialaxis\":{\"gridcolor\":\"white\",\"linecolor\":\"white\",\"ticks\":\"\"}},\"ternary\":{\"bgcolor\":\"#E5ECF6\",\"aaxis\":{\"gridcolor\":\"white\",\"linecolor\":\"white\",\"ticks\":\"\"},\"baxis\":{\"gridcolor\":\"white\",\"linecolor\":\"white\",\"ticks\":\"\"},\"caxis\":{\"gridcolor\":\"white\",\"linecolor\":\"white\",\"ticks\":\"\"}},\"coloraxis\":{\"colorbar\":{\"outlinewidth\":0,\"ticks\":\"\"}},\"colorscale\":{\"sequential\":[[0.0,\"#0d0887\"],[0.1111111111111111,\"#46039f\"],[0.2222222222222222,\"#7201a8\"],[0.3333333333333333,\"#9c179e\"],[0.4444444444444444,\"#bd3786\"],[0.5555555555555556,\"#d8576b\"],[0.6666666666666666,\"#ed7953\"],[0.7777777777777778,\"#fb9f3a\"],[0.8888888888888888,\"#fdca26\"],[1.0,\"#f0f921\"]],\"sequentialminus\":[[0.0,\"#0d0887\"],[0.1111111111111111,\"#46039f\"],[0.2222222222222222,\"#7201a8\"],[0.3333333333333333,\"#9c179e\"],[0.4444444444444444,\"#bd3786\"],[0.5555555555555556,\"#d8576b\"],[0.6666666666666666,\"#ed7953\"],[0.7777777777777778,\"#fb9f3a\"],[0.8888888888888888,\"#fdca26\"],[1.0,\"#f0f921\"]],\"diverging\":[[0,\"#8e0152\"],[0.1,\"#c51b7d\"],[0.2,\"#de77ae\"],[0.3,\"#f1b6da\"],[0.4,\"#fde0ef\"],[0.5,\"#f7f7f7\"],[0.6,\"#e6f5d0\"],[0.7,\"#b8e186\"],[0.8,\"#7fbc41\"],[0.9,\"#4d9221\"],[1,\"#276419\"]]},\"xaxis\":{\"gridcolor\":\"white\",\"linecolor\":\"white\",\"ticks\":\"\",\"title\":{\"standoff\":15},\"zerolinecolor\":\"white\",\"automargin\":true,\"zerolinewidth\":2},\"yaxis\":{\"gridcolor\":\"white\",\"linecolor\":\"white\",\"ticks\":\"\",\"title\":{\"standoff\":15},\"zerolinecolor\":\"white\",\"automargin\":true,\"zerolinewidth\":2},\"scene\":{\"xaxis\":{\"backgroundcolor\":\"#E5ECF6\",\"gridcolor\":\"white\",\"linecolor\":\"white\",\"showbackground\":true,\"ticks\":\"\",\"zerolinecolor\":\"white\",\"gridwidth\":2},\"yaxis\":{\"backgroundcolor\":\"#E5ECF6\",\"gridcolor\":\"white\",\"linecolor\":\"white\",\"showbackground\":true,\"ticks\":\"\",\"zerolinecolor\":\"white\",\"gridwidth\":2},\"zaxis\":{\"backgroundcolor\":\"#E5ECF6\",\"gridcolor\":\"white\",\"linecolor\":\"white\",\"showbackground\":true,\"ticks\":\"\",\"zerolinecolor\":\"white\",\"gridwidth\":2}},\"shapedefaults\":{\"line\":{\"color\":\"#2a3f5f\"}},\"annotationdefaults\":{\"arrowcolor\":\"#2a3f5f\",\"arrowhead\":0,\"arrowwidth\":1},\"geo\":{\"bgcolor\":\"white\",\"landcolor\":\"#E5ECF6\",\"subunitcolor\":\"white\",\"showland\":true,\"showlakes\":true,\"lakecolor\":\"white\"},\"title\":{\"x\":0.05},\"mapbox\":{\"style\":\"light\"}}},\"xaxis\":{\"anchor\":\"y\",\"domain\":[0.0,1.0],\"title\":{\"text\":\"Million Plus Cities\"},\"categoryorder\":\"array\",\"categoryarray\":[\"Bengaluru\",\"Mallapuram\",\"Mumbai\",\"Kollam\",\"Kochi\"]},\"yaxis\":{\"anchor\":\"x\",\"domain\":[0.0,1.0],\"title\":{\"text\":\"Count\"}},\"legend\":{\"title\":{\"text\":\"Million Plus Cities\"},\"tracegroupgap\":0},\"title\":{\"text\":\"Top Five Cities with Highest Number of Greviously Injured\"},\"barmode\":\"relative\"},                        {\"responsive\": true}                    ).then(function(){\n",
              "                            \n",
              "var gd = document.getElementById('a3ec8dfb-c56b-4d62-b606-1abd36bcde56');\n",
              "var x = new MutationObserver(function (mutations, observer) {{\n",
              "        var display = window.getComputedStyle(gd).display;\n",
              "        if (!display || display === 'none') {{\n",
              "            console.log([gd, 'removed!']);\n",
              "            Plotly.purge(gd);\n",
              "            observer.disconnect();\n",
              "        }}\n",
              "}});\n",
              "\n",
              "// Listen for the removal of the full notebook cells\n",
              "var notebookContainer = gd.closest('#notebook-container');\n",
              "if (notebookContainer) {{\n",
              "    x.observe(notebookContainer, {childList: true});\n",
              "}}\n",
              "\n",
              "// Listen for the clearing of the current output cell\n",
              "var outputEl = gd.closest('.output');\n",
              "if (outputEl) {{\n",
              "    x.observe(outputEl, {childList: true});\n",
              "}}\n",
              "\n",
              "                        })                };                            </script>        </div>\n",
              "</body>\n",
              "</html>"
            ]
          },
          "metadata": {}
        }
      ]
    },
    {
      "cell_type": "code",
      "source": [
        "top_five_cities = injuries_by_cities.tail(5)\n",
        "px.bar(top_five_cities,x=\"Million Plus Cities\",y=\"Count\",color=\"Million Plus Cities\",title=\"Top Five Cities with lowest Number of Greviously Injured\")"
      ],
      "metadata": {
        "colab": {
          "base_uri": "https://localhost:8080/",
          "height": 542
        },
        "id": "0_QguacnDlQ5",
        "outputId": "1ba70fcc-2d34-4dc2-a964-35823c288db6"
      },
      "execution_count": 18,
      "outputs": [
        {
          "output_type": "display_data",
          "data": {
            "text/html": [
              "<html>\n",
              "<head><meta charset=\"utf-8\" /></head>\n",
              "<body>\n",
              "    <div>            <script src=\"https://cdnjs.cloudflare.com/ajax/libs/mathjax/2.7.5/MathJax.js?config=TeX-AMS-MML_SVG\"></script><script type=\"text/javascript\">if (window.MathJax && window.MathJax.Hub && window.MathJax.Hub.Config) {window.MathJax.Hub.Config({SVG: {font: \"STIX-Web\"}});}</script>                <script type=\"text/javascript\">window.PlotlyConfig = {MathJaxConfig: 'local'};</script>\n",
              "        <script charset=\"utf-8\" src=\"https://cdn.plot.ly/plotly-2.24.1.min.js\"></script>                <div id=\"44fd3b5d-fa8e-4c2b-aebf-baa04a058d9f\" class=\"plotly-graph-div\" style=\"height:525px; width:100%;\"></div>            <script type=\"text/javascript\">                                    window.PLOTLYENV=window.PLOTLYENV || {};                                    if (document.getElementById(\"44fd3b5d-fa8e-4c2b-aebf-baa04a058d9f\")) {                    Plotly.newPlot(                        \"44fd3b5d-fa8e-4c2b-aebf-baa04a058d9f\",                        [{\"alignmentgroup\":\"True\",\"hovertemplate\":\"Million Plus Cities=%{x}\\u003cbr\\u003eCount=%{y}\\u003cextra\\u003e\\u003c\\u002fextra\\u003e\",\"legendgroup\":\"Jodhpur\",\"marker\":{\"color\":\"#636efa\",\"pattern\":{\"shape\":\"\"}},\"name\":\"Jodhpur\",\"offsetgroup\":\"Jodhpur\",\"orientation\":\"v\",\"showlegend\":true,\"textposition\":\"auto\",\"x\":[\"Jodhpur\"],\"xaxis\":\"x\",\"y\":[198],\"yaxis\":\"y\",\"type\":\"bar\"},{\"alignmentgroup\":\"True\",\"hovertemplate\":\"Million Plus Cities=%{x}\\u003cbr\\u003eCount=%{y}\\u003cextra\\u003e\\u003c\\u002fextra\\u003e\",\"legendgroup\":\"Meerut\",\"marker\":{\"color\":\"#EF553B\",\"pattern\":{\"shape\":\"\"}},\"name\":\"Meerut\",\"offsetgroup\":\"Meerut\",\"orientation\":\"v\",\"showlegend\":true,\"textposition\":\"auto\",\"x\":[\"Meerut\"],\"xaxis\":\"x\",\"y\":[162],\"yaxis\":\"y\",\"type\":\"bar\"},{\"alignmentgroup\":\"True\",\"hovertemplate\":\"Million Plus Cities=%{x}\\u003cbr\\u003eCount=%{y}\\u003cextra\\u003e\\u003c\\u002fextra\\u003e\",\"legendgroup\":\"Chandigarh\",\"marker\":{\"color\":\"#00cc96\",\"pattern\":{\"shape\":\"\"}},\"name\":\"Chandigarh\",\"offsetgroup\":\"Chandigarh\",\"orientation\":\"v\",\"showlegend\":true,\"textposition\":\"auto\",\"x\":[\"Chandigarh\"],\"xaxis\":\"x\",\"y\":[84],\"yaxis\":\"y\",\"type\":\"bar\"},{\"alignmentgroup\":\"True\",\"hovertemplate\":\"Million Plus Cities=%{x}\\u003cbr\\u003eCount=%{y}\\u003cextra\\u003e\\u003c\\u002fextra\\u003e\",\"legendgroup\":\"Srinagar\",\"marker\":{\"color\":\"#ab63fa\",\"pattern\":{\"shape\":\"\"}},\"name\":\"Srinagar\",\"offsetgroup\":\"Srinagar\",\"orientation\":\"v\",\"showlegend\":true,\"textposition\":\"auto\",\"x\":[\"Srinagar\"],\"xaxis\":\"x\",\"y\":[0],\"yaxis\":\"y\",\"type\":\"bar\"},{\"alignmentgroup\":\"True\",\"hovertemplate\":\"Million Plus Cities=%{x}\\u003cbr\\u003eCount=%{y}\\u003cextra\\u003e\\u003c\\u002fextra\\u003e\",\"legendgroup\":\"Tiruchirapalli\",\"marker\":{\"color\":\"#FFA15A\",\"pattern\":{\"shape\":\"\"}},\"name\":\"Tiruchirapalli\",\"offsetgroup\":\"Tiruchirapalli\",\"orientation\":\"v\",\"showlegend\":true,\"textposition\":\"auto\",\"x\":[\"Tiruchirapalli\"],\"xaxis\":\"x\",\"y\":[0],\"yaxis\":\"y\",\"type\":\"bar\"}],                        {\"template\":{\"data\":{\"histogram2dcontour\":[{\"type\":\"histogram2dcontour\",\"colorbar\":{\"outlinewidth\":0,\"ticks\":\"\"},\"colorscale\":[[0.0,\"#0d0887\"],[0.1111111111111111,\"#46039f\"],[0.2222222222222222,\"#7201a8\"],[0.3333333333333333,\"#9c179e\"],[0.4444444444444444,\"#bd3786\"],[0.5555555555555556,\"#d8576b\"],[0.6666666666666666,\"#ed7953\"],[0.7777777777777778,\"#fb9f3a\"],[0.8888888888888888,\"#fdca26\"],[1.0,\"#f0f921\"]]}],\"choropleth\":[{\"type\":\"choropleth\",\"colorbar\":{\"outlinewidth\":0,\"ticks\":\"\"}}],\"histogram2d\":[{\"type\":\"histogram2d\",\"colorbar\":{\"outlinewidth\":0,\"ticks\":\"\"},\"colorscale\":[[0.0,\"#0d0887\"],[0.1111111111111111,\"#46039f\"],[0.2222222222222222,\"#7201a8\"],[0.3333333333333333,\"#9c179e\"],[0.4444444444444444,\"#bd3786\"],[0.5555555555555556,\"#d8576b\"],[0.6666666666666666,\"#ed7953\"],[0.7777777777777778,\"#fb9f3a\"],[0.8888888888888888,\"#fdca26\"],[1.0,\"#f0f921\"]]}],\"heatmap\":[{\"type\":\"heatmap\",\"colorbar\":{\"outlinewidth\":0,\"ticks\":\"\"},\"colorscale\":[[0.0,\"#0d0887\"],[0.1111111111111111,\"#46039f\"],[0.2222222222222222,\"#7201a8\"],[0.3333333333333333,\"#9c179e\"],[0.4444444444444444,\"#bd3786\"],[0.5555555555555556,\"#d8576b\"],[0.6666666666666666,\"#ed7953\"],[0.7777777777777778,\"#fb9f3a\"],[0.8888888888888888,\"#fdca26\"],[1.0,\"#f0f921\"]]}],\"heatmapgl\":[{\"type\":\"heatmapgl\",\"colorbar\":{\"outlinewidth\":0,\"ticks\":\"\"},\"colorscale\":[[0.0,\"#0d0887\"],[0.1111111111111111,\"#46039f\"],[0.2222222222222222,\"#7201a8\"],[0.3333333333333333,\"#9c179e\"],[0.4444444444444444,\"#bd3786\"],[0.5555555555555556,\"#d8576b\"],[0.6666666666666666,\"#ed7953\"],[0.7777777777777778,\"#fb9f3a\"],[0.8888888888888888,\"#fdca26\"],[1.0,\"#f0f921\"]]}],\"contourcarpet\":[{\"type\":\"contourcarpet\",\"colorbar\":{\"outlinewidth\":0,\"ticks\":\"\"}}],\"contour\":[{\"type\":\"contour\",\"colorbar\":{\"outlinewidth\":0,\"ticks\":\"\"},\"colorscale\":[[0.0,\"#0d0887\"],[0.1111111111111111,\"#46039f\"],[0.2222222222222222,\"#7201a8\"],[0.3333333333333333,\"#9c179e\"],[0.4444444444444444,\"#bd3786\"],[0.5555555555555556,\"#d8576b\"],[0.6666666666666666,\"#ed7953\"],[0.7777777777777778,\"#fb9f3a\"],[0.8888888888888888,\"#fdca26\"],[1.0,\"#f0f921\"]]}],\"surface\":[{\"type\":\"surface\",\"colorbar\":{\"outlinewidth\":0,\"ticks\":\"\"},\"colorscale\":[[0.0,\"#0d0887\"],[0.1111111111111111,\"#46039f\"],[0.2222222222222222,\"#7201a8\"],[0.3333333333333333,\"#9c179e\"],[0.4444444444444444,\"#bd3786\"],[0.5555555555555556,\"#d8576b\"],[0.6666666666666666,\"#ed7953\"],[0.7777777777777778,\"#fb9f3a\"],[0.8888888888888888,\"#fdca26\"],[1.0,\"#f0f921\"]]}],\"mesh3d\":[{\"type\":\"mesh3d\",\"colorbar\":{\"outlinewidth\":0,\"ticks\":\"\"}}],\"scatter\":[{\"fillpattern\":{\"fillmode\":\"overlay\",\"size\":10,\"solidity\":0.2},\"type\":\"scatter\"}],\"parcoords\":[{\"type\":\"parcoords\",\"line\":{\"colorbar\":{\"outlinewidth\":0,\"ticks\":\"\"}}}],\"scatterpolargl\":[{\"type\":\"scatterpolargl\",\"marker\":{\"colorbar\":{\"outlinewidth\":0,\"ticks\":\"\"}}}],\"bar\":[{\"error_x\":{\"color\":\"#2a3f5f\"},\"error_y\":{\"color\":\"#2a3f5f\"},\"marker\":{\"line\":{\"color\":\"#E5ECF6\",\"width\":0.5},\"pattern\":{\"fillmode\":\"overlay\",\"size\":10,\"solidity\":0.2}},\"type\":\"bar\"}],\"scattergeo\":[{\"type\":\"scattergeo\",\"marker\":{\"colorbar\":{\"outlinewidth\":0,\"ticks\":\"\"}}}],\"scatterpolar\":[{\"type\":\"scatterpolar\",\"marker\":{\"colorbar\":{\"outlinewidth\":0,\"ticks\":\"\"}}}],\"histogram\":[{\"marker\":{\"pattern\":{\"fillmode\":\"overlay\",\"size\":10,\"solidity\":0.2}},\"type\":\"histogram\"}],\"scattergl\":[{\"type\":\"scattergl\",\"marker\":{\"colorbar\":{\"outlinewidth\":0,\"ticks\":\"\"}}}],\"scatter3d\":[{\"type\":\"scatter3d\",\"line\":{\"colorbar\":{\"outlinewidth\":0,\"ticks\":\"\"}},\"marker\":{\"colorbar\":{\"outlinewidth\":0,\"ticks\":\"\"}}}],\"scattermapbox\":[{\"type\":\"scattermapbox\",\"marker\":{\"colorbar\":{\"outlinewidth\":0,\"ticks\":\"\"}}}],\"scatterternary\":[{\"type\":\"scatterternary\",\"marker\":{\"colorbar\":{\"outlinewidth\":0,\"ticks\":\"\"}}}],\"scattercarpet\":[{\"type\":\"scattercarpet\",\"marker\":{\"colorbar\":{\"outlinewidth\":0,\"ticks\":\"\"}}}],\"carpet\":[{\"aaxis\":{\"endlinecolor\":\"#2a3f5f\",\"gridcolor\":\"white\",\"linecolor\":\"white\",\"minorgridcolor\":\"white\",\"startlinecolor\":\"#2a3f5f\"},\"baxis\":{\"endlinecolor\":\"#2a3f5f\",\"gridcolor\":\"white\",\"linecolor\":\"white\",\"minorgridcolor\":\"white\",\"startlinecolor\":\"#2a3f5f\"},\"type\":\"carpet\"}],\"table\":[{\"cells\":{\"fill\":{\"color\":\"#EBF0F8\"},\"line\":{\"color\":\"white\"}},\"header\":{\"fill\":{\"color\":\"#C8D4E3\"},\"line\":{\"color\":\"white\"}},\"type\":\"table\"}],\"barpolar\":[{\"marker\":{\"line\":{\"color\":\"#E5ECF6\",\"width\":0.5},\"pattern\":{\"fillmode\":\"overlay\",\"size\":10,\"solidity\":0.2}},\"type\":\"barpolar\"}],\"pie\":[{\"automargin\":true,\"type\":\"pie\"}]},\"layout\":{\"autotypenumbers\":\"strict\",\"colorway\":[\"#636efa\",\"#EF553B\",\"#00cc96\",\"#ab63fa\",\"#FFA15A\",\"#19d3f3\",\"#FF6692\",\"#B6E880\",\"#FF97FF\",\"#FECB52\"],\"font\":{\"color\":\"#2a3f5f\"},\"hovermode\":\"closest\",\"hoverlabel\":{\"align\":\"left\"},\"paper_bgcolor\":\"white\",\"plot_bgcolor\":\"#E5ECF6\",\"polar\":{\"bgcolor\":\"#E5ECF6\",\"angularaxis\":{\"gridcolor\":\"white\",\"linecolor\":\"white\",\"ticks\":\"\"},\"radialaxis\":{\"gridcolor\":\"white\",\"linecolor\":\"white\",\"ticks\":\"\"}},\"ternary\":{\"bgcolor\":\"#E5ECF6\",\"aaxis\":{\"gridcolor\":\"white\",\"linecolor\":\"white\",\"ticks\":\"\"},\"baxis\":{\"gridcolor\":\"white\",\"linecolor\":\"white\",\"ticks\":\"\"},\"caxis\":{\"gridcolor\":\"white\",\"linecolor\":\"white\",\"ticks\":\"\"}},\"coloraxis\":{\"colorbar\":{\"outlinewidth\":0,\"ticks\":\"\"}},\"colorscale\":{\"sequential\":[[0.0,\"#0d0887\"],[0.1111111111111111,\"#46039f\"],[0.2222222222222222,\"#7201a8\"],[0.3333333333333333,\"#9c179e\"],[0.4444444444444444,\"#bd3786\"],[0.5555555555555556,\"#d8576b\"],[0.6666666666666666,\"#ed7953\"],[0.7777777777777778,\"#fb9f3a\"],[0.8888888888888888,\"#fdca26\"],[1.0,\"#f0f921\"]],\"sequentialminus\":[[0.0,\"#0d0887\"],[0.1111111111111111,\"#46039f\"],[0.2222222222222222,\"#7201a8\"],[0.3333333333333333,\"#9c179e\"],[0.4444444444444444,\"#bd3786\"],[0.5555555555555556,\"#d8576b\"],[0.6666666666666666,\"#ed7953\"],[0.7777777777777778,\"#fb9f3a\"],[0.8888888888888888,\"#fdca26\"],[1.0,\"#f0f921\"]],\"diverging\":[[0,\"#8e0152\"],[0.1,\"#c51b7d\"],[0.2,\"#de77ae\"],[0.3,\"#f1b6da\"],[0.4,\"#fde0ef\"],[0.5,\"#f7f7f7\"],[0.6,\"#e6f5d0\"],[0.7,\"#b8e186\"],[0.8,\"#7fbc41\"],[0.9,\"#4d9221\"],[1,\"#276419\"]]},\"xaxis\":{\"gridcolor\":\"white\",\"linecolor\":\"white\",\"ticks\":\"\",\"title\":{\"standoff\":15},\"zerolinecolor\":\"white\",\"automargin\":true,\"zerolinewidth\":2},\"yaxis\":{\"gridcolor\":\"white\",\"linecolor\":\"white\",\"ticks\":\"\",\"title\":{\"standoff\":15},\"zerolinecolor\":\"white\",\"automargin\":true,\"zerolinewidth\":2},\"scene\":{\"xaxis\":{\"backgroundcolor\":\"#E5ECF6\",\"gridcolor\":\"white\",\"linecolor\":\"white\",\"showbackground\":true,\"ticks\":\"\",\"zerolinecolor\":\"white\",\"gridwidth\":2},\"yaxis\":{\"backgroundcolor\":\"#E5ECF6\",\"gridcolor\":\"white\",\"linecolor\":\"white\",\"showbackground\":true,\"ticks\":\"\",\"zerolinecolor\":\"white\",\"gridwidth\":2},\"zaxis\":{\"backgroundcolor\":\"#E5ECF6\",\"gridcolor\":\"white\",\"linecolor\":\"white\",\"showbackground\":true,\"ticks\":\"\",\"zerolinecolor\":\"white\",\"gridwidth\":2}},\"shapedefaults\":{\"line\":{\"color\":\"#2a3f5f\"}},\"annotationdefaults\":{\"arrowcolor\":\"#2a3f5f\",\"arrowhead\":0,\"arrowwidth\":1},\"geo\":{\"bgcolor\":\"white\",\"landcolor\":\"#E5ECF6\",\"subunitcolor\":\"white\",\"showland\":true,\"showlakes\":true,\"lakecolor\":\"white\"},\"title\":{\"x\":0.05},\"mapbox\":{\"style\":\"light\"}}},\"xaxis\":{\"anchor\":\"y\",\"domain\":[0.0,1.0],\"title\":{\"text\":\"Million Plus Cities\"},\"categoryorder\":\"array\",\"categoryarray\":[\"Jodhpur\",\"Meerut\",\"Chandigarh\",\"Srinagar\",\"Tiruchirapalli\"]},\"yaxis\":{\"anchor\":\"x\",\"domain\":[0.0,1.0],\"title\":{\"text\":\"Count\"}},\"legend\":{\"title\":{\"text\":\"Million Plus Cities\"},\"tracegroupgap\":0},\"title\":{\"text\":\"Top Five Cities with lowest Number of Greviously Injured\"},\"barmode\":\"relative\"},                        {\"responsive\": true}                    ).then(function(){\n",
              "                            \n",
              "var gd = document.getElementById('44fd3b5d-fa8e-4c2b-aebf-baa04a058d9f');\n",
              "var x = new MutationObserver(function (mutations, observer) {{\n",
              "        var display = window.getComputedStyle(gd).display;\n",
              "        if (!display || display === 'none') {{\n",
              "            console.log([gd, 'removed!']);\n",
              "            Plotly.purge(gd);\n",
              "            observer.disconnect();\n",
              "        }}\n",
              "}});\n",
              "\n",
              "// Listen for the removal of the full notebook cells\n",
              "var notebookContainer = gd.closest('#notebook-container');\n",
              "if (notebookContainer) {{\n",
              "    x.observe(notebookContainer, {childList: true});\n",
              "}}\n",
              "\n",
              "// Listen for the clearing of the current output cell\n",
              "var outputEl = gd.closest('.output');\n",
              "if (outputEl) {{\n",
              "    x.observe(outputEl, {childList: true});\n",
              "}}\n",
              "\n",
              "                        })                };                            </script>        </div>\n",
              "</body>\n",
              "</html>"
            ]
          },
          "metadata": {}
        }
      ]
    },
    {
      "cell_type": "code",
      "source": [
        "personkilled_data = data[data[\"Outcome of Incident\"] == \"Persons Killed\"]\n",
        "\n",
        "Table=personkilled_data.groupby('Million Plus Cities')['Count'].sum().sort_values(ascending=False).reset_index()\n",
        "print(Table)"
      ],
      "metadata": {
        "colab": {
          "base_uri": "https://localhost:8080/"
        },
        "id": "LNGbiyKxDteM",
        "outputId": "e8e1a9dc-2747-44f8-942d-d3e0cd800acb"
      },
      "execution_count": 19,
      "outputs": [
        {
          "output_type": "stream",
          "name": "stdout",
          "text": [
            "     Million Plus Cities  Count\n",
            "0                  Delhi   7176\n",
            "1                Chennai   5232\n",
            "2              Bengaluru   3876\n",
            "3                 Jaipur   3636\n",
            "4                 Kanpur   3378\n",
            "5   Allahabad(Prayagraj)   3102\n",
            "6                   Agra   3084\n",
            "7                 Raipur   2892\n",
            "8                 Indore   2754\n",
            "9               Jabalpur   2532\n",
            "10               Lucknow   2244\n",
            "11                Mumbai   2094\n",
            "12                Meerut   2094\n",
            "13             Ahmedabad   2040\n",
            "14             Ghaziabad   1956\n",
            "15               Gwalior   1896\n",
            "16      Asansol Durgapur   1890\n",
            "17              Ludhiana   1698\n",
            "18        Vijaywada city   1644\n",
            "19                 Vizaq   1530\n",
            "20             Hyderabad   1524\n",
            "21            Mallapuram   1482\n",
            "22                Bhopal   1422\n",
            "23              Varanasi   1278\n",
            "24                Nagpur   1260\n",
            "25               Kolkata   1206\n",
            "26             Faridabad   1170\n",
            "27                Kollam   1164\n",
            "28                 Surat   1146\n",
            "29                 Patna   1086\n",
            "30                Nashik   1026\n",
            "31               Vadodra    918\n",
            "32                  Pune    858\n",
            "33               Jodhpur    852\n",
            "34                Rajkot    828\n",
            "35            Aurangabad    816\n",
            "36              Thrissur    804\n",
            "37      Thiruvanthapuram    648\n",
            "38                 Kochi    606\n",
            "39             Khozikode    546\n",
            "40        Tiruchirapalli    522\n",
            "41               Dhanbad    498\n",
            "42               Madurai    486\n",
            "43              Amritsar    396\n",
            "44            Coimbatore    388\n",
            "45                  Kota    360\n",
            "46                Kannur    342\n",
            "47            Chandigarh    318\n",
            "48            Jamshedpur    282\n",
            "49              Srinagar    270\n"
          ]
        }
      ]
    },
    {
      "cell_type": "code",
      "source": [
        "px.bar(personkilled_data,x=\"Million Plus Cities\",y=\"Count\",color=\"Million Plus Cities\",title=\"Highest and lowest Number Persons killed in of Road Accidents\")"
      ],
      "metadata": {
        "colab": {
          "base_uri": "https://localhost:8080/",
          "height": 542
        },
        "id": "KRvzWTegDyHs",
        "outputId": "934e5025-b94c-4de2-f5aa-f57bb0037946"
      },
      "execution_count": 20,
      "outputs": [
        {
          "output_type": "display_data",
          "data": {
            "text/html": [
              "<html>\n",
              "<head><meta charset=\"utf-8\" /></head>\n",
              "<body>\n",
              "    <div>            <script src=\"https://cdnjs.cloudflare.com/ajax/libs/mathjax/2.7.5/MathJax.js?config=TeX-AMS-MML_SVG\"></script><script type=\"text/javascript\">if (window.MathJax && window.MathJax.Hub && window.MathJax.Hub.Config) {window.MathJax.Hub.Config({SVG: {font: \"STIX-Web\"}});}</script>                <script type=\"text/javascript\">window.PlotlyConfig = {MathJaxConfig: 'local'};</script>\n",
              "        <script charset=\"utf-8\" src=\"https://cdn.plot.ly/plotly-2.24.1.min.js\"></script>                <div id=\"35f57257-c90d-4eea-9eef-5300f625ed39\" class=\"plotly-graph-div\" style=\"height:525px; width:100%;\"></div>            <script type=\"text/javascript\">                                    window.PLOTLYENV=window.PLOTLYENV || {};                                    if (document.getElementById(\"35f57257-c90d-4eea-9eef-5300f625ed39\")) {                    Plotly.newPlot(                        \"35f57257-c90d-4eea-9eef-5300f625ed39\",                        [{\"alignmentgroup\":\"True\",\"hovertemplate\":\"Million Plus Cities=%{x}\\u003cbr\\u003eCount=%{y}\\u003cextra\\u003e\\u003c\\u002fextra\\u003e\",\"legendgroup\":\"Agra\",\"marker\":{\"color\":\"#636efa\",\"pattern\":{\"shape\":\"\"}},\"name\":\"Agra\",\"offsetgroup\":\"Agra\",\"orientation\":\"v\",\"showlegend\":true,\"textposition\":\"auto\",\"x\":[\"Agra\",\"Agra\",\"Agra\",\"Agra\",\"Agra\",\"Agra\",\"Agra\",\"Agra\",\"Agra\",\"Agra\",\"Agra\",\"Agra\",\"Agra\",\"Agra\",\"Agra\",\"Agra\",\"Agra\",\"Agra\",\"Agra\",\"Agra\",\"Agra\",\"Agra\",\"Agra\",\"Agra\",\"Agra\",\"Agra\",\"Agra\",\"Agra\",\"Agra\",\"Agra\",\"Agra\",\"Agra\",\"Agra\",\"Agra\",\"Agra\",\"Agra\",\"Agra\",\"Agra\",\"Agra\",\"Agra\"],\"xaxis\":\"x\",\"y\":[0,373,0,0,18,123,33,373,35,17,29,27,51,29,3,143,279,9,9,8,32,18,114,23,20,290,28,26,28,85,73,28,46,30,170,107,35,127,123,122],\"yaxis\":\"y\",\"type\":\"bar\"},{\"alignmentgroup\":\"True\",\"hovertemplate\":\"Million Plus Cities=%{x}\\u003cbr\\u003eCount=%{y}\\u003cextra\\u003e\\u003c\\u002fextra\\u003e\",\"legendgroup\":\"Ahmedabad\",\"marker\":{\"color\":\"#EF553B\",\"pattern\":{\"shape\":\"\"}},\"name\":\"Ahmedabad\",\"offsetgroup\":\"Ahmedabad\",\"orientation\":\"v\",\"showlegend\":true,\"textposition\":\"auto\",\"x\":[\"Ahmedabad\",\"Ahmedabad\",\"Ahmedabad\",\"Ahmedabad\",\"Ahmedabad\",\"Ahmedabad\",\"Ahmedabad\",\"Ahmedabad\",\"Ahmedabad\",\"Ahmedabad\",\"Ahmedabad\",\"Ahmedabad\",\"Ahmedabad\",\"Ahmedabad\",\"Ahmedabad\",\"Ahmedabad\",\"Ahmedabad\",\"Ahmedabad\",\"Ahmedabad\",\"Ahmedabad\",\"Ahmedabad\",\"Ahmedabad\",\"Ahmedabad\",\"Ahmedabad\",\"Ahmedabad\",\"Ahmedabad\",\"Ahmedabad\",\"Ahmedabad\",\"Ahmedabad\",\"Ahmedabad\",\"Ahmedabad\",\"Ahmedabad\",\"Ahmedabad\",\"Ahmedabad\",\"Ahmedabad\",\"Ahmedabad\",\"Ahmedabad\",\"Ahmedabad\",\"Ahmedabad\",\"Ahmedabad\"],\"xaxis\":\"x\",\"y\":[3,166,13,3,14,141,45,166,36,32,31,30,5,2,0,0,333,0,17,0,16,3,0,0,1,303,15,15,0,8,0,3,151,2,146,0,0,0,0,340],\"yaxis\":\"y\",\"type\":\"bar\"},{\"alignmentgroup\":\"True\",\"hovertemplate\":\"Million Plus Cities=%{x}\\u003cbr\\u003eCount=%{y}\\u003cextra\\u003e\\u003c\\u002fextra\\u003e\",\"legendgroup\":\"Allahabad(Prayagraj)\",\"marker\":{\"color\":\"#00cc96\",\"pattern\":{\"shape\":\"\"}},\"name\":\"Allahabad(Prayagraj)\",\"offsetgroup\":\"Allahabad(Prayagraj)\",\"orientation\":\"v\",\"showlegend\":true,\"textposition\":\"auto\",\"x\":[\"Allahabad(Prayagraj)\",\"Allahabad(Prayagraj)\",\"Allahabad(Prayagraj)\",\"Allahabad(Prayagraj)\",\"Allahabad(Prayagraj)\",\"Allahabad(Prayagraj)\",\"Allahabad(Prayagraj)\",\"Allahabad(Prayagraj)\",\"Allahabad(Prayagraj)\",\"Allahabad(Prayagraj)\",\"Allahabad(Prayagraj)\",\"Allahabad(Prayagraj)\",\"Allahabad(Prayagraj)\",\"Allahabad(Prayagraj)\",\"Allahabad(Prayagraj)\",\"Allahabad(Prayagraj)\",\"Allahabad(Prayagraj)\",\"Allahabad(Prayagraj)\",\"Allahabad(Prayagraj)\",\"Allahabad(Prayagraj)\",\"Allahabad(Prayagraj)\",\"Allahabad(Prayagraj)\",\"Allahabad(Prayagraj)\",\"Allahabad(Prayagraj)\",\"Allahabad(Prayagraj)\",\"Allahabad(Prayagraj)\",\"Allahabad(Prayagraj)\",\"Allahabad(Prayagraj)\",\"Allahabad(Prayagraj)\",\"Allahabad(Prayagraj)\",\"Allahabad(Prayagraj)\",\"Allahabad(Prayagraj)\",\"Allahabad(Prayagraj)\",\"Allahabad(Prayagraj)\",\"Allahabad(Prayagraj)\",\"Allahabad(Prayagraj)\",\"Allahabad(Prayagraj)\",\"Allahabad(Prayagraj)\",\"Allahabad(Prayagraj)\",\"Allahabad(Prayagraj)\"],\"xaxis\":\"x\",\"y\":[39,277,51,62,45,43,61,277,42,40,51,46,102,86,89,38,109,93,55,58,57,73,78,74,54,68,70,25,45,73,39,43,28,77,117,98,92,107,92,128],\"yaxis\":\"y\",\"type\":\"bar\"},{\"alignmentgroup\":\"True\",\"hovertemplate\":\"Million Plus Cities=%{x}\\u003cbr\\u003eCount=%{y}\\u003cextra\\u003e\\u003c\\u002fextra\\u003e\",\"legendgroup\":\"Amritsar\",\"marker\":{\"color\":\"#ab63fa\",\"pattern\":{\"shape\":\"\"}},\"name\":\"Amritsar\",\"offsetgroup\":\"Amritsar\",\"orientation\":\"v\",\"showlegend\":true,\"textposition\":\"auto\",\"x\":[\"Amritsar\",\"Amritsar\",\"Amritsar\",\"Amritsar\",\"Amritsar\",\"Amritsar\",\"Amritsar\",\"Amritsar\",\"Amritsar\",\"Amritsar\",\"Amritsar\",\"Amritsar\",\"Amritsar\",\"Amritsar\",\"Amritsar\",\"Amritsar\",\"Amritsar\",\"Amritsar\",\"Amritsar\",\"Amritsar\",\"Amritsar\",\"Amritsar\",\"Amritsar\",\"Amritsar\",\"Amritsar\",\"Amritsar\",\"Amritsar\",\"Amritsar\",\"Amritsar\",\"Amritsar\",\"Amritsar\",\"Amritsar\",\"Amritsar\",\"Amritsar\",\"Amritsar\",\"Amritsar\",\"Amritsar\",\"Amritsar\",\"Amritsar\",\"Amritsar\"],\"xaxis\":\"x\",\"y\":[13,29,2,6,10,6,6,29,6,13,10,2,2,0,0,27,37,0,5,0,3,1,12,3,0,42,4,6,0,2,4,0,18,0,32,5,1,19,0,41],\"yaxis\":\"y\",\"type\":\"bar\"},{\"alignmentgroup\":\"True\",\"hovertemplate\":\"Million Plus Cities=%{x}\\u003cbr\\u003eCount=%{y}\\u003cextra\\u003e\\u003c\\u002fextra\\u003e\",\"legendgroup\":\"Asansol Durgapur\",\"marker\":{\"color\":\"#FFA15A\",\"pattern\":{\"shape\":\"\"}},\"name\":\"Asansol Durgapur\",\"offsetgroup\":\"Asansol Durgapur\",\"orientation\":\"v\",\"showlegend\":true,\"textposition\":\"auto\",\"x\":[\"Asansol Durgapur\",\"Asansol Durgapur\",\"Asansol Durgapur\",\"Asansol Durgapur\",\"Asansol Durgapur\",\"Asansol Durgapur\",\"Asansol Durgapur\",\"Asansol Durgapur\",\"Asansol Durgapur\",\"Asansol Durgapur\",\"Asansol Durgapur\",\"Asansol Durgapur\",\"Asansol Durgapur\",\"Asansol Durgapur\",\"Asansol Durgapur\",\"Asansol Durgapur\",\"Asansol Durgapur\",\"Asansol Durgapur\",\"Asansol Durgapur\",\"Asansol Durgapur\",\"Asansol Durgapur\",\"Asansol Durgapur\",\"Asansol Durgapur\",\"Asansol Durgapur\",\"Asansol Durgapur\",\"Asansol Durgapur\",\"Asansol Durgapur\",\"Asansol Durgapur\",\"Asansol Durgapur\",\"Asansol Durgapur\",\"Asansol Durgapur\",\"Asansol Durgapur\",\"Asansol Durgapur\",\"Asansol Durgapur\",\"Asansol Durgapur\",\"Asansol Durgapur\",\"Asansol Durgapur\",\"Asansol Durgapur\",\"Asansol Durgapur\",\"Asansol Durgapur\"],\"xaxis\":\"x\",\"y\":[0,299,6,1,1,8,6,299,1,0,5,4,2,0,0,169,144,0,18,2,24,1,0,0,0,270,0,34,4,28,0,14,136,61,38,36,0,150,1,128],\"yaxis\":\"y\",\"type\":\"bar\"},{\"alignmentgroup\":\"True\",\"hovertemplate\":\"Million Plus Cities=%{x}\\u003cbr\\u003eCount=%{y}\\u003cextra\\u003e\\u003c\\u002fextra\\u003e\",\"legendgroup\":\"Aurangabad\",\"marker\":{\"color\":\"#19d3f3\",\"pattern\":{\"shape\":\"\"}},\"name\":\"Aurangabad\",\"offsetgroup\":\"Aurangabad\",\"orientation\":\"v\",\"showlegend\":true,\"textposition\":\"auto\",\"x\":[\"Aurangabad\",\"Aurangabad\",\"Aurangabad\",\"Aurangabad\",\"Aurangabad\",\"Aurangabad\",\"Aurangabad\",\"Aurangabad\",\"Aurangabad\",\"Aurangabad\",\"Aurangabad\",\"Aurangabad\",\"Aurangabad\",\"Aurangabad\",\"Aurangabad\",\"Aurangabad\",\"Aurangabad\",\"Aurangabad\",\"Aurangabad\",\"Aurangabad\",\"Aurangabad\",\"Aurangabad\",\"Aurangabad\",\"Aurangabad\",\"Aurangabad\",\"Aurangabad\",\"Aurangabad\",\"Aurangabad\",\"Aurangabad\",\"Aurangabad\",\"Aurangabad\",\"Aurangabad\",\"Aurangabad\",\"Aurangabad\",\"Aurangabad\",\"Aurangabad\",\"Aurangabad\",\"Aurangabad\",\"Aurangabad\",\"Aurangabad\"],\"xaxis\":\"x\",\"y\":[0,107,0,0,0,29,17,107,2,0,10,0,5,0,0,20,111,0,1,0,8,0,0,0,0,127,1,0,0,9,0,0,40,3,83,0,0,0,1,135],\"yaxis\":\"y\",\"type\":\"bar\"},{\"alignmentgroup\":\"True\",\"hovertemplate\":\"Million Plus Cities=%{x}\\u003cbr\\u003eCount=%{y}\\u003cextra\\u003e\\u003c\\u002fextra\\u003e\",\"legendgroup\":\"Bengaluru\",\"marker\":{\"color\":\"#FF6692\",\"pattern\":{\"shape\":\"\"}},\"name\":\"Bengaluru\",\"offsetgroup\":\"Bengaluru\",\"orientation\":\"v\",\"showlegend\":true,\"textposition\":\"auto\",\"x\":[\"Bengaluru\",\"Bengaluru\",\"Bengaluru\",\"Bengaluru\",\"Bengaluru\",\"Bengaluru\",\"Bengaluru\",\"Bengaluru\",\"Bengaluru\",\"Bengaluru\",\"Bengaluru\",\"Bengaluru\",\"Bengaluru\",\"Bengaluru\",\"Bengaluru\",\"Bengaluru\",\"Bengaluru\",\"Bengaluru\",\"Bengaluru\",\"Bengaluru\",\"Bengaluru\",\"Bengaluru\",\"Bengaluru\",\"Bengaluru\",\"Bengaluru\",\"Bengaluru\",\"Bengaluru\",\"Bengaluru\",\"Bengaluru\",\"Bengaluru\",\"Bengaluru\",\"Bengaluru\",\"Bengaluru\",\"Bengaluru\",\"Bengaluru\",\"Bengaluru\",\"Bengaluru\",\"Bengaluru\",\"Bengaluru\",\"Bengaluru\"],\"xaxis\":\"x\",\"y\":[9,536,38,0,32,31,48,536,11,4,32,15,1,11,2,36,596,0,26,1,62,8,0,1,2,546,9,5,3,32,0,3,163,8,423,29,0,0,30,587],\"yaxis\":\"y\",\"type\":\"bar\"},{\"alignmentgroup\":\"True\",\"hovertemplate\":\"Million Plus Cities=%{x}\\u003cbr\\u003eCount=%{y}\\u003cextra\\u003e\\u003c\\u002fextra\\u003e\",\"legendgroup\":\"Bhopal\",\"marker\":{\"color\":\"#B6E880\",\"pattern\":{\"shape\":\"\"}},\"name\":\"Bhopal\",\"offsetgroup\":\"Bhopal\",\"orientation\":\"v\",\"showlegend\":true,\"textposition\":\"auto\",\"x\":[\"Bhopal\",\"Bhopal\",\"Bhopal\",\"Bhopal\",\"Bhopal\",\"Bhopal\",\"Bhopal\",\"Bhopal\",\"Bhopal\",\"Bhopal\",\"Bhopal\",\"Bhopal\",\"Bhopal\",\"Bhopal\",\"Bhopal\",\"Bhopal\",\"Bhopal\",\"Bhopal\",\"Bhopal\",\"Bhopal\",\"Bhopal\",\"Bhopal\",\"Bhopal\",\"Bhopal\",\"Bhopal\",\"Bhopal\",\"Bhopal\",\"Bhopal\",\"Bhopal\",\"Bhopal\",\"Bhopal\",\"Bhopal\",\"Bhopal\",\"Bhopal\",\"Bhopal\",\"Bhopal\",\"Bhopal\",\"Bhopal\",\"Bhopal\",\"Bhopal\"],\"xaxis\":\"x\",\"y\":[3,135,9,26,18,46,19,135,8,42,29,4,0,0,0,80,157,0,5,1,10,0,69,0,0,152,1,0,3,7,1,53,25,7,140,11,2,31,24,169],\"yaxis\":\"y\",\"type\":\"bar\"},{\"alignmentgroup\":\"True\",\"hovertemplate\":\"Million Plus Cities=%{x}\\u003cbr\\u003eCount=%{y}\\u003cextra\\u003e\\u003c\\u002fextra\\u003e\",\"legendgroup\":\"Chandigarh\",\"marker\":{\"color\":\"#FF97FF\",\"pattern\":{\"shape\":\"\"}},\"name\":\"Chandigarh\",\"offsetgroup\":\"Chandigarh\",\"orientation\":\"v\",\"showlegend\":true,\"textposition\":\"auto\",\"x\":[\"Chandigarh\",\"Chandigarh\",\"Chandigarh\",\"Chandigarh\",\"Chandigarh\",\"Chandigarh\",\"Chandigarh\",\"Chandigarh\",\"Chandigarh\",\"Chandigarh\",\"Chandigarh\",\"Chandigarh\",\"Chandigarh\",\"Chandigarh\",\"Chandigarh\",\"Chandigarh\",\"Chandigarh\",\"Chandigarh\",\"Chandigarh\",\"Chandigarh\",\"Chandigarh\",\"Chandigarh\",\"Chandigarh\",\"Chandigarh\",\"Chandigarh\",\"Chandigarh\",\"Chandigarh\",\"Chandigarh\",\"Chandigarh\",\"Chandigarh\",\"Chandigarh\",\"Chandigarh\",\"Chandigarh\",\"Chandigarh\",\"Chandigarh\",\"Chandigarh\",\"Chandigarh\",\"Chandigarh\",\"Chandigarh\",\"Chandigarh\"],\"xaxis\":\"x\",\"y\":[5,25,1,0,17,5,9,25,6,3,9,1,1,1,1,0,50,0,0,0,0,0,0,0,0,53,0,10,0,3,4,0,12,1,23,6,0,0,1,46],\"yaxis\":\"y\",\"type\":\"bar\"},{\"alignmentgroup\":\"True\",\"hovertemplate\":\"Million Plus Cities=%{x}\\u003cbr\\u003eCount=%{y}\\u003cextra\\u003e\\u003c\\u002fextra\\u003e\",\"legendgroup\":\"Chennai\",\"marker\":{\"color\":\"#FECB52\",\"pattern\":{\"shape\":\"\"}},\"name\":\"Chennai\",\"offsetgroup\":\"Chennai\",\"orientation\":\"v\",\"showlegend\":true,\"textposition\":\"auto\",\"x\":[\"Chennai\",\"Chennai\",\"Chennai\",\"Chennai\",\"Chennai\",\"Chennai\",\"Chennai\",\"Chennai\",\"Chennai\",\"Chennai\",\"Chennai\",\"Chennai\",\"Chennai\",\"Chennai\",\"Chennai\",\"Chennai\",\"Chennai\",\"Chennai\",\"Chennai\",\"Chennai\",\"Chennai\",\"Chennai\",\"Chennai\",\"Chennai\",\"Chennai\",\"Chennai\",\"Chennai\",\"Chennai\",\"Chennai\",\"Chennai\",\"Chennai\",\"Chennai\",\"Chennai\",\"Chennai\",\"Chennai\",\"Chennai\",\"Chennai\",\"Chennai\",\"Chennai\",\"Chennai\"],\"xaxis\":\"x\",\"y\":[212,276,110,81,65,128,81,276,128,212,65,110,10,19,14,151,672,6,153,17,80,44,209,9,19,341,14,189,34,147,2,67,24,47,348,132,0,144,289,307],\"yaxis\":\"y\",\"type\":\"bar\"},{\"alignmentgroup\":\"True\",\"hovertemplate\":\"Million Plus Cities=%{x}\\u003cbr\\u003eCount=%{y}\\u003cextra\\u003e\\u003c\\u002fextra\\u003e\",\"legendgroup\":\"Coimbatore\",\"marker\":{\"color\":\"#636efa\",\"pattern\":{\"shape\":\"\"}},\"name\":\"Coimbatore\",\"offsetgroup\":\"Coimbatore\",\"orientation\":\"v\",\"showlegend\":true,\"textposition\":\"auto\",\"x\":[\"Coimbatore\",\"Coimbatore\",\"Coimbatore\",\"Coimbatore\",\"Coimbatore\",\"Coimbatore\",\"Coimbatore\",\"Coimbatore\",\"Coimbatore\",\"Coimbatore\",\"Coimbatore\",\"Coimbatore\",\"Coimbatore\",\"Coimbatore\",\"Coimbatore\",\"Coimbatore\",\"Coimbatore\",\"Coimbatore\",\"Coimbatore\",\"Coimbatore\",\"Coimbatore\",\"Coimbatore\",\"Coimbatore\",\"Coimbatore\",\"Coimbatore\",\"Coimbatore\",\"Coimbatore\",\"Coimbatore\",\"Coimbatore\",\"Coimbatore\",\"Coimbatore\",\"Coimbatore\",\"Coimbatore\",\"Coimbatore\",\"Coimbatore\",\"Coimbatore\",\"Coimbatore\",\"Coimbatore\",\"Coimbatore\",\"Coimbatore\"],\"xaxis\":\"x\",\"y\":[2,54,0,0,3,6,5,54,0,0,5,1,0,0,0,0,65,0,3,0,15,1,0,0,0,44,0,1,0,0,0,0,20,1,43,4,0,0,9,52],\"yaxis\":\"y\",\"type\":\"bar\"},{\"alignmentgroup\":\"True\",\"hovertemplate\":\"Million Plus Cities=%{x}\\u003cbr\\u003eCount=%{y}\\u003cextra\\u003e\\u003c\\u002fextra\\u003e\",\"legendgroup\":\"Delhi\",\"marker\":{\"color\":\"#EF553B\",\"pattern\":{\"shape\":\"\"}},\"name\":\"Delhi\",\"offsetgroup\":\"Delhi\",\"orientation\":\"v\",\"showlegend\":true,\"textposition\":\"auto\",\"x\":[\"Delhi\",\"Delhi\",\"Delhi\",\"Delhi\",\"Delhi\",\"Delhi\",\"Delhi\",\"Delhi\",\"Delhi\",\"Delhi\",\"Delhi\",\"Delhi\",\"Delhi\",\"Delhi\",\"Delhi\",\"Delhi\",\"Delhi\",\"Delhi\",\"Delhi\",\"Delhi\",\"Delhi\",\"Delhi\",\"Delhi\",\"Delhi\",\"Delhi\",\"Delhi\",\"Delhi\",\"Delhi\",\"Delhi\",\"Delhi\",\"Delhi\",\"Delhi\",\"Delhi\",\"Delhi\",\"Delhi\",\"Delhi\",\"Delhi\",\"Delhi\",\"Delhi\",\"Delhi\"],\"xaxis\":\"x\",\"y\":[49,686,20,37,98,306,116,686,41,152,141,60,60,36,78,511,488,23,79,7,122,36,206,13,11,722,12,48,3,53,11,120,505,3,441,31,0,478,36,651],\"yaxis\":\"y\",\"type\":\"bar\"},{\"alignmentgroup\":\"True\",\"hovertemplate\":\"Million Plus Cities=%{x}\\u003cbr\\u003eCount=%{y}\\u003cextra\\u003e\\u003c\\u002fextra\\u003e\",\"legendgroup\":\"Dhanbad\",\"marker\":{\"color\":\"#00cc96\",\"pattern\":{\"shape\":\"\"}},\"name\":\"Dhanbad\",\"offsetgroup\":\"Dhanbad\",\"orientation\":\"v\",\"showlegend\":true,\"textposition\":\"auto\",\"x\":[\"Dhanbad\",\"Dhanbad\",\"Dhanbad\",\"Dhanbad\",\"Dhanbad\",\"Dhanbad\",\"Dhanbad\",\"Dhanbad\",\"Dhanbad\",\"Dhanbad\",\"Dhanbad\",\"Dhanbad\",\"Dhanbad\",\"Dhanbad\",\"Dhanbad\",\"Dhanbad\",\"Dhanbad\",\"Dhanbad\",\"Dhanbad\",\"Dhanbad\",\"Dhanbad\",\"Dhanbad\",\"Dhanbad\",\"Dhanbad\",\"Dhanbad\",\"Dhanbad\",\"Dhanbad\",\"Dhanbad\",\"Dhanbad\",\"Dhanbad\",\"Dhanbad\",\"Dhanbad\",\"Dhanbad\",\"Dhanbad\",\"Dhanbad\",\"Dhanbad\",\"Dhanbad\",\"Dhanbad\",\"Dhanbad\",\"Dhanbad\"],\"xaxis\":\"x\",\"y\":[11,0,32,9,18,13,9,0,13,11,18,32,8,23,2,6,41,3,6,3,25,7,21,3,7,11,4,9,2,2,0,11,2,6,47,3,1,29,31,19],\"yaxis\":\"y\",\"type\":\"bar\"},{\"alignmentgroup\":\"True\",\"hovertemplate\":\"Million Plus Cities=%{x}\\u003cbr\\u003eCount=%{y}\\u003cextra\\u003e\\u003c\\u002fextra\\u003e\",\"legendgroup\":\"Faridabad\",\"marker\":{\"color\":\"#ab63fa\",\"pattern\":{\"shape\":\"\"}},\"name\":\"Faridabad\",\"offsetgroup\":\"Faridabad\",\"orientation\":\"v\",\"showlegend\":true,\"textposition\":\"auto\",\"x\":[\"Faridabad\",\"Faridabad\",\"Faridabad\",\"Faridabad\",\"Faridabad\",\"Faridabad\",\"Faridabad\",\"Faridabad\",\"Faridabad\",\"Faridabad\",\"Faridabad\",\"Faridabad\",\"Faridabad\",\"Faridabad\",\"Faridabad\",\"Faridabad\",\"Faridabad\",\"Faridabad\",\"Faridabad\",\"Faridabad\",\"Faridabad\",\"Faridabad\",\"Faridabad\",\"Faridabad\",\"Faridabad\",\"Faridabad\",\"Faridabad\",\"Faridabad\",\"Faridabad\",\"Faridabad\",\"Faridabad\",\"Faridabad\",\"Faridabad\",\"Faridabad\",\"Faridabad\",\"Faridabad\",\"Faridabad\",\"Faridabad\",\"Faridabad\",\"Faridabad\"],\"xaxis\":\"x\",\"y\":[3,160,0,1,3,28,33,160,1,0,1,0,0,0,0,0,195,0,16,0,1,0,0,0,0,178,4,17,0,7,0,6,68,12,81,20,0,0,0,175],\"yaxis\":\"y\",\"type\":\"bar\"},{\"alignmentgroup\":\"True\",\"hovertemplate\":\"Million Plus Cities=%{x}\\u003cbr\\u003eCount=%{y}\\u003cextra\\u003e\\u003c\\u002fextra\\u003e\",\"legendgroup\":\"Ghaziabad\",\"marker\":{\"color\":\"#FFA15A\",\"pattern\":{\"shape\":\"\"}},\"name\":\"Ghaziabad\",\"offsetgroup\":\"Ghaziabad\",\"orientation\":\"v\",\"showlegend\":true,\"textposition\":\"auto\",\"x\":[\"Ghaziabad\",\"Ghaziabad\",\"Ghaziabad\",\"Ghaziabad\",\"Ghaziabad\",\"Ghaziabad\",\"Ghaziabad\",\"Ghaziabad\",\"Ghaziabad\",\"Ghaziabad\",\"Ghaziabad\",\"Ghaziabad\",\"Ghaziabad\",\"Ghaziabad\",\"Ghaziabad\",\"Ghaziabad\",\"Ghaziabad\",\"Ghaziabad\",\"Ghaziabad\",\"Ghaziabad\",\"Ghaziabad\",\"Ghaziabad\",\"Ghaziabad\",\"Ghaziabad\",\"Ghaziabad\",\"Ghaziabad\",\"Ghaziabad\",\"Ghaziabad\",\"Ghaziabad\",\"Ghaziabad\",\"Ghaziabad\",\"Ghaziabad\",\"Ghaziabad\",\"Ghaziabad\",\"Ghaziabad\",\"Ghaziabad\",\"Ghaziabad\",\"Ghaziabad\",\"Ghaziabad\",\"Ghaziabad\"],\"xaxis\":\"x\",\"y\":[11,194,0,10,8,103,33,194,17,24,43,15,29,4,4,135,152,2,8,2,27,13,147,0,0,129,57,25,6,52,0,0,40,5,141,83,0,61,59,123],\"yaxis\":\"y\",\"type\":\"bar\"},{\"alignmentgroup\":\"True\",\"hovertemplate\":\"Million Plus Cities=%{x}\\u003cbr\\u003eCount=%{y}\\u003cextra\\u003e\\u003c\\u002fextra\\u003e\",\"legendgroup\":\"Gwalior\",\"marker\":{\"color\":\"#19d3f3\",\"pattern\":{\"shape\":\"\"}},\"name\":\"Gwalior\",\"offsetgroup\":\"Gwalior\",\"orientation\":\"v\",\"showlegend\":true,\"textposition\":\"auto\",\"x\":[\"Gwalior\",\"Gwalior\",\"Gwalior\",\"Gwalior\",\"Gwalior\",\"Gwalior\",\"Gwalior\",\"Gwalior\",\"Gwalior\",\"Gwalior\",\"Gwalior\",\"Gwalior\",\"Gwalior\",\"Gwalior\",\"Gwalior\",\"Gwalior\",\"Gwalior\",\"Gwalior\",\"Gwalior\",\"Gwalior\",\"Gwalior\",\"Gwalior\",\"Gwalior\",\"Gwalior\",\"Gwalior\",\"Gwalior\",\"Gwalior\",\"Gwalior\",\"Gwalior\",\"Gwalior\",\"Gwalior\",\"Gwalior\",\"Gwalior\",\"Gwalior\",\"Gwalior\",\"Gwalior\",\"Gwalior\",\"Gwalior\",\"Gwalior\"],\"xaxis\":\"x\",\"y\":[0,194,0,0,0,122,45,194,0,0,70,7,17,0,0,57,242,0,1,9,43,11,37,0,13,202,17,2,16,49,49,92,48,43,0,0,0,0,316],\"yaxis\":\"y\",\"type\":\"bar\"},{\"alignmentgroup\":\"True\",\"hovertemplate\":\"Million Plus Cities=%{x}\\u003cbr\\u003eCount=%{y}\\u003cextra\\u003e\\u003c\\u002fextra\\u003e\",\"legendgroup\":\"Hyderabad\",\"marker\":{\"color\":\"#FF6692\",\"pattern\":{\"shape\":\"\"}},\"name\":\"Hyderabad\",\"offsetgroup\":\"Hyderabad\",\"orientation\":\"v\",\"showlegend\":true,\"textposition\":\"auto\",\"x\":[\"Hyderabad\",\"Hyderabad\",\"Hyderabad\",\"Hyderabad\",\"Hyderabad\",\"Hyderabad\",\"Hyderabad\",\"Hyderabad\",\"Hyderabad\",\"Hyderabad\",\"Hyderabad\",\"Hyderabad\",\"Hyderabad\",\"Hyderabad\",\"Hyderabad\",\"Hyderabad\",\"Hyderabad\",\"Hyderabad\",\"Hyderabad\",\"Hyderabad\",\"Hyderabad\",\"Hyderabad\",\"Hyderabad\",\"Hyderabad\",\"Hyderabad\",\"Hyderabad\",\"Hyderabad\",\"Hyderabad\",\"Hyderabad\",\"Hyderabad\",\"Hyderabad\",\"Hyderabad\",\"Hyderabad\",\"Hyderabad\",\"Hyderabad\",\"Hyderabad\",\"Hyderabad\",\"Hyderabad\",\"Hyderabad\",\"Hyderabad\"],\"xaxis\":\"x\",\"y\":[10,0,3,1,19,221,13,0,31,173,26,11,4,3,4,10,233,0,2,0,3,0,61,0,0,188,5,3,2,6,0,0,72,2,164,3,0,73,0,178],\"yaxis\":\"y\",\"type\":\"bar\"},{\"alignmentgroup\":\"True\",\"hovertemplate\":\"Million Plus Cities=%{x}\\u003cbr\\u003eCount=%{y}\\u003cextra\\u003e\\u003c\\u002fextra\\u003e\",\"legendgroup\":\"Indore\",\"marker\":{\"color\":\"#B6E880\",\"pattern\":{\"shape\":\"\"}},\"name\":\"Indore\",\"offsetgroup\":\"Indore\",\"orientation\":\"v\",\"showlegend\":true,\"textposition\":\"auto\",\"x\":[\"Indore\",\"Indore\",\"Indore\",\"Indore\",\"Indore\",\"Indore\",\"Indore\",\"Indore\",\"Indore\",\"Indore\",\"Indore\",\"Indore\",\"Indore\",\"Indore\",\"Indore\",\"Indore\",\"Indore\",\"Indore\",\"Indore\",\"Indore\",\"Indore\",\"Indore\",\"Indore\",\"Indore\",\"Indore\",\"Indore\",\"Indore\",\"Indore\",\"Indore\",\"Indore\",\"Indore\",\"Indore\",\"Indore\",\"Indore\",\"Indore\",\"Indore\",\"Indore\",\"Indore\",\"Indore\",\"Indore\"],\"xaxis\":\"x\",\"y\":[0,292,0,0,0,167,36,292,31,0,47,53,0,0,0,0,459,0,24,26,0,0,48,0,15,346,3,5,3,14,0,10,142,3,279,0,0,39,0,420],\"yaxis\":\"y\",\"type\":\"bar\"},{\"alignmentgroup\":\"True\",\"hovertemplate\":\"Million Plus Cities=%{x}\\u003cbr\\u003eCount=%{y}\\u003cextra\\u003e\\u003c\\u002fextra\\u003e\",\"legendgroup\":\"Jabalpur\",\"marker\":{\"color\":\"#FF97FF\",\"pattern\":{\"shape\":\"\"}},\"name\":\"Jabalpur\",\"offsetgroup\":\"Jabalpur\",\"orientation\":\"v\",\"showlegend\":true,\"textposition\":\"auto\",\"x\":[\"Jabalpur\",\"Jabalpur\",\"Jabalpur\",\"Jabalpur\",\"Jabalpur\",\"Jabalpur\",\"Jabalpur\",\"Jabalpur\",\"Jabalpur\",\"Jabalpur\",\"Jabalpur\",\"Jabalpur\",\"Jabalpur\",\"Jabalpur\",\"Jabalpur\",\"Jabalpur\",\"Jabalpur\",\"Jabalpur\",\"Jabalpur\",\"Jabalpur\",\"Jabalpur\",\"Jabalpur\",\"Jabalpur\",\"Jabalpur\",\"Jabalpur\",\"Jabalpur\",\"Jabalpur\",\"Jabalpur\",\"Jabalpur\",\"Jabalpur\",\"Jabalpur\",\"Jabalpur\",\"Jabalpur\",\"Jabalpur\",\"Jabalpur\",\"Jabalpur\",\"Jabalpur\",\"Jabalpur\",\"Jabalpur\",\"Jabalpur\"],\"xaxis\":\"x\",\"y\":[0,205,0,0,0,217,9,205,0,41,144,23,4,27,0,7,382,2,0,2,9,0,407,2,2,0,13,1,9,83,2,43,2,78,191,29,0,58,30,305],\"yaxis\":\"y\",\"type\":\"bar\"},{\"alignmentgroup\":\"True\",\"hovertemplate\":\"Million Plus Cities=%{x}\\u003cbr\\u003eCount=%{y}\\u003cextra\\u003e\\u003c\\u002fextra\\u003e\",\"legendgroup\":\"Jaipur\",\"marker\":{\"color\":\"#FECB52\",\"pattern\":{\"shape\":\"\"}},\"name\":\"Jaipur\",\"offsetgroup\":\"Jaipur\",\"orientation\":\"v\",\"showlegend\":true,\"textposition\":\"auto\",\"x\":[\"Jaipur\",\"Jaipur\",\"Jaipur\",\"Jaipur\",\"Jaipur\",\"Jaipur\",\"Jaipur\",\"Jaipur\",\"Jaipur\",\"Jaipur\",\"Jaipur\",\"Jaipur\",\"Jaipur\",\"Jaipur\",\"Jaipur\",\"Jaipur\",\"Jaipur\",\"Jaipur\",\"Jaipur\",\"Jaipur\",\"Jaipur\",\"Jaipur\",\"Jaipur\",\"Jaipur\",\"Jaipur\",\"Jaipur\",\"Jaipur\",\"Jaipur\",\"Jaipur\",\"Jaipur\",\"Jaipur\",\"Jaipur\",\"Jaipur\",\"Jaipur\",\"Jaipur\",\"Jaipur\",\"Jaipur\",\"Jaipur\",\"Jaipur\",\"Jaipur\"],\"xaxis\":\"x\",\"y\":[4,459,0,0,58,85,35,459,24,15,66,7,14,8,7,32,540,5,49,6,83,6,26,4,1,431,10,6,35,112,7,80,110,78,168,0,0,1,0,605],\"yaxis\":\"y\",\"type\":\"bar\"},{\"alignmentgroup\":\"True\",\"hovertemplate\":\"Million Plus Cities=%{x}\\u003cbr\\u003eCount=%{y}\\u003cextra\\u003e\\u003c\\u002fextra\\u003e\",\"legendgroup\":\"Jamshedpur\",\"marker\":{\"color\":\"#636efa\",\"pattern\":{\"shape\":\"\"}},\"name\":\"Jamshedpur\",\"offsetgroup\":\"Jamshedpur\",\"orientation\":\"v\",\"showlegend\":true,\"textposition\":\"auto\",\"x\":[\"Jamshedpur\",\"Jamshedpur\",\"Jamshedpur\",\"Jamshedpur\",\"Jamshedpur\",\"Jamshedpur\",\"Jamshedpur\",\"Jamshedpur\",\"Jamshedpur\",\"Jamshedpur\",\"Jamshedpur\",\"Jamshedpur\",\"Jamshedpur\",\"Jamshedpur\",\"Jamshedpur\",\"Jamshedpur\",\"Jamshedpur\",\"Jamshedpur\",\"Jamshedpur\",\"Jamshedpur\",\"Jamshedpur\",\"Jamshedpur\",\"Jamshedpur\",\"Jamshedpur\",\"Jamshedpur\",\"Jamshedpur\",\"Jamshedpur\",\"Jamshedpur\",\"Jamshedpur\",\"Jamshedpur\",\"Jamshedpur\",\"Jamshedpur\",\"Jamshedpur\",\"Jamshedpur\",\"Jamshedpur\",\"Jamshedpur\",\"Jamshedpur\",\"Jamshedpur\",\"Jamshedpur\",\"Jamshedpur\"],\"xaxis\":\"x\",\"y\":[6,0,6,5,8,22,11,0,7,5,14,10,0,0,0,0,47,0,3,0,11,4,6,0,2,21,6,4,2,7,2,3,9,3,11,12,0,4,14,17],\"yaxis\":\"y\",\"type\":\"bar\"},{\"alignmentgroup\":\"True\",\"hovertemplate\":\"Million Plus Cities=%{x}\\u003cbr\\u003eCount=%{y}\\u003cextra\\u003e\\u003c\\u002fextra\\u003e\",\"legendgroup\":\"Jodhpur\",\"marker\":{\"color\":\"#EF553B\",\"pattern\":{\"shape\":\"\"}},\"name\":\"Jodhpur\",\"offsetgroup\":\"Jodhpur\",\"orientation\":\"v\",\"showlegend\":true,\"textposition\":\"auto\",\"x\":[\"Jodhpur\",\"Jodhpur\",\"Jodhpur\",\"Jodhpur\",\"Jodhpur\",\"Jodhpur\",\"Jodhpur\",\"Jodhpur\",\"Jodhpur\",\"Jodhpur\",\"Jodhpur\",\"Jodhpur\",\"Jodhpur\",\"Jodhpur\",\"Jodhpur\",\"Jodhpur\",\"Jodhpur\",\"Jodhpur\",\"Jodhpur\",\"Jodhpur\",\"Jodhpur\",\"Jodhpur\",\"Jodhpur\",\"Jodhpur\",\"Jodhpur\",\"Jodhpur\",\"Jodhpur\",\"Jodhpur\",\"Jodhpur\",\"Jodhpur\",\"Jodhpur\",\"Jodhpur\",\"Jodhpur\",\"Jodhpur\",\"Jodhpur\",\"Jodhpur\",\"Jodhpur\",\"Jodhpur\",\"Jodhpur\",\"Jodhpur\"],\"xaxis\":\"x\",\"y\":[3,104,6,0,1,28,0,104,6,12,15,5,9,2,0,17,114,0,3,0,19,1,6,0,0,113,1,0,3,18,1,0,26,3,90,26,0,13,0,103],\"yaxis\":\"y\",\"type\":\"bar\"},{\"alignmentgroup\":\"True\",\"hovertemplate\":\"Million Plus Cities=%{x}\\u003cbr\\u003eCount=%{y}\\u003cextra\\u003e\\u003c\\u002fextra\\u003e\",\"legendgroup\":\"Kannur\",\"marker\":{\"color\":\"#00cc96\",\"pattern\":{\"shape\":\"\"}},\"name\":\"Kannur\",\"offsetgroup\":\"Kannur\",\"orientation\":\"v\",\"showlegend\":true,\"textposition\":\"auto\",\"x\":[\"Kannur\",\"Kannur\",\"Kannur\",\"Kannur\",\"Kannur\",\"Kannur\",\"Kannur\",\"Kannur\",\"Kannur\",\"Kannur\",\"Kannur\",\"Kannur\",\"Kannur\",\"Kannur\",\"Kannur\",\"Kannur\",\"Kannur\",\"Kannur\",\"Kannur\",\"Kannur\",\"Kannur\",\"Kannur\",\"Kannur\",\"Kannur\",\"Kannur\",\"Kannur\",\"Kannur\",\"Kannur\",\"Kannur\",\"Kannur\",\"Kannur\",\"Kannur\",\"Kannur\",\"Kannur\",\"Kannur\",\"Kannur\",\"Kannur\",\"Kannur\",\"Kannur\",\"Kannur\"],\"xaxis\":\"x\",\"y\":[0,46,4,0,0,7,2,46,0,0,6,3,0,0,0,14,43,0,2,0,9,0,0,0,0,46,2,4,0,6,0,0,18,0,27,0,0,0,9,48],\"yaxis\":\"y\",\"type\":\"bar\"},{\"alignmentgroup\":\"True\",\"hovertemplate\":\"Million Plus Cities=%{x}\\u003cbr\\u003eCount=%{y}\\u003cextra\\u003e\\u003c\\u002fextra\\u003e\",\"legendgroup\":\"Kanpur\",\"marker\":{\"color\":\"#ab63fa\",\"pattern\":{\"shape\":\"\"}},\"name\":\"Kanpur\",\"offsetgroup\":\"Kanpur\",\"orientation\":\"v\",\"showlegend\":true,\"textposition\":\"auto\",\"x\":[\"Kanpur\",\"Kanpur\",\"Kanpur\",\"Kanpur\",\"Kanpur\",\"Kanpur\",\"Kanpur\",\"Kanpur\",\"Kanpur\",\"Kanpur\",\"Kanpur\",\"Kanpur\",\"Kanpur\",\"Kanpur\",\"Kanpur\",\"Kanpur\",\"Kanpur\",\"Kanpur\",\"Kanpur\",\"Kanpur\",\"Kanpur\",\"Kanpur\",\"Kanpur\",\"Kanpur\",\"Kanpur\",\"Kanpur\",\"Kanpur\",\"Kanpur\",\"Kanpur\",\"Kanpur\",\"Kanpur\",\"Kanpur\",\"Kanpur\",\"Kanpur\",\"Kanpur\",\"Kanpur\",\"Kanpur\",\"Kanpur\",\"Kanpur\",\"Kanpur\"],\"xaxis\":\"x\",\"y\":[24,479,2,3,2,53,15,479,18,8,26,17,71,21,2,304,78,87,8,27,26,211,187,5,32,67,10,9,3,112,75,100,7,5,242,172,49,195,69,78],\"yaxis\":\"y\",\"type\":\"bar\"},{\"alignmentgroup\":\"True\",\"hovertemplate\":\"Million Plus Cities=%{x}\\u003cbr\\u003eCount=%{y}\\u003cextra\\u003e\\u003c\\u002fextra\\u003e\",\"legendgroup\":\"Khozikode\",\"marker\":{\"color\":\"#FFA15A\",\"pattern\":{\"shape\":\"\"}},\"name\":\"Khozikode\",\"offsetgroup\":\"Khozikode\",\"orientation\":\"v\",\"showlegend\":true,\"textposition\":\"auto\",\"x\":[\"Khozikode\",\"Khozikode\",\"Khozikode\",\"Khozikode\",\"Khozikode\",\"Khozikode\",\"Khozikode\",\"Khozikode\",\"Khozikode\",\"Khozikode\",\"Khozikode\",\"Khozikode\",\"Khozikode\",\"Khozikode\",\"Khozikode\",\"Khozikode\",\"Khozikode\",\"Khozikode\",\"Khozikode\",\"Khozikode\",\"Khozikode\",\"Khozikode\",\"Khozikode\",\"Khozikode\",\"Khozikode\",\"Khozikode\",\"Khozikode\",\"Khozikode\",\"Khozikode\",\"Khozikode\",\"Khozikode\",\"Khozikode\",\"Khozikode\",\"Khozikode\",\"Khozikode\",\"Khozikode\",\"Khozikode\",\"Khozikode\",\"Khozikode\",\"Khozikode\"],\"xaxis\":\"x\",\"y\":[0,74,4,0,3,10,5,74,0,1,11,0,1,0,0,23,66,1,4,0,6,0,13,0,0,68,8,2,0,2,0,2,20,1,56,18,0,0,4,69],\"yaxis\":\"y\",\"type\":\"bar\"},{\"alignmentgroup\":\"True\",\"hovertemplate\":\"Million Plus Cities=%{x}\\u003cbr\\u003eCount=%{y}\\u003cextra\\u003e\\u003c\\u002fextra\\u003e\",\"legendgroup\":\"Kochi\",\"marker\":{\"color\":\"#19d3f3\",\"pattern\":{\"shape\":\"\"}},\"name\":\"Kochi\",\"offsetgroup\":\"Kochi\",\"orientation\":\"v\",\"showlegend\":true,\"textposition\":\"auto\",\"x\":[\"Kochi\",\"Kochi\",\"Kochi\",\"Kochi\",\"Kochi\",\"Kochi\",\"Kochi\",\"Kochi\",\"Kochi\",\"Kochi\",\"Kochi\",\"Kochi\",\"Kochi\",\"Kochi\",\"Kochi\",\"Kochi\",\"Kochi\",\"Kochi\",\"Kochi\",\"Kochi\",\"Kochi\",\"Kochi\",\"Kochi\",\"Kochi\",\"Kochi\",\"Kochi\",\"Kochi\",\"Kochi\",\"Kochi\",\"Kochi\",\"Kochi\",\"Kochi\",\"Kochi\",\"Kochi\",\"Kochi\",\"Kochi\",\"Kochi\",\"Kochi\",\"Kochi\",\"Kochi\"],\"xaxis\":\"x\",\"y\":[1,70,23,0,5,2,12,70,1,5,10,3,1,0,1,45,54,0,3,0,2,0,22,0,0,74,8,0,6,21,0,5,0,21,40,7,0,9,3,82],\"yaxis\":\"y\",\"type\":\"bar\"},{\"alignmentgroup\":\"True\",\"hovertemplate\":\"Million Plus Cities=%{x}\\u003cbr\\u003eCount=%{y}\\u003cextra\\u003e\\u003c\\u002fextra\\u003e\",\"legendgroup\":\"Kolkata\",\"marker\":{\"color\":\"#FF6692\",\"pattern\":{\"shape\":\"\"}},\"name\":\"Kolkata\",\"offsetgroup\":\"Kolkata\",\"orientation\":\"v\",\"showlegend\":true,\"textposition\":\"auto\",\"x\":[\"Kolkata\",\"Kolkata\",\"Kolkata\",\"Kolkata\",\"Kolkata\",\"Kolkata\",\"Kolkata\",\"Kolkata\",\"Kolkata\",\"Kolkata\",\"Kolkata\",\"Kolkata\",\"Kolkata\",\"Kolkata\",\"Kolkata\",\"Kolkata\",\"Kolkata\",\"Kolkata\",\"Kolkata\",\"Kolkata\",\"Kolkata\",\"Kolkata\",\"Kolkata\",\"Kolkata\",\"Kolkata\",\"Kolkata\",\"Kolkata\",\"Kolkata\",\"Kolkata\",\"Kolkata\",\"Kolkata\",\"Kolkata\",\"Kolkata\",\"Kolkata\",\"Kolkata\",\"Kolkata\",\"Kolkata\",\"Kolkata\",\"Kolkata\",\"Kolkata\"],\"xaxis\":\"x\",\"y\":[2,159,25,0,9,6,18,159,8,5,7,4,2,2,0,184,13,0,16,0,76,3,0,2,0,104,1,23,10,8,0,0,94,1,64,2,0,0,9,190],\"yaxis\":\"y\",\"type\":\"bar\"},{\"alignmentgroup\":\"True\",\"hovertemplate\":\"Million Plus Cities=%{x}\\u003cbr\\u003eCount=%{y}\\u003cextra\\u003e\\u003c\\u002fextra\\u003e\",\"legendgroup\":\"Kollam\",\"marker\":{\"color\":\"#B6E880\",\"pattern\":{\"shape\":\"\"}},\"name\":\"Kollam\",\"offsetgroup\":\"Kollam\",\"orientation\":\"v\",\"showlegend\":true,\"textposition\":\"auto\",\"x\":[\"Kollam\",\"Kollam\",\"Kollam\",\"Kollam\",\"Kollam\",\"Kollam\",\"Kollam\",\"Kollam\",\"Kollam\",\"Kollam\",\"Kollam\",\"Kollam\",\"Kollam\",\"Kollam\",\"Kollam\",\"Kollam\",\"Kollam\",\"Kollam\",\"Kollam\",\"Kollam\",\"Kollam\",\"Kollam\",\"Kollam\",\"Kollam\",\"Kollam\",\"Kollam\",\"Kollam\",\"Kollam\",\"Kollam\",\"Kollam\",\"Kollam\",\"Kollam\",\"Kollam\",\"Kollam\",\"Kollam\",\"Kollam\",\"Kollam\",\"Kollam\",\"Kollam\",\"Kollam\"],\"xaxis\":\"x\",\"y\":[13,105,11,7,13,45,14,105,0,2,61,12,1,0,0,85,107,1,5,0,46,0,32,0,0,111,9,0,9,60,0,3,0,14,99,2,2,44,4,142],\"yaxis\":\"y\",\"type\":\"bar\"},{\"alignmentgroup\":\"True\",\"hovertemplate\":\"Million Plus Cities=%{x}\\u003cbr\\u003eCount=%{y}\\u003cextra\\u003e\\u003c\\u002fextra\\u003e\",\"legendgroup\":\"Kota\",\"marker\":{\"color\":\"#FF97FF\",\"pattern\":{\"shape\":\"\"}},\"name\":\"Kota\",\"offsetgroup\":\"Kota\",\"orientation\":\"v\",\"showlegend\":true,\"textposition\":\"auto\",\"x\":[\"Kota\",\"Kota\",\"Kota\",\"Kota\",\"Kota\",\"Kota\",\"Kota\",\"Kota\",\"Kota\",\"Kota\",\"Kota\",\"Kota\",\"Kota\",\"Kota\",\"Kota\",\"Kota\",\"Kota\",\"Kota\",\"Kota\",\"Kota\",\"Kota\",\"Kota\",\"Kota\",\"Kota\",\"Kota\",\"Kota\",\"Kota\",\"Kota\",\"Kota\",\"Kota\",\"Kota\",\"Kota\",\"Kota\",\"Kota\",\"Kota\",\"Kota\",\"Kota\",\"Kota\",\"Kota\",\"Kota\"],\"xaxis\":\"x\",\"y\":[0,53,0,0,0,7,4,53,1,0,2,0,0,0,0,1,59,0,4,0,4,0,0,1,0,51,1,1,0,0,1,0,15,0,42,0,0,0,0,60],\"yaxis\":\"y\",\"type\":\"bar\"},{\"alignmentgroup\":\"True\",\"hovertemplate\":\"Million Plus Cities=%{x}\\u003cbr\\u003eCount=%{y}\\u003cextra\\u003e\\u003c\\u002fextra\\u003e\",\"legendgroup\":\"Lucknow\",\"marker\":{\"color\":\"#FECB52\",\"pattern\":{\"shape\":\"\"}},\"name\":\"Lucknow\",\"offsetgroup\":\"Lucknow\",\"orientation\":\"v\",\"showlegend\":true,\"textposition\":\"auto\",\"x\":[\"Lucknow\",\"Lucknow\",\"Lucknow\",\"Lucknow\",\"Lucknow\",\"Lucknow\",\"Lucknow\",\"Lucknow\",\"Lucknow\",\"Lucknow\",\"Lucknow\",\"Lucknow\",\"Lucknow\",\"Lucknow\",\"Lucknow\",\"Lucknow\",\"Lucknow\",\"Lucknow\",\"Lucknow\",\"Lucknow\",\"Lucknow\",\"Lucknow\",\"Lucknow\",\"Lucknow\",\"Lucknow\",\"Lucknow\",\"Lucknow\",\"Lucknow\",\"Lucknow\",\"Lucknow\",\"Lucknow\",\"Lucknow\",\"Lucknow\",\"Lucknow\",\"Lucknow\",\"Lucknow\",\"Lucknow\",\"Lucknow\",\"Lucknow\",\"Lucknow\"],\"xaxis\":\"x\",\"y\":[0,161,0,0,0,213,32,161,41,38,57,45,74,21,25,59,139,56,26,32,51,39,67,33,0,126,33,7,54,81,19,0,26,59,95,109,60,52,81,72],\"yaxis\":\"y\",\"type\":\"bar\"},{\"alignmentgroup\":\"True\",\"hovertemplate\":\"Million Plus Cities=%{x}\\u003cbr\\u003eCount=%{y}\\u003cextra\\u003e\\u003c\\u002fextra\\u003e\",\"legendgroup\":\"Ludhiana\",\"marker\":{\"color\":\"#636efa\",\"pattern\":{\"shape\":\"\"}},\"name\":\"Ludhiana\",\"offsetgroup\":\"Ludhiana\",\"orientation\":\"v\",\"showlegend\":true,\"textposition\":\"auto\",\"x\":[\"Ludhiana\",\"Ludhiana\",\"Ludhiana\",\"Ludhiana\",\"Ludhiana\",\"Ludhiana\",\"Ludhiana\",\"Ludhiana\",\"Ludhiana\",\"Ludhiana\",\"Ludhiana\",\"Ludhiana\",\"Ludhiana\",\"Ludhiana\",\"Ludhiana\",\"Ludhiana\",\"Ludhiana\",\"Ludhiana\",\"Ludhiana\",\"Ludhiana\",\"Ludhiana\",\"Ludhiana\",\"Ludhiana\",\"Ludhiana\",\"Ludhiana\",\"Ludhiana\",\"Ludhiana\",\"Ludhiana\",\"Ludhiana\",\"Ludhiana\",\"Ludhiana\",\"Ludhiana\",\"Ludhiana\",\"Ludhiana\",\"Ludhiana\",\"Ludhiana\",\"Ludhiana\",\"Ludhiana\",\"Ludhiana\",\"Ludhiana\"],\"xaxis\":\"x\",\"y\":[40,153,25,30,15,20,30,153,20,40,15,25,53,30,15,68,98,19,99,0,55,0,20,0,0,109,44,45,0,40,0,0,63,0,91,53,0,110,25,95],\"yaxis\":\"y\",\"type\":\"bar\"},{\"alignmentgroup\":\"True\",\"hovertemplate\":\"Million Plus Cities=%{x}\\u003cbr\\u003eCount=%{y}\\u003cextra\\u003e\\u003c\\u002fextra\\u003e\",\"legendgroup\":\"Madurai\",\"marker\":{\"color\":\"#EF553B\",\"pattern\":{\"shape\":\"\"}},\"name\":\"Madurai\",\"offsetgroup\":\"Madurai\",\"orientation\":\"v\",\"showlegend\":true,\"textposition\":\"auto\",\"x\":[\"Madurai\",\"Madurai\",\"Madurai\",\"Madurai\",\"Madurai\",\"Madurai\",\"Madurai\",\"Madurai\",\"Madurai\",\"Madurai\",\"Madurai\",\"Madurai\",\"Madurai\",\"Madurai\",\"Madurai\",\"Madurai\",\"Madurai\",\"Madurai\",\"Madurai\",\"Madurai\",\"Madurai\",\"Madurai\",\"Madurai\",\"Madurai\",\"Madurai\",\"Madurai\",\"Madurai\",\"Madurai\",\"Madurai\",\"Madurai\",\"Madurai\",\"Madurai\",\"Madurai\",\"Madurai\",\"Madurai\",\"Madurai\",\"Madurai\",\"Madurai\",\"Madurai\",\"Madurai\"],\"xaxis\":\"x\",\"y\":[0,69,0,3,1,8,2,69,1,4,4,1,3,1,0,0,77,0,9,4,3,0,0,0,0,65,4,3,0,1,1,0,20,1,51,0,0,0,0,81],\"yaxis\":\"y\",\"type\":\"bar\"},{\"alignmentgroup\":\"True\",\"hovertemplate\":\"Million Plus Cities=%{x}\\u003cbr\\u003eCount=%{y}\\u003cextra\\u003e\\u003c\\u002fextra\\u003e\",\"legendgroup\":\"Mallapuram\",\"marker\":{\"color\":\"#00cc96\",\"pattern\":{\"shape\":\"\"}},\"name\":\"Mallapuram\",\"offsetgroup\":\"Mallapuram\",\"orientation\":\"v\",\"showlegend\":true,\"textposition\":\"auto\",\"x\":[\"Mallapuram\",\"Mallapuram\",\"Mallapuram\",\"Mallapuram\",\"Mallapuram\",\"Mallapuram\",\"Mallapuram\",\"Mallapuram\",\"Mallapuram\",\"Mallapuram\",\"Mallapuram\",\"Mallapuram\",\"Mallapuram\",\"Mallapuram\",\"Mallapuram\",\"Mallapuram\",\"Mallapuram\",\"Mallapuram\",\"Mallapuram\",\"Mallapuram\",\"Mallapuram\",\"Mallapuram\",\"Mallapuram\",\"Mallapuram\",\"Mallapuram\",\"Mallapuram\",\"Mallapuram\",\"Mallapuram\",\"Mallapuram\",\"Mallapuram\",\"Mallapuram\",\"Mallapuram\",\"Mallapuram\",\"Mallapuram\",\"Mallapuram\",\"Mallapuram\",\"Mallapuram\",\"Mallapuram\",\"Mallapuram\",\"Mallapuram\"],\"xaxis\":\"x\",\"y\":[0,211,3,0,0,33,2,211,0,0,24,10,5,0,0,21,221,0,2,3,41,0,44,0,0,157,18,1,4,19,0,1,64,2,138,15,0,0,45,187],\"yaxis\":\"y\",\"type\":\"bar\"},{\"alignmentgroup\":\"True\",\"hovertemplate\":\"Million Plus Cities=%{x}\\u003cbr\\u003eCount=%{y}\\u003cextra\\u003e\\u003c\\u002fextra\\u003e\",\"legendgroup\":\"Meerut\",\"marker\":{\"color\":\"#ab63fa\",\"pattern\":{\"shape\":\"\"}},\"name\":\"Meerut\",\"offsetgroup\":\"Meerut\",\"orientation\":\"v\",\"showlegend\":true,\"textposition\":\"auto\",\"x\":[\"Meerut\",\"Meerut\",\"Meerut\",\"Meerut\",\"Meerut\",\"Meerut\",\"Meerut\",\"Meerut\",\"Meerut\",\"Meerut\",\"Meerut\",\"Meerut\",\"Meerut\",\"Meerut\",\"Meerut\",\"Meerut\",\"Meerut\",\"Meerut\",\"Meerut\",\"Meerut\",\"Meerut\",\"Meerut\",\"Meerut\",\"Meerut\",\"Meerut\",\"Meerut\",\"Meerut\",\"Meerut\",\"Meerut\",\"Meerut\",\"Meerut\",\"Meerut\",\"Meerut\",\"Meerut\",\"Meerut\",\"Meerut\",\"Meerut\",\"Meerut\",\"Meerut\",\"Meerut\"],\"xaxis\":\"x\",\"y\":[9,287,2,8,6,37,19,287,6,12,14,11,42,27,7,84,168,21,29,21,17,7,222,2,1,50,23,2,16,59,2,122,18,23,84,58,6,185,21,79],\"yaxis\":\"y\",\"type\":\"bar\"},{\"alignmentgroup\":\"True\",\"hovertemplate\":\"Million Plus Cities=%{x}\\u003cbr\\u003eCount=%{y}\\u003cextra\\u003e\\u003c\\u002fextra\\u003e\",\"legendgroup\":\"Mumbai\",\"marker\":{\"color\":\"#FFA15A\",\"pattern\":{\"shape\":\"\"}},\"name\":\"Mumbai\",\"offsetgroup\":\"Mumbai\",\"orientation\":\"v\",\"showlegend\":true,\"textposition\":\"auto\",\"x\":[\"Mumbai\",\"Mumbai\",\"Mumbai\",\"Mumbai\",\"Mumbai\",\"Mumbai\",\"Mumbai\",\"Mumbai\",\"Mumbai\",\"Mumbai\",\"Mumbai\",\"Mumbai\",\"Mumbai\",\"Mumbai\",\"Mumbai\",\"Mumbai\",\"Mumbai\",\"Mumbai\",\"Mumbai\",\"Mumbai\",\"Mumbai\",\"Mumbai\",\"Mumbai\",\"Mumbai\",\"Mumbai\",\"Mumbai\",\"Mumbai\",\"Mumbai\",\"Mumbai\",\"Mumbai\",\"Mumbai\",\"Mumbai\",\"Mumbai\",\"Mumbai\",\"Mumbai\",\"Mumbai\",\"Mumbai\",\"Mumbai\",\"Mumbai\",\"Mumbai\"],\"xaxis\":\"x\",\"y\":[0,1,0,0,0,348,0,1,0,28,110,210,0,0,0,0,349,0,3,0,0,0,0,0,0,346,5,3,0,32,0,120,136,0,53,0,0,0,0,349],\"yaxis\":\"y\",\"type\":\"bar\"},{\"alignmentgroup\":\"True\",\"hovertemplate\":\"Million Plus Cities=%{x}\\u003cbr\\u003eCount=%{y}\\u003cextra\\u003e\\u003c\\u002fextra\\u003e\",\"legendgroup\":\"Nagpur\",\"marker\":{\"color\":\"#19d3f3\",\"pattern\":{\"shape\":\"\"}},\"name\":\"Nagpur\",\"offsetgroup\":\"Nagpur\",\"orientation\":\"v\",\"showlegend\":true,\"textposition\":\"auto\",\"x\":[\"Nagpur\",\"Nagpur\",\"Nagpur\",\"Nagpur\",\"Nagpur\",\"Nagpur\",\"Nagpur\",\"Nagpur\",\"Nagpur\",\"Nagpur\",\"Nagpur\",\"Nagpur\",\"Nagpur\",\"Nagpur\",\"Nagpur\",\"Nagpur\",\"Nagpur\",\"Nagpur\",\"Nagpur\",\"Nagpur\",\"Nagpur\",\"Nagpur\",\"Nagpur\",\"Nagpur\",\"Nagpur\",\"Nagpur\",\"Nagpur\",\"Nagpur\",\"Nagpur\",\"Nagpur\",\"Nagpur\",\"Nagpur\",\"Nagpur\",\"Nagpur\",\"Nagpur\",\"Nagpur\",\"Nagpur\",\"Nagpur\",\"Nagpur\",\"Nagpur\"],\"xaxis\":\"x\",\"y\":[10,183,1,0,4,12,27,183,0,0,0,0,9,4,0,101,96,0,7,0,9,0,0,0,1,193,5,16,1,20,0,0,48,6,114,0,0,0,0,210],\"yaxis\":\"y\",\"type\":\"bar\"},{\"alignmentgroup\":\"True\",\"hovertemplate\":\"Million Plus Cities=%{x}\\u003cbr\\u003eCount=%{y}\\u003cextra\\u003e\\u003c\\u002fextra\\u003e\",\"legendgroup\":\"Nashik\",\"marker\":{\"color\":\"#FF6692\",\"pattern\":{\"shape\":\"\"}},\"name\":\"Nashik\",\"offsetgroup\":\"Nashik\",\"orientation\":\"v\",\"showlegend\":true,\"textposition\":\"auto\",\"x\":[\"Nashik\",\"Nashik\",\"Nashik\",\"Nashik\",\"Nashik\",\"Nashik\",\"Nashik\",\"Nashik\",\"Nashik\",\"Nashik\",\"Nashik\",\"Nashik\",\"Nashik\",\"Nashik\",\"Nashik\",\"Nashik\",\"Nashik\",\"Nashik\",\"Nashik\",\"Nashik\",\"Nashik\",\"Nashik\",\"Nashik\",\"Nashik\",\"Nashik\",\"Nashik\",\"Nashik\",\"Nashik\",\"Nashik\",\"Nashik\",\"Nashik\",\"Nashik\",\"Nashik\",\"Nashik\",\"Nashik\",\"Nashik\",\"Nashik\",\"Nashik\",\"Nashik\",\"Nashik\"],\"xaxis\":\"x\",\"y\":[15,136,0,19,1,0,19,136,0,0,16,0,1,2,0,0,168,0,5,0,2,1,1,0,0,162,1,8,0,5,0,3,45,4,105,0,0,1,0,170],\"yaxis\":\"y\",\"type\":\"bar\"},{\"alignmentgroup\":\"True\",\"hovertemplate\":\"Million Plus Cities=%{x}\\u003cbr\\u003eCount=%{y}\\u003cextra\\u003e\\u003c\\u002fextra\\u003e\",\"legendgroup\":\"Patna\",\"marker\":{\"color\":\"#B6E880\",\"pattern\":{\"shape\":\"\"}},\"name\":\"Patna\",\"offsetgroup\":\"Patna\",\"orientation\":\"v\",\"showlegend\":true,\"textposition\":\"auto\",\"x\":[\"Patna\",\"Patna\",\"Patna\",\"Patna\",\"Patna\",\"Patna\",\"Patna\",\"Patna\",\"Patna\",\"Patna\",\"Patna\",\"Patna\",\"Patna\",\"Patna\",\"Patna\",\"Patna\",\"Patna\",\"Patna\",\"Patna\",\"Patna\",\"Patna\",\"Patna\",\"Patna\",\"Patna\",\"Patna\",\"Patna\",\"Patna\",\"Patna\",\"Patna\",\"Patna\",\"Patna\",\"Patna\",\"Patna\",\"Patna\",\"Patna\",\"Patna\",\"Patna\",\"Patna\",\"Patna\",\"Patna\"],\"xaxis\":\"x\",\"y\":[0,131,4,0,0,46,2,131,3,0,28,17,15,0,0,86,65,15,18,0,22,3,21,0,9,108,6,19,1,9,3,18,52,4,69,60,0,0,30,91],\"yaxis\":\"y\",\"type\":\"bar\"},{\"alignmentgroup\":\"True\",\"hovertemplate\":\"Million Plus Cities=%{x}\\u003cbr\\u003eCount=%{y}\\u003cextra\\u003e\\u003c\\u002fextra\\u003e\",\"legendgroup\":\"Pune\",\"marker\":{\"color\":\"#FF97FF\",\"pattern\":{\"shape\":\"\"}},\"name\":\"Pune\",\"offsetgroup\":\"Pune\",\"orientation\":\"v\",\"showlegend\":true,\"textposition\":\"auto\",\"x\":[\"Pune\",\"Pune\",\"Pune\",\"Pune\",\"Pune\",\"Pune\",\"Pune\",\"Pune\",\"Pune\",\"Pune\",\"Pune\",\"Pune\",\"Pune\",\"Pune\",\"Pune\",\"Pune\",\"Pune\",\"Pune\",\"Pune\",\"Pune\",\"Pune\",\"Pune\",\"Pune\",\"Pune\",\"Pune\",\"Pune\",\"Pune\",\"Pune\",\"Pune\",\"Pune\",\"Pune\",\"Pune\",\"Pune\",\"Pune\",\"Pune\",\"Pune\",\"Pune\",\"Pune\",\"Pune\",\"Pune\"],\"xaxis\":\"x\",\"y\":[0,98,0,0,0,45,24,98,0,0,11,10,0,4,0,63,76,0,2,0,1,0,0,0,0,140,4,3,0,5,0,0,41,3,87,0,0,0,0,143],\"yaxis\":\"y\",\"type\":\"bar\"},{\"alignmentgroup\":\"True\",\"hovertemplate\":\"Million Plus Cities=%{x}\\u003cbr\\u003eCount=%{y}\\u003cextra\\u003e\\u003c\\u002fextra\\u003e\",\"legendgroup\":\"Raipur\",\"marker\":{\"color\":\"#FECB52\",\"pattern\":{\"shape\":\"\"}},\"name\":\"Raipur\",\"offsetgroup\":\"Raipur\",\"orientation\":\"v\",\"showlegend\":true,\"textposition\":\"auto\",\"x\":[\"Raipur\",\"Raipur\",\"Raipur\",\"Raipur\",\"Raipur\",\"Raipur\",\"Raipur\",\"Raipur\",\"Raipur\",\"Raipur\",\"Raipur\",\"Raipur\",\"Raipur\",\"Raipur\",\"Raipur\",\"Raipur\",\"Raipur\",\"Raipur\",\"Raipur\",\"Raipur\",\"Raipur\",\"Raipur\",\"Raipur\",\"Raipur\",\"Raipur\",\"Raipur\",\"Raipur\",\"Raipur\",\"Raipur\",\"Raipur\",\"Raipur\",\"Raipur\",\"Raipur\",\"Raipur\",\"Raipur\",\"Raipur\",\"Raipur\",\"Raipur\",\"Raipur\",\"Raipur\"],\"xaxis\":\"x\",\"y\":[8,264,24,2,7,177,49,264,0,0,163,6,2,0,0,44,436,0,24,4,69,6,0,0,5,374,3,22,8,18,17,3,77,13,321,2,0,0,32,448],\"yaxis\":\"y\",\"type\":\"bar\"},{\"alignmentgroup\":\"True\",\"hovertemplate\":\"Million Plus Cities=%{x}\\u003cbr\\u003eCount=%{y}\\u003cextra\\u003e\\u003c\\u002fextra\\u003e\",\"legendgroup\":\"Rajkot\",\"marker\":{\"color\":\"#636efa\",\"pattern\":{\"shape\":\"\"}},\"name\":\"Rajkot\",\"offsetgroup\":\"Rajkot\",\"orientation\":\"v\",\"showlegend\":true,\"textposition\":\"auto\",\"x\":[\"Rajkot\",\"Rajkot\",\"Rajkot\",\"Rajkot\",\"Rajkot\",\"Rajkot\",\"Rajkot\",\"Rajkot\",\"Rajkot\",\"Rajkot\",\"Rajkot\",\"Rajkot\",\"Rajkot\",\"Rajkot\",\"Rajkot\",\"Rajkot\",\"Rajkot\",\"Rajkot\",\"Rajkot\",\"Rajkot\",\"Rajkot\",\"Rajkot\",\"Rajkot\",\"Rajkot\",\"Rajkot\",\"Rajkot\",\"Rajkot\",\"Rajkot\",\"Rajkot\",\"Rajkot\",\"Rajkot\",\"Rajkot\",\"Rajkot\",\"Rajkot\",\"Rajkot\",\"Rajkot\",\"Rajkot\",\"Rajkot\",\"Rajkot\",\"Rajkot\"],\"xaxis\":\"x\",\"y\":[0,108,5,7,18,0,11,108,7,2,5,5,17,0,8,11,102,0,8,0,11,0,0,0,3,116,4,2,0,20,0,1,35,8,68,8,62,0,31,37],\"yaxis\":\"y\",\"type\":\"bar\"},{\"alignmentgroup\":\"True\",\"hovertemplate\":\"Million Plus Cities=%{x}\\u003cbr\\u003eCount=%{y}\\u003cextra\\u003e\\u003c\\u002fextra\\u003e\",\"legendgroup\":\"Srinagar\",\"marker\":{\"color\":\"#EF553B\",\"pattern\":{\"shape\":\"\"}},\"name\":\"Srinagar\",\"offsetgroup\":\"Srinagar\",\"orientation\":\"v\",\"showlegend\":true,\"textposition\":\"auto\",\"x\":[\"Srinagar\",\"Srinagar\",\"Srinagar\",\"Srinagar\",\"Srinagar\",\"Srinagar\",\"Srinagar\",\"Srinagar\",\"Srinagar\",\"Srinagar\",\"Srinagar\",\"Srinagar\",\"Srinagar\",\"Srinagar\",\"Srinagar\",\"Srinagar\",\"Srinagar\",\"Srinagar\",\"Srinagar\",\"Srinagar\",\"Srinagar\",\"Srinagar\",\"Srinagar\",\"Srinagar\",\"Srinagar\",\"Srinagar\",\"Srinagar\",\"Srinagar\",\"Srinagar\",\"Srinagar\",\"Srinagar\",\"Srinagar\",\"Srinagar\",\"Srinagar\",\"Srinagar\",\"Srinagar\",\"Srinagar\",\"Srinagar\",\"Srinagar\",\"Srinagar\"],\"xaxis\":\"x\",\"y\":[0,45,0,0,0,0,0,45,0,0,0,0,0,0,0,0,45,0,0,0,0,0,29,0,0,16,2,0,2,17,0,10,0,2,12,0,0,2,1,42],\"yaxis\":\"y\",\"type\":\"bar\"},{\"alignmentgroup\":\"True\",\"hovertemplate\":\"Million Plus Cities=%{x}\\u003cbr\\u003eCount=%{y}\\u003cextra\\u003e\\u003c\\u002fextra\\u003e\",\"legendgroup\":\"Surat\",\"marker\":{\"color\":\"#00cc96\",\"pattern\":{\"shape\":\"\"}},\"name\":\"Surat\",\"offsetgroup\":\"Surat\",\"orientation\":\"v\",\"showlegend\":true,\"textposition\":\"auto\",\"x\":[\"Surat\",\"Surat\",\"Surat\",\"Surat\",\"Surat\",\"Surat\",\"Surat\",\"Surat\",\"Surat\",\"Surat\",\"Surat\",\"Surat\",\"Surat\",\"Surat\",\"Surat\",\"Surat\",\"Surat\",\"Surat\",\"Surat\",\"Surat\",\"Surat\",\"Surat\",\"Surat\",\"Surat\",\"Surat\",\"Surat\",\"Surat\",\"Surat\",\"Surat\",\"Surat\",\"Surat\",\"Surat\",\"Surat\",\"Surat\",\"Surat\",\"Surat\",\"Surat\",\"Surat\",\"Surat\",\"Surat\"],\"xaxis\":\"x\",\"y\":[2,110,4,5,4,66,15,110,16,17,25,8,0,0,1,0,190,0,14,0,9,0,0,0,0,168,8,9,2,5,0,0,63,6,98,8,0,0,30,153],\"yaxis\":\"y\",\"type\":\"bar\"},{\"alignmentgroup\":\"True\",\"hovertemplate\":\"Million Plus Cities=%{x}\\u003cbr\\u003eCount=%{y}\\u003cextra\\u003e\\u003c\\u002fextra\\u003e\",\"legendgroup\":\"Thiruvanthapuram\",\"marker\":{\"color\":\"#ab63fa\",\"pattern\":{\"shape\":\"\"}},\"name\":\"Thiruvanthapuram\",\"offsetgroup\":\"Thiruvanthapuram\",\"orientation\":\"v\",\"showlegend\":true,\"textposition\":\"auto\",\"x\":[\"Thiruvanthapuram\",\"Thiruvanthapuram\",\"Thiruvanthapuram\",\"Thiruvanthapuram\",\"Thiruvanthapuram\",\"Thiruvanthapuram\",\"Thiruvanthapuram\",\"Thiruvanthapuram\",\"Thiruvanthapuram\",\"Thiruvanthapuram\",\"Thiruvanthapuram\",\"Thiruvanthapuram\",\"Thiruvanthapuram\",\"Thiruvanthapuram\",\"Thiruvanthapuram\",\"Thiruvanthapuram\",\"Thiruvanthapuram\",\"Thiruvanthapuram\",\"Thiruvanthapuram\",\"Thiruvanthapuram\",\"Thiruvanthapuram\",\"Thiruvanthapuram\",\"Thiruvanthapuram\",\"Thiruvanthapuram\",\"Thiruvanthapuram\",\"Thiruvanthapuram\",\"Thiruvanthapuram\",\"Thiruvanthapuram\",\"Thiruvanthapuram\",\"Thiruvanthapuram\",\"Thiruvanthapuram\",\"Thiruvanthapuram\",\"Thiruvanthapuram\",\"Thiruvanthapuram\",\"Thiruvanthapuram\",\"Thiruvanthapuram\",\"Thiruvanthapuram\",\"Thiruvanthapuram\",\"Thiruvanthapuram\",\"Thiruvanthapuram\"],\"xaxis\":\"x\",\"y\":[0,86,0,0,0,22,6,86,2,5,6,3,0,0,0,59,49,0,0,0,7,3,42,0,0,56,5,0,5,23,0,1,0,8,66,3,0,14,2,89],\"yaxis\":\"y\",\"type\":\"bar\"},{\"alignmentgroup\":\"True\",\"hovertemplate\":\"Million Plus Cities=%{x}\\u003cbr\\u003eCount=%{y}\\u003cextra\\u003e\\u003c\\u002fextra\\u003e\",\"legendgroup\":\"Thrissur\",\"marker\":{\"color\":\"#FFA15A\",\"pattern\":{\"shape\":\"\"}},\"name\":\"Thrissur\",\"offsetgroup\":\"Thrissur\",\"orientation\":\"v\",\"showlegend\":true,\"textposition\":\"auto\",\"x\":[\"Thrissur\",\"Thrissur\",\"Thrissur\",\"Thrissur\",\"Thrissur\",\"Thrissur\",\"Thrissur\",\"Thrissur\",\"Thrissur\",\"Thrissur\",\"Thrissur\",\"Thrissur\",\"Thrissur\",\"Thrissur\",\"Thrissur\",\"Thrissur\",\"Thrissur\",\"Thrissur\",\"Thrissur\",\"Thrissur\",\"Thrissur\",\"Thrissur\",\"Thrissur\",\"Thrissur\",\"Thrissur\",\"Thrissur\",\"Thrissur\",\"Thrissur\",\"Thrissur\",\"Thrissur\",\"Thrissur\",\"Thrissur\",\"Thrissur\",\"Thrissur\",\"Thrissur\",\"Thrissur\",\"Thrissur\",\"Thrissur\",\"Thrissur\",\"Thrissur\"],\"xaxis\":\"x\",\"y\":[0,86,5,2,1,40,8,86,0,0,25,15,4,0,0,0,130,0,4,1,11,7,21,0,0,90,11,0,5,42,3,0,0,21,52,0,0,0,4,130],\"yaxis\":\"y\",\"type\":\"bar\"},{\"alignmentgroup\":\"True\",\"hovertemplate\":\"Million Plus Cities=%{x}\\u003cbr\\u003eCount=%{y}\\u003cextra\\u003e\\u003c\\u002fextra\\u003e\",\"legendgroup\":\"Tiruchirapalli\",\"marker\":{\"color\":\"#19d3f3\",\"pattern\":{\"shape\":\"\"}},\"name\":\"Tiruchirapalli\",\"offsetgroup\":\"Tiruchirapalli\",\"orientation\":\"v\",\"showlegend\":true,\"textposition\":\"auto\",\"x\":[\"Tiruchirapalli\",\"Tiruchirapalli\",\"Tiruchirapalli\",\"Tiruchirapalli\",\"Tiruchirapalli\",\"Tiruchirapalli\",\"Tiruchirapalli\",\"Tiruchirapalli\",\"Tiruchirapalli\",\"Tiruchirapalli\",\"Tiruchirapalli\",\"Tiruchirapalli\",\"Tiruchirapalli\",\"Tiruchirapalli\",\"Tiruchirapalli\",\"Tiruchirapalli\",\"Tiruchirapalli\",\"Tiruchirapalli\",\"Tiruchirapalli\",\"Tiruchirapalli\",\"Tiruchirapalli\",\"Tiruchirapalli\",\"Tiruchirapalli\",\"Tiruchirapalli\",\"Tiruchirapalli\",\"Tiruchirapalli\",\"Tiruchirapalli\",\"Tiruchirapalli\",\"Tiruchirapalli\",\"Tiruchirapalli\",\"Tiruchirapalli\",\"Tiruchirapalli\",\"Tiruchirapalli\",\"Tiruchirapalli\",\"Tiruchirapalli\",\"Tiruchirapalli\",\"Tiruchirapalli\",\"Tiruchirapalli\",\"Tiruchirapalli\",\"Tiruchirapalli\"],\"xaxis\":\"x\",\"y\":[2,19,0,2,0,64,0,19,4,52,0,12,0,1,0,0,86,0,8,0,15,0,0,0,0,64,2,5,1,3,0,0,30,1,45,2,0,0,5,80],\"yaxis\":\"y\",\"type\":\"bar\"},{\"alignmentgroup\":\"True\",\"hovertemplate\":\"Million Plus Cities=%{x}\\u003cbr\\u003eCount=%{y}\\u003cextra\\u003e\\u003c\\u002fextra\\u003e\",\"legendgroup\":\"Vadodra\",\"marker\":{\"color\":\"#FF6692\",\"pattern\":{\"shape\":\"\"}},\"name\":\"Vadodra\",\"offsetgroup\":\"Vadodra\",\"orientation\":\"v\",\"showlegend\":true,\"textposition\":\"auto\",\"x\":[\"Vadodra\",\"Vadodra\",\"Vadodra\",\"Vadodra\",\"Vadodra\",\"Vadodra\",\"Vadodra\",\"Vadodra\",\"Vadodra\",\"Vadodra\",\"Vadodra\",\"Vadodra\",\"Vadodra\",\"Vadodra\",\"Vadodra\",\"Vadodra\",\"Vadodra\",\"Vadodra\",\"Vadodra\",\"Vadodra\",\"Vadodra\",\"Vadodra\",\"Vadodra\",\"Vadodra\",\"Vadodra\",\"Vadodra\",\"Vadodra\",\"Vadodra\",\"Vadodra\",\"Vadodra\",\"Vadodra\",\"Vadodra\",\"Vadodra\",\"Vadodra\",\"Vadodra\",\"Vadodra\",\"Vadodra\",\"Vadodra\",\"Vadodra\",\"Vadodra\"],\"xaxis\":\"x\",\"y\":[1,150,0,0,2,0,2,150,0,0,1,0,0,0,0,0,153,0,10,1,3,0,0,0,0,139,4,5,1,6,0,0,46,20,71,0,0,0,11,142],\"yaxis\":\"y\",\"type\":\"bar\"},{\"alignmentgroup\":\"True\",\"hovertemplate\":\"Million Plus Cities=%{x}\\u003cbr\\u003eCount=%{y}\\u003cextra\\u003e\\u003c\\u002fextra\\u003e\",\"legendgroup\":\"Varanasi\",\"marker\":{\"color\":\"#B6E880\",\"pattern\":{\"shape\":\"\"}},\"name\":\"Varanasi\",\"offsetgroup\":\"Varanasi\",\"orientation\":\"v\",\"showlegend\":true,\"textposition\":\"auto\",\"x\":[\"Varanasi\",\"Varanasi\",\"Varanasi\",\"Varanasi\",\"Varanasi\",\"Varanasi\",\"Varanasi\",\"Varanasi\",\"Varanasi\",\"Varanasi\",\"Varanasi\",\"Varanasi\",\"Varanasi\",\"Varanasi\",\"Varanasi\",\"Varanasi\",\"Varanasi\",\"Varanasi\",\"Varanasi\",\"Varanasi\",\"Varanasi\",\"Varanasi\",\"Varanasi\",\"Varanasi\",\"Varanasi\",\"Varanasi\",\"Varanasi\",\"Varanasi\",\"Varanasi\",\"Varanasi\",\"Varanasi\",\"Varanasi\",\"Varanasi\",\"Varanasi\",\"Varanasi\",\"Varanasi\",\"Varanasi\",\"Varanasi\",\"Varanasi\",\"Varanasi\"],\"xaxis\":\"x\",\"y\":[8,135,17,13,0,40,20,135,7,11,24,16,32,25,23,58,49,26,24,21,28,17,26,15,14,68,22,13,24,32,10,33,15,33,31,12,7,57,18,119],\"yaxis\":\"y\",\"type\":\"bar\"},{\"alignmentgroup\":\"True\",\"hovertemplate\":\"Million Plus Cities=%{x}\\u003cbr\\u003eCount=%{y}\\u003cextra\\u003e\\u003c\\u002fextra\\u003e\",\"legendgroup\":\"Vijaywada city\",\"marker\":{\"color\":\"#FF97FF\",\"pattern\":{\"shape\":\"\"}},\"name\":\"Vijaywada city\",\"offsetgroup\":\"Vijaywada city\",\"orientation\":\"v\",\"showlegend\":true,\"textposition\":\"auto\",\"x\":[\"Vijaywada city\",\"Vijaywada city\",\"Vijaywada city\",\"Vijaywada city\",\"Vijaywada city\",\"Vijaywada city\",\"Vijaywada city\",\"Vijaywada city\",\"Vijaywada city\",\"Vijaywada city\",\"Vijaywada city\",\"Vijaywada city\",\"Vijaywada city\",\"Vijaywada city\",\"Vijaywada city\",\"Vijaywada city\",\"Vijaywada city\",\"Vijaywada city\",\"Vijaywada city\",\"Vijaywada city\",\"Vijaywada city\",\"Vijaywada city\",\"Vijaywada city\",\"Vijaywada city\",\"Vijaywada city\",\"Vijaywada city\",\"Vijaywada city\",\"Vijaywada city\",\"Vijaywada city\",\"Vijaywada city\",\"Vijaywada city\",\"Vijaywada city\",\"Vijaywada city\",\"Vijaywada city\",\"Vijaywada city\",\"Vijaywada city\",\"Vijaywada city\",\"Vijaywada city\",\"Vijaywada city\",\"Vijaywada city\"],\"xaxis\":\"x\",\"y\":[0,139,14,0,19,102,33,139,6,20,71,5,0,0,0,0,274,0,13,2,32,0,4,0,1,222,8,16,3,15,1,0,72,8,151,3,0,0,0,271],\"yaxis\":\"y\",\"type\":\"bar\"},{\"alignmentgroup\":\"True\",\"hovertemplate\":\"Million Plus Cities=%{x}\\u003cbr\\u003eCount=%{y}\\u003cextra\\u003e\\u003c\\u002fextra\\u003e\",\"legendgroup\":\"Vizaq\",\"marker\":{\"color\":\"#FECB52\",\"pattern\":{\"shape\":\"\"}},\"name\":\"Vizaq\",\"offsetgroup\":\"Vizaq\",\"orientation\":\"v\",\"showlegend\":true,\"textposition\":\"auto\",\"x\":[\"Vizaq\",\"Vizaq\",\"Vizaq\",\"Vizaq\",\"Vizaq\",\"Vizaq\",\"Vizaq\",\"Vizaq\",\"Vizaq\",\"Vizaq\",\"Vizaq\",\"Vizaq\",\"Vizaq\",\"Vizaq\",\"Vizaq\",\"Vizaq\",\"Vizaq\",\"Vizaq\",\"Vizaq\",\"Vizaq\",\"Vizaq\",\"Vizaq\",\"Vizaq\",\"Vizaq\",\"Vizaq\",\"Vizaq\",\"Vizaq\",\"Vizaq\",\"Vizaq\",\"Vizaq\",\"Vizaq\",\"Vizaq\",\"Vizaq\",\"Vizaq\",\"Vizaq\",\"Vizaq\",\"Vizaq\",\"Vizaq\",\"Vizaq\",\"Vizaq\"],\"xaxis\":\"x\",\"y\":[13,144,11,3,32,52,40,144,2,18,34,17,2,1,2,84,166,0,15,4,37,17,22,6,1,153,5,5,2,7,5,25,82,8,116,7,0,68,4,176],\"yaxis\":\"y\",\"type\":\"bar\"}],                        {\"template\":{\"data\":{\"histogram2dcontour\":[{\"type\":\"histogram2dcontour\",\"colorbar\":{\"outlinewidth\":0,\"ticks\":\"\"},\"colorscale\":[[0.0,\"#0d0887\"],[0.1111111111111111,\"#46039f\"],[0.2222222222222222,\"#7201a8\"],[0.3333333333333333,\"#9c179e\"],[0.4444444444444444,\"#bd3786\"],[0.5555555555555556,\"#d8576b\"],[0.6666666666666666,\"#ed7953\"],[0.7777777777777778,\"#fb9f3a\"],[0.8888888888888888,\"#fdca26\"],[1.0,\"#f0f921\"]]}],\"choropleth\":[{\"type\":\"choropleth\",\"colorbar\":{\"outlinewidth\":0,\"ticks\":\"\"}}],\"histogram2d\":[{\"type\":\"histogram2d\",\"colorbar\":{\"outlinewidth\":0,\"ticks\":\"\"},\"colorscale\":[[0.0,\"#0d0887\"],[0.1111111111111111,\"#46039f\"],[0.2222222222222222,\"#7201a8\"],[0.3333333333333333,\"#9c179e\"],[0.4444444444444444,\"#bd3786\"],[0.5555555555555556,\"#d8576b\"],[0.6666666666666666,\"#ed7953\"],[0.7777777777777778,\"#fb9f3a\"],[0.8888888888888888,\"#fdca26\"],[1.0,\"#f0f921\"]]}],\"heatmap\":[{\"type\":\"heatmap\",\"colorbar\":{\"outlinewidth\":0,\"ticks\":\"\"},\"colorscale\":[[0.0,\"#0d0887\"],[0.1111111111111111,\"#46039f\"],[0.2222222222222222,\"#7201a8\"],[0.3333333333333333,\"#9c179e\"],[0.4444444444444444,\"#bd3786\"],[0.5555555555555556,\"#d8576b\"],[0.6666666666666666,\"#ed7953\"],[0.7777777777777778,\"#fb9f3a\"],[0.8888888888888888,\"#fdca26\"],[1.0,\"#f0f921\"]]}],\"heatmapgl\":[{\"type\":\"heatmapgl\",\"colorbar\":{\"outlinewidth\":0,\"ticks\":\"\"},\"colorscale\":[[0.0,\"#0d0887\"],[0.1111111111111111,\"#46039f\"],[0.2222222222222222,\"#7201a8\"],[0.3333333333333333,\"#9c179e\"],[0.4444444444444444,\"#bd3786\"],[0.5555555555555556,\"#d8576b\"],[0.6666666666666666,\"#ed7953\"],[0.7777777777777778,\"#fb9f3a\"],[0.8888888888888888,\"#fdca26\"],[1.0,\"#f0f921\"]]}],\"contourcarpet\":[{\"type\":\"contourcarpet\",\"colorbar\":{\"outlinewidth\":0,\"ticks\":\"\"}}],\"contour\":[{\"type\":\"contour\",\"colorbar\":{\"outlinewidth\":0,\"ticks\":\"\"},\"colorscale\":[[0.0,\"#0d0887\"],[0.1111111111111111,\"#46039f\"],[0.2222222222222222,\"#7201a8\"],[0.3333333333333333,\"#9c179e\"],[0.4444444444444444,\"#bd3786\"],[0.5555555555555556,\"#d8576b\"],[0.6666666666666666,\"#ed7953\"],[0.7777777777777778,\"#fb9f3a\"],[0.8888888888888888,\"#fdca26\"],[1.0,\"#f0f921\"]]}],\"surface\":[{\"type\":\"surface\",\"colorbar\":{\"outlinewidth\":0,\"ticks\":\"\"},\"colorscale\":[[0.0,\"#0d0887\"],[0.1111111111111111,\"#46039f\"],[0.2222222222222222,\"#7201a8\"],[0.3333333333333333,\"#9c179e\"],[0.4444444444444444,\"#bd3786\"],[0.5555555555555556,\"#d8576b\"],[0.6666666666666666,\"#ed7953\"],[0.7777777777777778,\"#fb9f3a\"],[0.8888888888888888,\"#fdca26\"],[1.0,\"#f0f921\"]]}],\"mesh3d\":[{\"type\":\"mesh3d\",\"colorbar\":{\"outlinewidth\":0,\"ticks\":\"\"}}],\"scatter\":[{\"fillpattern\":{\"fillmode\":\"overlay\",\"size\":10,\"solidity\":0.2},\"type\":\"scatter\"}],\"parcoords\":[{\"type\":\"parcoords\",\"line\":{\"colorbar\":{\"outlinewidth\":0,\"ticks\":\"\"}}}],\"scatterpolargl\":[{\"type\":\"scatterpolargl\",\"marker\":{\"colorbar\":{\"outlinewidth\":0,\"ticks\":\"\"}}}],\"bar\":[{\"error_x\":{\"color\":\"#2a3f5f\"},\"error_y\":{\"color\":\"#2a3f5f\"},\"marker\":{\"line\":{\"color\":\"#E5ECF6\",\"width\":0.5},\"pattern\":{\"fillmode\":\"overlay\",\"size\":10,\"solidity\":0.2}},\"type\":\"bar\"}],\"scattergeo\":[{\"type\":\"scattergeo\",\"marker\":{\"colorbar\":{\"outlinewidth\":0,\"ticks\":\"\"}}}],\"scatterpolar\":[{\"type\":\"scatterpolar\",\"marker\":{\"colorbar\":{\"outlinewidth\":0,\"ticks\":\"\"}}}],\"histogram\":[{\"marker\":{\"pattern\":{\"fillmode\":\"overlay\",\"size\":10,\"solidity\":0.2}},\"type\":\"histogram\"}],\"scattergl\":[{\"type\":\"scattergl\",\"marker\":{\"colorbar\":{\"outlinewidth\":0,\"ticks\":\"\"}}}],\"scatter3d\":[{\"type\":\"scatter3d\",\"line\":{\"colorbar\":{\"outlinewidth\":0,\"ticks\":\"\"}},\"marker\":{\"colorbar\":{\"outlinewidth\":0,\"ticks\":\"\"}}}],\"scattermapbox\":[{\"type\":\"scattermapbox\",\"marker\":{\"colorbar\":{\"outlinewidth\":0,\"ticks\":\"\"}}}],\"scatterternary\":[{\"type\":\"scatterternary\",\"marker\":{\"colorbar\":{\"outlinewidth\":0,\"ticks\":\"\"}}}],\"scattercarpet\":[{\"type\":\"scattercarpet\",\"marker\":{\"colorbar\":{\"outlinewidth\":0,\"ticks\":\"\"}}}],\"carpet\":[{\"aaxis\":{\"endlinecolor\":\"#2a3f5f\",\"gridcolor\":\"white\",\"linecolor\":\"white\",\"minorgridcolor\":\"white\",\"startlinecolor\":\"#2a3f5f\"},\"baxis\":{\"endlinecolor\":\"#2a3f5f\",\"gridcolor\":\"white\",\"linecolor\":\"white\",\"minorgridcolor\":\"white\",\"startlinecolor\":\"#2a3f5f\"},\"type\":\"carpet\"}],\"table\":[{\"cells\":{\"fill\":{\"color\":\"#EBF0F8\"},\"line\":{\"color\":\"white\"}},\"header\":{\"fill\":{\"color\":\"#C8D4E3\"},\"line\":{\"color\":\"white\"}},\"type\":\"table\"}],\"barpolar\":[{\"marker\":{\"line\":{\"color\":\"#E5ECF6\",\"width\":0.5},\"pattern\":{\"fillmode\":\"overlay\",\"size\":10,\"solidity\":0.2}},\"type\":\"barpolar\"}],\"pie\":[{\"automargin\":true,\"type\":\"pie\"}]},\"layout\":{\"autotypenumbers\":\"strict\",\"colorway\":[\"#636efa\",\"#EF553B\",\"#00cc96\",\"#ab63fa\",\"#FFA15A\",\"#19d3f3\",\"#FF6692\",\"#B6E880\",\"#FF97FF\",\"#FECB52\"],\"font\":{\"color\":\"#2a3f5f\"},\"hovermode\":\"closest\",\"hoverlabel\":{\"align\":\"left\"},\"paper_bgcolor\":\"white\",\"plot_bgcolor\":\"#E5ECF6\",\"polar\":{\"bgcolor\":\"#E5ECF6\",\"angularaxis\":{\"gridcolor\":\"white\",\"linecolor\":\"white\",\"ticks\":\"\"},\"radialaxis\":{\"gridcolor\":\"white\",\"linecolor\":\"white\",\"ticks\":\"\"}},\"ternary\":{\"bgcolor\":\"#E5ECF6\",\"aaxis\":{\"gridcolor\":\"white\",\"linecolor\":\"white\",\"ticks\":\"\"},\"baxis\":{\"gridcolor\":\"white\",\"linecolor\":\"white\",\"ticks\":\"\"},\"caxis\":{\"gridcolor\":\"white\",\"linecolor\":\"white\",\"ticks\":\"\"}},\"coloraxis\":{\"colorbar\":{\"outlinewidth\":0,\"ticks\":\"\"}},\"colorscale\":{\"sequential\":[[0.0,\"#0d0887\"],[0.1111111111111111,\"#46039f\"],[0.2222222222222222,\"#7201a8\"],[0.3333333333333333,\"#9c179e\"],[0.4444444444444444,\"#bd3786\"],[0.5555555555555556,\"#d8576b\"],[0.6666666666666666,\"#ed7953\"],[0.7777777777777778,\"#fb9f3a\"],[0.8888888888888888,\"#fdca26\"],[1.0,\"#f0f921\"]],\"sequentialminus\":[[0.0,\"#0d0887\"],[0.1111111111111111,\"#46039f\"],[0.2222222222222222,\"#7201a8\"],[0.3333333333333333,\"#9c179e\"],[0.4444444444444444,\"#bd3786\"],[0.5555555555555556,\"#d8576b\"],[0.6666666666666666,\"#ed7953\"],[0.7777777777777778,\"#fb9f3a\"],[0.8888888888888888,\"#fdca26\"],[1.0,\"#f0f921\"]],\"diverging\":[[0,\"#8e0152\"],[0.1,\"#c51b7d\"],[0.2,\"#de77ae\"],[0.3,\"#f1b6da\"],[0.4,\"#fde0ef\"],[0.5,\"#f7f7f7\"],[0.6,\"#e6f5d0\"],[0.7,\"#b8e186\"],[0.8,\"#7fbc41\"],[0.9,\"#4d9221\"],[1,\"#276419\"]]},\"xaxis\":{\"gridcolor\":\"white\",\"linecolor\":\"white\",\"ticks\":\"\",\"title\":{\"standoff\":15},\"zerolinecolor\":\"white\",\"automargin\":true,\"zerolinewidth\":2},\"yaxis\":{\"gridcolor\":\"white\",\"linecolor\":\"white\",\"ticks\":\"\",\"title\":{\"standoff\":15},\"zerolinecolor\":\"white\",\"automargin\":true,\"zerolinewidth\":2},\"scene\":{\"xaxis\":{\"backgroundcolor\":\"#E5ECF6\",\"gridcolor\":\"white\",\"linecolor\":\"white\",\"showbackground\":true,\"ticks\":\"\",\"zerolinecolor\":\"white\",\"gridwidth\":2},\"yaxis\":{\"backgroundcolor\":\"#E5ECF6\",\"gridcolor\":\"white\",\"linecolor\":\"white\",\"showbackground\":true,\"ticks\":\"\",\"zerolinecolor\":\"white\",\"gridwidth\":2},\"zaxis\":{\"backgroundcolor\":\"#E5ECF6\",\"gridcolor\":\"white\",\"linecolor\":\"white\",\"showbackground\":true,\"ticks\":\"\",\"zerolinecolor\":\"white\",\"gridwidth\":2}},\"shapedefaults\":{\"line\":{\"color\":\"#2a3f5f\"}},\"annotationdefaults\":{\"arrowcolor\":\"#2a3f5f\",\"arrowhead\":0,\"arrowwidth\":1},\"geo\":{\"bgcolor\":\"white\",\"landcolor\":\"#E5ECF6\",\"subunitcolor\":\"white\",\"showland\":true,\"showlakes\":true,\"lakecolor\":\"white\"},\"title\":{\"x\":0.05},\"mapbox\":{\"style\":\"light\"}}},\"xaxis\":{\"anchor\":\"y\",\"domain\":[0.0,1.0],\"title\":{\"text\":\"Million Plus Cities\"},\"categoryorder\":\"array\",\"categoryarray\":[\"Agra\",\"Ahmedabad\",\"Allahabad(Prayagraj)\",\"Amritsar\",\"Asansol Durgapur\",\"Aurangabad\",\"Bengaluru\",\"Bhopal\",\"Chandigarh\",\"Chennai\",\"Coimbatore\",\"Delhi\",\"Dhanbad\",\"Faridabad\",\"Ghaziabad\",\"Gwalior\",\"Hyderabad\",\"Indore\",\"Jabalpur\",\"Jaipur\",\"Jamshedpur\",\"Jodhpur\",\"Kannur\",\"Kanpur\",\"Khozikode\",\"Kochi\",\"Kolkata\",\"Kollam\",\"Kota\",\"Lucknow\",\"Ludhiana\",\"Madurai\",\"Mallapuram\",\"Meerut\",\"Mumbai\",\"Nagpur\",\"Nashik\",\"Patna\",\"Pune\",\"Raipur\",\"Rajkot\",\"Srinagar\",\"Surat\",\"Thiruvanthapuram\",\"Thrissur\",\"Tiruchirapalli\",\"Vadodra\",\"Varanasi\",\"Vijaywada city\",\"Vizaq\"]},\"yaxis\":{\"anchor\":\"x\",\"domain\":[0.0,1.0],\"title\":{\"text\":\"Count\"}},\"legend\":{\"title\":{\"text\":\"Million Plus Cities\"},\"tracegroupgap\":0},\"title\":{\"text\":\"Highest and lowest Number Persons killed in of Road Accidents\"},\"barmode\":\"relative\"},                        {\"responsive\": true}                    ).then(function(){\n",
              "                            \n",
              "var gd = document.getElementById('35f57257-c90d-4eea-9eef-5300f625ed39');\n",
              "var x = new MutationObserver(function (mutations, observer) {{\n",
              "        var display = window.getComputedStyle(gd).display;\n",
              "        if (!display || display === 'none') {{\n",
              "            console.log([gd, 'removed!']);\n",
              "            Plotly.purge(gd);\n",
              "            observer.disconnect();\n",
              "        }}\n",
              "}});\n",
              "\n",
              "// Listen for the removal of the full notebook cells\n",
              "var notebookContainer = gd.closest('#notebook-container');\n",
              "if (notebookContainer) {{\n",
              "    x.observe(notebookContainer, {childList: true});\n",
              "}}\n",
              "\n",
              "// Listen for the clearing of the current output cell\n",
              "var outputEl = gd.closest('.output');\n",
              "if (outputEl) {{\n",
              "    x.observe(outputEl, {childList: true});\n",
              "}}\n",
              "\n",
              "                        })                };                            </script>        </div>\n",
              "</body>\n",
              "</html>"
            ]
          },
          "metadata": {}
        }
      ]
    },
    {
      "cell_type": "code",
      "source": [
        "death_count=data[data[\"Outcome of Incident\"]==\"Persons Killed\"].groupby(by=\"Million Plus Cities\")[\"Count\"].sum().sort_values(ascending=False).reset_index()\n",
        "px.bar(death_count,\"Million Plus Cities\",\"Count\",color=\"Count\",title=\"City vs Death Count\",text=\"Count\")"
      ],
      "metadata": {
        "colab": {
          "base_uri": "https://localhost:8080/",
          "height": 542
        },
        "id": "Mp4A2oYfD4qm",
        "outputId": "bf7b46ac-4f9d-4193-ab48-fb4092902e89"
      },
      "execution_count": 21,
      "outputs": [
        {
          "output_type": "display_data",
          "data": {
            "text/html": [
              "<html>\n",
              "<head><meta charset=\"utf-8\" /></head>\n",
              "<body>\n",
              "    <div>            <script src=\"https://cdnjs.cloudflare.com/ajax/libs/mathjax/2.7.5/MathJax.js?config=TeX-AMS-MML_SVG\"></script><script type=\"text/javascript\">if (window.MathJax && window.MathJax.Hub && window.MathJax.Hub.Config) {window.MathJax.Hub.Config({SVG: {font: \"STIX-Web\"}});}</script>                <script type=\"text/javascript\">window.PlotlyConfig = {MathJaxConfig: 'local'};</script>\n",
              "        <script charset=\"utf-8\" src=\"https://cdn.plot.ly/plotly-2.24.1.min.js\"></script>                <div id=\"ceff860b-b8b5-461d-b2a1-cbbdb9a4e3f8\" class=\"plotly-graph-div\" style=\"height:525px; width:100%;\"></div>            <script type=\"text/javascript\">                                    window.PLOTLYENV=window.PLOTLYENV || {};                                    if (document.getElementById(\"ceff860b-b8b5-461d-b2a1-cbbdb9a4e3f8\")) {                    Plotly.newPlot(                        \"ceff860b-b8b5-461d-b2a1-cbbdb9a4e3f8\",                        [{\"alignmentgroup\":\"True\",\"hovertemplate\":\"Million Plus Cities=%{x}\\u003cbr\\u003eCount=%{marker.color}\\u003cextra\\u003e\\u003c\\u002fextra\\u003e\",\"legendgroup\":\"\",\"marker\":{\"color\":[7176,5232,3876,3636,3378,3102,3084,2892,2754,2532,2244,2094,2094,2040,1956,1896,1890,1698,1644,1530,1524,1482,1422,1278,1260,1206,1170,1164,1146,1086,1026,918,858,852,828,816,804,648,606,546,522,498,486,396,388,360,342,318,282,270],\"coloraxis\":\"coloraxis\",\"pattern\":{\"shape\":\"\"}},\"name\":\"\",\"offsetgroup\":\"\",\"orientation\":\"v\",\"showlegend\":false,\"text\":[7176.0,5232.0,3876.0,3636.0,3378.0,3102.0,3084.0,2892.0,2754.0,2532.0,2244.0,2094.0,2094.0,2040.0,1956.0,1896.0,1890.0,1698.0,1644.0,1530.0,1524.0,1482.0,1422.0,1278.0,1260.0,1206.0,1170.0,1164.0,1146.0,1086.0,1026.0,918.0,858.0,852.0,828.0,816.0,804.0,648.0,606.0,546.0,522.0,498.0,486.0,396.0,388.0,360.0,342.0,318.0,282.0,270.0],\"textposition\":\"auto\",\"x\":[\"Delhi\",\"Chennai\",\"Bengaluru\",\"Jaipur\",\"Kanpur\",\"Allahabad(Prayagraj)\",\"Agra\",\"Raipur\",\"Indore\",\"Jabalpur\",\"Lucknow\",\"Mumbai\",\"Meerut\",\"Ahmedabad\",\"Ghaziabad\",\"Gwalior\",\"Asansol Durgapur\",\"Ludhiana\",\"Vijaywada city\",\"Vizaq\",\"Hyderabad\",\"Mallapuram\",\"Bhopal\",\"Varanasi\",\"Nagpur\",\"Kolkata\",\"Faridabad\",\"Kollam\",\"Surat\",\"Patna\",\"Nashik\",\"Vadodra\",\"Pune\",\"Jodhpur\",\"Rajkot\",\"Aurangabad\",\"Thrissur\",\"Thiruvanthapuram\",\"Kochi\",\"Khozikode\",\"Tiruchirapalli\",\"Dhanbad\",\"Madurai\",\"Amritsar\",\"Coimbatore\",\"Kota\",\"Kannur\",\"Chandigarh\",\"Jamshedpur\",\"Srinagar\"],\"xaxis\":\"x\",\"y\":[7176,5232,3876,3636,3378,3102,3084,2892,2754,2532,2244,2094,2094,2040,1956,1896,1890,1698,1644,1530,1524,1482,1422,1278,1260,1206,1170,1164,1146,1086,1026,918,858,852,828,816,804,648,606,546,522,498,486,396,388,360,342,318,282,270],\"yaxis\":\"y\",\"type\":\"bar\"}],                        {\"template\":{\"data\":{\"histogram2dcontour\":[{\"type\":\"histogram2dcontour\",\"colorbar\":{\"outlinewidth\":0,\"ticks\":\"\"},\"colorscale\":[[0.0,\"#0d0887\"],[0.1111111111111111,\"#46039f\"],[0.2222222222222222,\"#7201a8\"],[0.3333333333333333,\"#9c179e\"],[0.4444444444444444,\"#bd3786\"],[0.5555555555555556,\"#d8576b\"],[0.6666666666666666,\"#ed7953\"],[0.7777777777777778,\"#fb9f3a\"],[0.8888888888888888,\"#fdca26\"],[1.0,\"#f0f921\"]]}],\"choropleth\":[{\"type\":\"choropleth\",\"colorbar\":{\"outlinewidth\":0,\"ticks\":\"\"}}],\"histogram2d\":[{\"type\":\"histogram2d\",\"colorbar\":{\"outlinewidth\":0,\"ticks\":\"\"},\"colorscale\":[[0.0,\"#0d0887\"],[0.1111111111111111,\"#46039f\"],[0.2222222222222222,\"#7201a8\"],[0.3333333333333333,\"#9c179e\"],[0.4444444444444444,\"#bd3786\"],[0.5555555555555556,\"#d8576b\"],[0.6666666666666666,\"#ed7953\"],[0.7777777777777778,\"#fb9f3a\"],[0.8888888888888888,\"#fdca26\"],[1.0,\"#f0f921\"]]}],\"heatmap\":[{\"type\":\"heatmap\",\"colorbar\":{\"outlinewidth\":0,\"ticks\":\"\"},\"colorscale\":[[0.0,\"#0d0887\"],[0.1111111111111111,\"#46039f\"],[0.2222222222222222,\"#7201a8\"],[0.3333333333333333,\"#9c179e\"],[0.4444444444444444,\"#bd3786\"],[0.5555555555555556,\"#d8576b\"],[0.6666666666666666,\"#ed7953\"],[0.7777777777777778,\"#fb9f3a\"],[0.8888888888888888,\"#fdca26\"],[1.0,\"#f0f921\"]]}],\"heatmapgl\":[{\"type\":\"heatmapgl\",\"colorbar\":{\"outlinewidth\":0,\"ticks\":\"\"},\"colorscale\":[[0.0,\"#0d0887\"],[0.1111111111111111,\"#46039f\"],[0.2222222222222222,\"#7201a8\"],[0.3333333333333333,\"#9c179e\"],[0.4444444444444444,\"#bd3786\"],[0.5555555555555556,\"#d8576b\"],[0.6666666666666666,\"#ed7953\"],[0.7777777777777778,\"#fb9f3a\"],[0.8888888888888888,\"#fdca26\"],[1.0,\"#f0f921\"]]}],\"contourcarpet\":[{\"type\":\"contourcarpet\",\"colorbar\":{\"outlinewidth\":0,\"ticks\":\"\"}}],\"contour\":[{\"type\":\"contour\",\"colorbar\":{\"outlinewidth\":0,\"ticks\":\"\"},\"colorscale\":[[0.0,\"#0d0887\"],[0.1111111111111111,\"#46039f\"],[0.2222222222222222,\"#7201a8\"],[0.3333333333333333,\"#9c179e\"],[0.4444444444444444,\"#bd3786\"],[0.5555555555555556,\"#d8576b\"],[0.6666666666666666,\"#ed7953\"],[0.7777777777777778,\"#fb9f3a\"],[0.8888888888888888,\"#fdca26\"],[1.0,\"#f0f921\"]]}],\"surface\":[{\"type\":\"surface\",\"colorbar\":{\"outlinewidth\":0,\"ticks\":\"\"},\"colorscale\":[[0.0,\"#0d0887\"],[0.1111111111111111,\"#46039f\"],[0.2222222222222222,\"#7201a8\"],[0.3333333333333333,\"#9c179e\"],[0.4444444444444444,\"#bd3786\"],[0.5555555555555556,\"#d8576b\"],[0.6666666666666666,\"#ed7953\"],[0.7777777777777778,\"#fb9f3a\"],[0.8888888888888888,\"#fdca26\"],[1.0,\"#f0f921\"]]}],\"mesh3d\":[{\"type\":\"mesh3d\",\"colorbar\":{\"outlinewidth\":0,\"ticks\":\"\"}}],\"scatter\":[{\"fillpattern\":{\"fillmode\":\"overlay\",\"size\":10,\"solidity\":0.2},\"type\":\"scatter\"}],\"parcoords\":[{\"type\":\"parcoords\",\"line\":{\"colorbar\":{\"outlinewidth\":0,\"ticks\":\"\"}}}],\"scatterpolargl\":[{\"type\":\"scatterpolargl\",\"marker\":{\"colorbar\":{\"outlinewidth\":0,\"ticks\":\"\"}}}],\"bar\":[{\"error_x\":{\"color\":\"#2a3f5f\"},\"error_y\":{\"color\":\"#2a3f5f\"},\"marker\":{\"line\":{\"color\":\"#E5ECF6\",\"width\":0.5},\"pattern\":{\"fillmode\":\"overlay\",\"size\":10,\"solidity\":0.2}},\"type\":\"bar\"}],\"scattergeo\":[{\"type\":\"scattergeo\",\"marker\":{\"colorbar\":{\"outlinewidth\":0,\"ticks\":\"\"}}}],\"scatterpolar\":[{\"type\":\"scatterpolar\",\"marker\":{\"colorbar\":{\"outlinewidth\":0,\"ticks\":\"\"}}}],\"histogram\":[{\"marker\":{\"pattern\":{\"fillmode\":\"overlay\",\"size\":10,\"solidity\":0.2}},\"type\":\"histogram\"}],\"scattergl\":[{\"type\":\"scattergl\",\"marker\":{\"colorbar\":{\"outlinewidth\":0,\"ticks\":\"\"}}}],\"scatter3d\":[{\"type\":\"scatter3d\",\"line\":{\"colorbar\":{\"outlinewidth\":0,\"ticks\":\"\"}},\"marker\":{\"colorbar\":{\"outlinewidth\":0,\"ticks\":\"\"}}}],\"scattermapbox\":[{\"type\":\"scattermapbox\",\"marker\":{\"colorbar\":{\"outlinewidth\":0,\"ticks\":\"\"}}}],\"scatterternary\":[{\"type\":\"scatterternary\",\"marker\":{\"colorbar\":{\"outlinewidth\":0,\"ticks\":\"\"}}}],\"scattercarpet\":[{\"type\":\"scattercarpet\",\"marker\":{\"colorbar\":{\"outlinewidth\":0,\"ticks\":\"\"}}}],\"carpet\":[{\"aaxis\":{\"endlinecolor\":\"#2a3f5f\",\"gridcolor\":\"white\",\"linecolor\":\"white\",\"minorgridcolor\":\"white\",\"startlinecolor\":\"#2a3f5f\"},\"baxis\":{\"endlinecolor\":\"#2a3f5f\",\"gridcolor\":\"white\",\"linecolor\":\"white\",\"minorgridcolor\":\"white\",\"startlinecolor\":\"#2a3f5f\"},\"type\":\"carpet\"}],\"table\":[{\"cells\":{\"fill\":{\"color\":\"#EBF0F8\"},\"line\":{\"color\":\"white\"}},\"header\":{\"fill\":{\"color\":\"#C8D4E3\"},\"line\":{\"color\":\"white\"}},\"type\":\"table\"}],\"barpolar\":[{\"marker\":{\"line\":{\"color\":\"#E5ECF6\",\"width\":0.5},\"pattern\":{\"fillmode\":\"overlay\",\"size\":10,\"solidity\":0.2}},\"type\":\"barpolar\"}],\"pie\":[{\"automargin\":true,\"type\":\"pie\"}]},\"layout\":{\"autotypenumbers\":\"strict\",\"colorway\":[\"#636efa\",\"#EF553B\",\"#00cc96\",\"#ab63fa\",\"#FFA15A\",\"#19d3f3\",\"#FF6692\",\"#B6E880\",\"#FF97FF\",\"#FECB52\"],\"font\":{\"color\":\"#2a3f5f\"},\"hovermode\":\"closest\",\"hoverlabel\":{\"align\":\"left\"},\"paper_bgcolor\":\"white\",\"plot_bgcolor\":\"#E5ECF6\",\"polar\":{\"bgcolor\":\"#E5ECF6\",\"angularaxis\":{\"gridcolor\":\"white\",\"linecolor\":\"white\",\"ticks\":\"\"},\"radialaxis\":{\"gridcolor\":\"white\",\"linecolor\":\"white\",\"ticks\":\"\"}},\"ternary\":{\"bgcolor\":\"#E5ECF6\",\"aaxis\":{\"gridcolor\":\"white\",\"linecolor\":\"white\",\"ticks\":\"\"},\"baxis\":{\"gridcolor\":\"white\",\"linecolor\":\"white\",\"ticks\":\"\"},\"caxis\":{\"gridcolor\":\"white\",\"linecolor\":\"white\",\"ticks\":\"\"}},\"coloraxis\":{\"colorbar\":{\"outlinewidth\":0,\"ticks\":\"\"}},\"colorscale\":{\"sequential\":[[0.0,\"#0d0887\"],[0.1111111111111111,\"#46039f\"],[0.2222222222222222,\"#7201a8\"],[0.3333333333333333,\"#9c179e\"],[0.4444444444444444,\"#bd3786\"],[0.5555555555555556,\"#d8576b\"],[0.6666666666666666,\"#ed7953\"],[0.7777777777777778,\"#fb9f3a\"],[0.8888888888888888,\"#fdca26\"],[1.0,\"#f0f921\"]],\"sequentialminus\":[[0.0,\"#0d0887\"],[0.1111111111111111,\"#46039f\"],[0.2222222222222222,\"#7201a8\"],[0.3333333333333333,\"#9c179e\"],[0.4444444444444444,\"#bd3786\"],[0.5555555555555556,\"#d8576b\"],[0.6666666666666666,\"#ed7953\"],[0.7777777777777778,\"#fb9f3a\"],[0.8888888888888888,\"#fdca26\"],[1.0,\"#f0f921\"]],\"diverging\":[[0,\"#8e0152\"],[0.1,\"#c51b7d\"],[0.2,\"#de77ae\"],[0.3,\"#f1b6da\"],[0.4,\"#fde0ef\"],[0.5,\"#f7f7f7\"],[0.6,\"#e6f5d0\"],[0.7,\"#b8e186\"],[0.8,\"#7fbc41\"],[0.9,\"#4d9221\"],[1,\"#276419\"]]},\"xaxis\":{\"gridcolor\":\"white\",\"linecolor\":\"white\",\"ticks\":\"\",\"title\":{\"standoff\":15},\"zerolinecolor\":\"white\",\"automargin\":true,\"zerolinewidth\":2},\"yaxis\":{\"gridcolor\":\"white\",\"linecolor\":\"white\",\"ticks\":\"\",\"title\":{\"standoff\":15},\"zerolinecolor\":\"white\",\"automargin\":true,\"zerolinewidth\":2},\"scene\":{\"xaxis\":{\"backgroundcolor\":\"#E5ECF6\",\"gridcolor\":\"white\",\"linecolor\":\"white\",\"showbackground\":true,\"ticks\":\"\",\"zerolinecolor\":\"white\",\"gridwidth\":2},\"yaxis\":{\"backgroundcolor\":\"#E5ECF6\",\"gridcolor\":\"white\",\"linecolor\":\"white\",\"showbackground\":true,\"ticks\":\"\",\"zerolinecolor\":\"white\",\"gridwidth\":2},\"zaxis\":{\"backgroundcolor\":\"#E5ECF6\",\"gridcolor\":\"white\",\"linecolor\":\"white\",\"showbackground\":true,\"ticks\":\"\",\"zerolinecolor\":\"white\",\"gridwidth\":2}},\"shapedefaults\":{\"line\":{\"color\":\"#2a3f5f\"}},\"annotationdefaults\":{\"arrowcolor\":\"#2a3f5f\",\"arrowhead\":0,\"arrowwidth\":1},\"geo\":{\"bgcolor\":\"white\",\"landcolor\":\"#E5ECF6\",\"subunitcolor\":\"white\",\"showland\":true,\"showlakes\":true,\"lakecolor\":\"white\"},\"title\":{\"x\":0.05},\"mapbox\":{\"style\":\"light\"}}},\"xaxis\":{\"anchor\":\"y\",\"domain\":[0.0,1.0],\"title\":{\"text\":\"Million Plus Cities\"}},\"yaxis\":{\"anchor\":\"x\",\"domain\":[0.0,1.0],\"title\":{\"text\":\"Count\"}},\"coloraxis\":{\"colorbar\":{\"title\":{\"text\":\"Count\"}},\"colorscale\":[[0.0,\"#0d0887\"],[0.1111111111111111,\"#46039f\"],[0.2222222222222222,\"#7201a8\"],[0.3333333333333333,\"#9c179e\"],[0.4444444444444444,\"#bd3786\"],[0.5555555555555556,\"#d8576b\"],[0.6666666666666666,\"#ed7953\"],[0.7777777777777778,\"#fb9f3a\"],[0.8888888888888888,\"#fdca26\"],[1.0,\"#f0f921\"]]},\"legend\":{\"tracegroupgap\":0},\"title\":{\"text\":\"City vs Death Count\"},\"barmode\":\"relative\"},                        {\"responsive\": true}                    ).then(function(){\n",
              "                            \n",
              "var gd = document.getElementById('ceff860b-b8b5-461d-b2a1-cbbdb9a4e3f8');\n",
              "var x = new MutationObserver(function (mutations, observer) {{\n",
              "        var display = window.getComputedStyle(gd).display;\n",
              "        if (!display || display === 'none') {{\n",
              "            console.log([gd, 'removed!']);\n",
              "            Plotly.purge(gd);\n",
              "            observer.disconnect();\n",
              "        }}\n",
              "}});\n",
              "\n",
              "// Listen for the removal of the full notebook cells\n",
              "var notebookContainer = gd.closest('#notebook-container');\n",
              "if (notebookContainer) {{\n",
              "    x.observe(notebookContainer, {childList: true});\n",
              "}}\n",
              "\n",
              "// Listen for the clearing of the current output cell\n",
              "var outputEl = gd.closest('.output');\n",
              "if (outputEl) {{\n",
              "    x.observe(outputEl, {childList: true});\n",
              "}}\n",
              "\n",
              "                        })                };                            </script>        </div>\n",
              "</body>\n",
              "</html>"
            ]
          },
          "metadata": {}
        }
      ]
    },
    {
      "cell_type": "code",
      "source": [
        "city_list = sorted(set(data[\"Million Plus Cities\"]))\n",
        "fig=go.Figure()\n",
        "city_plot_names = []\n",
        "buttons=[]\n",
        "default_city = \"Chennai\"\n",
        "for city_name in city_list:\n",
        "    region=data[data[\"Million Plus Cities\"]==city_name].groupby(by=[\"Outcome of Incident\"])[\"Count\"].sum().reset_index()\n",
        "    region=region.sort_values(by=\"Count\",ascending=False)\n",
        "    fig.add_trace(go.Bar(x=region[\"Outcome of Incident\"],y=region[\"Count\"],marker=dict(color=\"tomato\"),text=region[\"Count\"], visible=(city_name==default_city)))\n",
        "\n",
        "    city_plot_names.extend([city_name])\n",
        "\n",
        "for city_name in city_list:\n",
        "    buttons.append(dict(method='update',\n",
        "                        label=city_name,\n",
        "                        args = [{'visible': [city_name==r for r in city_plot_names]}]))\n",
        "\n",
        "# Add dropdown menus to the figure\n",
        "fig.update_layout(showlegend=False, updatemenus=[{\"buttons\": buttons, \"direction\": \"down\", \"active\": city_list.index(default_city)}])\n",
        "fig.update_layout(xaxis_title=\"Outcome\", yaxis_title=\"Count\",title=dict(text=\"City Vs OutCome Of the Incident\", font=dict(size=40)))\n",
        "fig.show()"
      ],
      "metadata": {
        "colab": {
          "base_uri": "https://localhost:8080/",
          "height": 542
        },
        "id": "P8jpRwJMEFLt",
        "outputId": "0dc25b08-b5f6-4eba-82c9-e0bc019ad17a"
      },
      "execution_count": 22,
      "outputs": [
        {
          "output_type": "display_data",
          "data": {
            "text/html": [
              "<html>\n",
              "<head><meta charset=\"utf-8\" /></head>\n",
              "<body>\n",
              "    <div>            <script src=\"https://cdnjs.cloudflare.com/ajax/libs/mathjax/2.7.5/MathJax.js?config=TeX-AMS-MML_SVG\"></script><script type=\"text/javascript\">if (window.MathJax && window.MathJax.Hub && window.MathJax.Hub.Config) {window.MathJax.Hub.Config({SVG: {font: \"STIX-Web\"}});}</script>                <script type=\"text/javascript\">window.PlotlyConfig = {MathJaxConfig: 'local'};</script>\n",
              "        <script charset=\"utf-8\" src=\"https://cdn.plot.ly/plotly-2.24.1.min.js\"></script>                <div id=\"1b1f6a4c-282e-49b6-a8ff-3b822e05333f\" class=\"plotly-graph-div\" style=\"height:525px; width:100%;\"></div>            <script type=\"text/javascript\">                                    window.PLOTLYENV=window.PLOTLYENV || {};                                    if (document.getElementById(\"1b1f6a4c-282e-49b6-a8ff-3b822e05333f\")) {                    Plotly.newPlot(                        \"1b1f6a4c-282e-49b6-a8ff-3b822e05333f\",                        [{\"marker\":{\"color\":\"tomato\"},\"text\":[5436.0,3165.0,3084.0,2262.0,1536.0],\"visible\":false,\"x\":[\"Total number of Accidents\",\"Total Injured\",\"Persons Killed\",\"Greviously Injured\",\"Minor Injury\"],\"y\":[5436,3165,3084,2262,1536],\"type\":\"bar\"},{\"marker\":{\"color\":\"tomato\"},\"text\":[7110.0,3930.0,2856.0,2040.0,1860.0],\"visible\":false,\"x\":[\"Total number of Accidents\",\"Total Injured\",\"Greviously Injured\",\"Persons Killed\",\"Minor Injury\"],\"y\":[7110,3930,2856,2040,1860],\"type\":\"bar\"},{\"marker\":{\"color\":\"tomato\"},\"text\":[6912.0,3666.0,3660.0,3102.0,726.0],\"visible\":false,\"x\":[\"Total number of Accidents\",\"Minor Injury\",\"Total Injured\",\"Persons Killed\",\"Greviously Injured\"],\"y\":[6912,3666,3660,3102,726],\"type\":\"bar\"},{\"marker\":{\"color\":\"tomato\"},\"text\":[600.0,396.0,295.0,228.0,126.0],\"visible\":false,\"x\":[\"Total number of Accidents\",\"Persons Killed\",\"Total Injured\",\"Greviously Injured\",\"Minor Injury\"],\"y\":[600,396,295,228,126],\"type\":\"bar\"},{\"marker\":{\"color\":\"tomato\"},\"text\":[2568.0,1890.0,1230.0,1218.0,258.0],\"visible\":false,\"x\":[\"Total number of Accidents\",\"Persons Killed\",\"Total Injured\",\"Greviously Injured\",\"Minor Injury\"],\"y\":[2568,1890,1230,1218,258],\"type\":\"bar\"},{\"marker\":{\"color\":\"tomato\"},\"text\":[2436.0,1465.0,1320.0,816.0,438.0],\"visible\":false,\"x\":[\"Total number of Accidents\",\"Total Injured\",\"Greviously Injured\",\"Persons Killed\",\"Minor Injury\"],\"y\":[2436,1465,1320,816,438],\"type\":\"bar\"},{\"marker\":{\"color\":\"tomato\"},\"text\":[19398.0,13755.0,10242.0,6264.0,3876.0],\"visible\":false,\"x\":[\"Total number of Accidents\",\"Total Injured\",\"Greviously Injured\",\"Minor Injury\",\"Persons Killed\"],\"y\":[19398,13755,10242,6264,3876],\"type\":\"bar\"},{\"marker\":{\"color\":\"tomato\"},\"text\":[13770.0,9726.0,9035.0,1422.0,1116.0],\"visible\":false,\"x\":[\"Total number of Accidents\",\"Minor Injury\",\"Total Injured\",\"Persons Killed\",\"Greviously Injured\"],\"y\":[13770,9726,9035,1422,1116],\"type\":\"bar\"},{\"marker\":{\"color\":\"tomato\"},\"text\":[954.0,804.0,740.0,318.0,84.0],\"visible\":false,\"x\":[\"Total number of Accidents\",\"Minor Injury\",\"Total Injured\",\"Persons Killed\",\"Greviously Injured\"],\"y\":[954,804,740,318,84],\"type\":\"bar\"},{\"marker\":{\"color\":\"tomato\"},\"text\":[26334.0,21315.0,19932.0,5646.0,5232.0],\"visible\":true,\"x\":[\"Total number of Accidents\",\"Total Injured\",\"Minor Injury\",\"Greviously Injured\",\"Persons Killed\"],\"y\":[26334,21315,19932,5646,5232],\"type\":\"bar\"},{\"marker\":{\"color\":\"tomato\"},\"text\":[4242.0,3610.0,2250.0,2082.0,388.0],\"visible\":false,\"x\":[\"Total number of Accidents\",\"Total Injured\",\"Minor Injury\",\"Greviously Injured\",\"Persons Killed\"],\"y\":[4242,3610,2250,2082,388],\"type\":\"bar\"},{\"marker\":{\"color\":\"tomato\"},\"text\":[25068.0,20700.0,18310.0,7176.0,1272.0],\"visible\":false,\"x\":[\"Total number of Accidents\",\"Minor Injury\",\"Total Injured\",\"Persons Killed\",\"Greviously Injured\"],\"y\":[25068,20700,18310,7176,1272],\"type\":\"bar\"},{\"marker\":{\"color\":\"tomato\"},\"text\":[984.0,498.0,490.0,432.0,156.0],\"visible\":false,\"x\":[\"Total number of Accidents\",\"Persons Killed\",\"Total Injured\",\"Greviously Injured\",\"Minor Injury\"],\"y\":[984,498,490,432,156],\"type\":\"bar\"},{\"marker\":{\"color\":\"tomato\"},\"text\":[2934.0,2136.0,2105.0,1170.0,390.0],\"visible\":false,\"x\":[\"Total number of Accidents\",\"Minor Injury\",\"Total Injured\",\"Persons Killed\",\"Greviously Injured\"],\"y\":[2934,2136,2105,1170,390],\"type\":\"bar\"},{\"marker\":{\"color\":\"tomato\"},\"text\":[4248.0,2325.0,1956.0,1782.0,1008.0],\"visible\":false,\"x\":[\"Total number of Accidents\",\"Total Injured\",\"Persons Killed\",\"Greviously Injured\",\"Minor Injury\"],\"y\":[4248,2325,1956,1782,1008],\"type\":\"bar\"},{\"marker\":{\"color\":\"tomato\"},\"text\":[10794.0,7404.0,6645.0,1896.0,570.0],\"visible\":false,\"x\":[\"Total number of Accidents\",\"Minor Injury\",\"Total Injured\",\"Persons Killed\",\"Greviously Injured\"],\"y\":[10794,7404,6645,1896,570],\"type\":\"bar\"},{\"marker\":{\"color\":\"tomato\"},\"text\":[12384.0,10770.0,9460.0,1524.0,582.0],\"visible\":false,\"x\":[\"Total number of Accidents\",\"Minor Injury\",\"Total Injured\",\"Persons Killed\",\"Greviously Injured\"],\"y\":[12384,10770,9460,1524,582],\"type\":\"bar\"},{\"marker\":{\"color\":\"tomato\"},\"text\":[18216.0,14556.0,13240.0,2754.0,1332.0],\"visible\":false,\"x\":[\"Total number of Accidents\",\"Minor Injury\",\"Total Injured\",\"Persons Killed\",\"Greviously Injured\"],\"y\":[18216,14556,13240,2754,1332],\"type\":\"bar\"},{\"marker\":{\"color\":\"tomato\"},\"text\":[19356.0,16602.0,16285.0,2940.0,2532.0],\"visible\":false,\"x\":[\"Total number of Accidents\",\"Minor Injury\",\"Total Injured\",\"Greviously Injured\",\"Persons Killed\"],\"y\":[19356,16602,16285,2940,2532],\"type\":\"bar\"},{\"marker\":{\"color\":\"tomato\"},\"text\":[11640.0,7840.0,6744.0,3636.0,2664.0],\"visible\":false,\"x\":[\"Total number of Accidents\",\"Total Injured\",\"Minor Injury\",\"Persons Killed\",\"Greviously Injured\"],\"y\":[11640,7840,6744,3636,2664],\"type\":\"bar\"},{\"marker\":{\"color\":\"tomato\"},\"text\":[714.0,456.0,455.0,282.0,90.0],\"visible\":false,\"x\":[\"Total number of Accidents\",\"Greviously Injured\",\"Total Injured\",\"Persons Killed\",\"Minor Injury\"],\"y\":[714,456,455,282,90],\"type\":\"bar\"},{\"marker\":{\"color\":\"tomato\"},\"text\":[1752.0,1044.0,1035.0,852.0,198.0],\"visible\":false,\"x\":[\"Total number of Accidents\",\"Minor Injury\",\"Total Injured\",\"Persons Killed\",\"Greviously Injured\"],\"y\":[1752,1044,1035,852,198],\"type\":\"bar\"},{\"marker\":{\"color\":\"tomato\"},\"text\":[3024.0,2865.0,1824.0,1614.0,342.0],\"visible\":false,\"x\":[\"Total number of Accidents\",\"Total Injured\",\"Greviously Injured\",\"Minor Injury\",\"Persons Killed\"],\"y\":[3024,2865,1824,1614,342],\"type\":\"bar\"},{\"marker\":{\"color\":\"tomato\"},\"text\":[7344.0,4158.0,3890.0,3378.0,510.0],\"visible\":false,\"x\":[\"Total number of Accidents\",\"Greviously Injured\",\"Total Injured\",\"Persons Killed\",\"Minor Injury\"],\"y\":[7344,4158,3890,3378,510],\"type\":\"bar\"},{\"marker\":{\"color\":\"tomato\"},\"text\":[6018.0,5060.0,4572.0,1500.0,546.0],\"visible\":false,\"x\":[\"Total number of Accidents\",\"Total Injured\",\"Greviously Injured\",\"Minor Injury\",\"Persons Killed\"],\"y\":[6018,5060,4572,1500,546],\"type\":\"bar\"},{\"marker\":{\"color\":\"tomato\"},\"text\":[8622.0,7030.0,6732.0,1704.0,606.0],\"visible\":false,\"x\":[\"Total number of Accidents\",\"Total Injured\",\"Greviously Injured\",\"Minor Injury\",\"Persons Killed\"],\"y\":[8622,7030,6732,1704,606],\"type\":\"bar\"},{\"marker\":{\"color\":\"tomato\"},\"text\":[10098.0,7005.0,5064.0,3342.0,1206.0],\"visible\":false,\"x\":[\"Total number of Accidents\",\"Total Injured\",\"Greviously Injured\",\"Minor Injury\",\"Persons Killed\"],\"y\":[10098,7005,5064,3342,1206],\"type\":\"bar\"},{\"marker\":{\"color\":\"tomato\"},\"text\":[8466.0,7236.0,6905.0,1164.0,1050.0],\"visible\":false,\"x\":[\"Total number of Accidents\",\"Greviously Injured\",\"Total Injured\",\"Persons Killed\",\"Minor Injury\"],\"y\":[8466,7236,6905,1164,1050],\"type\":\"bar\"},{\"marker\":{\"color\":\"tomato\"},\"text\":[2118.0,1810.0,1770.0,402.0,360.0],\"visible\":false,\"x\":[\"Total number of Accidents\",\"Total Injured\",\"Minor Injury\",\"Greviously Injured\",\"Persons Killed\"],\"y\":[2118,1810,1770,402,360],\"type\":\"bar\"},{\"marker\":{\"color\":\"tomato\"},\"text\":[5676.0,2770.0,2244.0,1836.0,1488.0],\"visible\":false,\"x\":[\"Total number of Accidents\",\"Total Injured\",\"Persons Killed\",\"Greviously Injured\",\"Minor Injury\"],\"y\":[5676,2770,2244,1836,1488],\"type\":\"bar\"},{\"marker\":{\"color\":\"tomato\"},\"text\":[2508.0,1698.0,920.0,834.0,270.0],\"visible\":false,\"x\":[\"Total number of Accidents\",\"Persons Killed\",\"Total Injured\",\"Greviously Injured\",\"Minor Injury\"],\"y\":[2508,1698,920,834,270],\"type\":\"bar\"},{\"marker\":{\"color\":\"tomato\"},\"text\":[3180.0,2495.0,2322.0,672.0,486.0],\"visible\":false,\"x\":[\"Total number of Accidents\",\"Total Injured\",\"Minor Injury\",\"Greviously Injured\",\"Persons Killed\"],\"y\":[3180,2495,2322,672,486],\"type\":\"bar\"},{\"marker\":{\"color\":\"tomato\"},\"text\":[10704.0,9140.0,8208.0,2760.0,1482.0],\"visible\":false,\"x\":[\"Total number of Accidents\",\"Total Injured\",\"Greviously Injured\",\"Minor Injury\",\"Persons Killed\"],\"y\":[10704,9140,8208,2760,1482],\"type\":\"bar\"},{\"marker\":{\"color\":\"tomato\"},\"text\":[4350.0,2760.0,2435.0,2094.0,162.0],\"visible\":false,\"x\":[\"Total number of Accidents\",\"Minor Injury\",\"Total Injured\",\"Persons Killed\",\"Greviously Injured\"],\"y\":[4350,2760,2435,2094,162],\"type\":\"bar\"},{\"marker\":{\"color\":\"tomato\"},\"text\":[10872.0,8700.0,7782.0,2658.0,2094.0],\"visible\":false,\"x\":[\"Total number of Accidents\",\"Total Injured\",\"Greviously Injured\",\"Minor Injury\",\"Persons Killed\"],\"y\":[10872,8700,7782,2658,2094],\"type\":\"bar\"},{\"marker\":{\"color\":\"tomato\"},\"text\":[4638.0,3760.0,2520.0,1992.0,1260.0],\"visible\":false,\"x\":[\"Total number of Accidents\",\"Total Injured\",\"Greviously Injured\",\"Minor Injury\",\"Persons Killed\"],\"y\":[4638,3760,2520,1992,1260],\"type\":\"bar\"},{\"marker\":{\"color\":\"tomato\"},\"text\":[2496.0,1825.0,1722.0,1026.0,468.0],\"visible\":false,\"x\":[\"Total number of Accidents\",\"Total Injured\",\"Greviously Injured\",\"Persons Killed\",\"Minor Injury\"],\"y\":[2496,1825,1722,1026,468],\"type\":\"bar\"},{\"marker\":{\"color\":\"tomato\"},\"text\":[2238.0,1368.0,1215.0,1086.0,90.0],\"visible\":false,\"x\":[\"Total number of Accidents\",\"Greviously Injured\",\"Total Injured\",\"Persons Killed\",\"Minor Injury\"],\"y\":[2238,1368,1215,1086,90],\"type\":\"bar\"},{\"marker\":{\"color\":\"tomato\"},\"text\":[2892.0,1940.0,1782.0,858.0,546.0],\"visible\":false,\"x\":[\"Total number of Accidents\",\"Total Injured\",\"Greviously Injured\",\"Persons Killed\",\"Minor Injury\"],\"y\":[2892,1940,1782,858,546],\"type\":\"bar\"},{\"marker\":{\"color\":\"tomato\"},\"text\":[10596.0,7470.0,6470.0,2892.0,294.0],\"visible\":false,\"x\":[\"Total number of Accidents\",\"Minor Injury\",\"Total Injured\",\"Persons Killed\",\"Greviously Injured\"],\"y\":[10596,7470,6470,2892,294],\"type\":\"bar\"},{\"marker\":{\"color\":\"tomato\"},\"text\":[2592.0,1620.0,1206.0,828.0,738.0],\"visible\":false,\"x\":[\"Total number of Accidents\",\"Total Injured\",\"Greviously Injured\",\"Persons Killed\",\"Minor Injury\"],\"y\":[2592,1620,1206,828,738],\"type\":\"bar\"},{\"marker\":{\"color\":\"tomato\"},\"text\":[1650.0,1650.0,1375.0,270.0,0.0],\"visible\":false,\"x\":[\"Minor Injury\",\"Total number of Accidents\",\"Total Injured\",\"Persons Killed\",\"Greviously Injured\"],\"y\":[1650,1650,1375,270,0],\"type\":\"bar\"},{\"marker\":{\"color\":\"tomato\"},\"text\":[3450.0,2115.0,1908.0,1146.0,630.0],\"visible\":false,\"x\":[\"Total number of Accidents\",\"Total Injured\",\"Greviously Injured\",\"Persons Killed\",\"Minor Injury\"],\"y\":[3450,2115,1908,1146,630],\"type\":\"bar\"},{\"marker\":{\"color\":\"tomato\"},\"text\":[7284.0,6315.0,6144.0,1434.0,648.0],\"visible\":false,\"x\":[\"Total number of Accidents\",\"Total Injured\",\"Greviously Injured\",\"Minor Injury\",\"Persons Killed\"],\"y\":[7284,6315,6144,1434,648],\"type\":\"bar\"},{\"marker\":{\"color\":\"tomato\"},\"text\":[8784.0,8160.0,6612.0,3180.0,804.0],\"visible\":false,\"x\":[\"Total number of Accidents\",\"Total Injured\",\"Greviously Injured\",\"Minor Injury\",\"Persons Killed\"],\"y\":[8784,8160,6612,3180,804],\"type\":\"bar\"},{\"marker\":{\"color\":\"tomato\"},\"text\":[2406.0,2388.0,2005.0,522.0,0.0],\"visible\":false,\"x\":[\"Minor Injury\",\"Total number of Accidents\",\"Total Injured\",\"Persons Killed\",\"Greviously Injured\"],\"y\":[2406,2388,2005,522,0],\"type\":\"bar\"},{\"marker\":{\"color\":\"tomato\"},\"text\":[2886.0,2040.0,1446.0,1002.0,918.0],\"visible\":false,\"x\":[\"Total number of Accidents\",\"Total Injured\",\"Greviously Injured\",\"Minor Injury\",\"Persons Killed\"],\"y\":[2886,2040,1446,1002,918],\"type\":\"bar\"},{\"marker\":{\"color\":\"tomato\"},\"text\":[2670.0,1525.0,1278.0,1092.0,738.0],\"visible\":false,\"x\":[\"Total number of Accidents\",\"Total Injured\",\"Persons Killed\",\"Greviously Injured\",\"Minor Injury\"],\"y\":[2670,1525,1278,1092,738],\"type\":\"bar\"},{\"marker\":{\"color\":\"tomato\"},\"text\":[6432.0,4885.0,3408.0,2454.0,1644.0],\"visible\":false,\"x\":[\"Total number of Accidents\",\"Total Injured\",\"Minor Injury\",\"Greviously Injured\",\"Persons Killed\"],\"y\":[6432,4885,3408,2454,1644],\"type\":\"bar\"},{\"marker\":{\"color\":\"tomato\"},\"text\":[10590.0,5910.0,4764.0,2328.0,1530.0],\"visible\":false,\"x\":[\"Total number of Accidents\",\"Total Injured\",\"Greviously Injured\",\"Minor Injury\",\"Persons Killed\"],\"y\":[10590,5910,4764,2328,1530],\"type\":\"bar\"}],                        {\"template\":{\"data\":{\"histogram2dcontour\":[{\"type\":\"histogram2dcontour\",\"colorbar\":{\"outlinewidth\":0,\"ticks\":\"\"},\"colorscale\":[[0.0,\"#0d0887\"],[0.1111111111111111,\"#46039f\"],[0.2222222222222222,\"#7201a8\"],[0.3333333333333333,\"#9c179e\"],[0.4444444444444444,\"#bd3786\"],[0.5555555555555556,\"#d8576b\"],[0.6666666666666666,\"#ed7953\"],[0.7777777777777778,\"#fb9f3a\"],[0.8888888888888888,\"#fdca26\"],[1.0,\"#f0f921\"]]}],\"choropleth\":[{\"type\":\"choropleth\",\"colorbar\":{\"outlinewidth\":0,\"ticks\":\"\"}}],\"histogram2d\":[{\"type\":\"histogram2d\",\"colorbar\":{\"outlinewidth\":0,\"ticks\":\"\"},\"colorscale\":[[0.0,\"#0d0887\"],[0.1111111111111111,\"#46039f\"],[0.2222222222222222,\"#7201a8\"],[0.3333333333333333,\"#9c179e\"],[0.4444444444444444,\"#bd3786\"],[0.5555555555555556,\"#d8576b\"],[0.6666666666666666,\"#ed7953\"],[0.7777777777777778,\"#fb9f3a\"],[0.8888888888888888,\"#fdca26\"],[1.0,\"#f0f921\"]]}],\"heatmap\":[{\"type\":\"heatmap\",\"colorbar\":{\"outlinewidth\":0,\"ticks\":\"\"},\"colorscale\":[[0.0,\"#0d0887\"],[0.1111111111111111,\"#46039f\"],[0.2222222222222222,\"#7201a8\"],[0.3333333333333333,\"#9c179e\"],[0.4444444444444444,\"#bd3786\"],[0.5555555555555556,\"#d8576b\"],[0.6666666666666666,\"#ed7953\"],[0.7777777777777778,\"#fb9f3a\"],[0.8888888888888888,\"#fdca26\"],[1.0,\"#f0f921\"]]}],\"heatmapgl\":[{\"type\":\"heatmapgl\",\"colorbar\":{\"outlinewidth\":0,\"ticks\":\"\"},\"colorscale\":[[0.0,\"#0d0887\"],[0.1111111111111111,\"#46039f\"],[0.2222222222222222,\"#7201a8\"],[0.3333333333333333,\"#9c179e\"],[0.4444444444444444,\"#bd3786\"],[0.5555555555555556,\"#d8576b\"],[0.6666666666666666,\"#ed7953\"],[0.7777777777777778,\"#fb9f3a\"],[0.8888888888888888,\"#fdca26\"],[1.0,\"#f0f921\"]]}],\"contourcarpet\":[{\"type\":\"contourcarpet\",\"colorbar\":{\"outlinewidth\":0,\"ticks\":\"\"}}],\"contour\":[{\"type\":\"contour\",\"colorbar\":{\"outlinewidth\":0,\"ticks\":\"\"},\"colorscale\":[[0.0,\"#0d0887\"],[0.1111111111111111,\"#46039f\"],[0.2222222222222222,\"#7201a8\"],[0.3333333333333333,\"#9c179e\"],[0.4444444444444444,\"#bd3786\"],[0.5555555555555556,\"#d8576b\"],[0.6666666666666666,\"#ed7953\"],[0.7777777777777778,\"#fb9f3a\"],[0.8888888888888888,\"#fdca26\"],[1.0,\"#f0f921\"]]}],\"surface\":[{\"type\":\"surface\",\"colorbar\":{\"outlinewidth\":0,\"ticks\":\"\"},\"colorscale\":[[0.0,\"#0d0887\"],[0.1111111111111111,\"#46039f\"],[0.2222222222222222,\"#7201a8\"],[0.3333333333333333,\"#9c179e\"],[0.4444444444444444,\"#bd3786\"],[0.5555555555555556,\"#d8576b\"],[0.6666666666666666,\"#ed7953\"],[0.7777777777777778,\"#fb9f3a\"],[0.8888888888888888,\"#fdca26\"],[1.0,\"#f0f921\"]]}],\"mesh3d\":[{\"type\":\"mesh3d\",\"colorbar\":{\"outlinewidth\":0,\"ticks\":\"\"}}],\"scatter\":[{\"fillpattern\":{\"fillmode\":\"overlay\",\"size\":10,\"solidity\":0.2},\"type\":\"scatter\"}],\"parcoords\":[{\"type\":\"parcoords\",\"line\":{\"colorbar\":{\"outlinewidth\":0,\"ticks\":\"\"}}}],\"scatterpolargl\":[{\"type\":\"scatterpolargl\",\"marker\":{\"colorbar\":{\"outlinewidth\":0,\"ticks\":\"\"}}}],\"bar\":[{\"error_x\":{\"color\":\"#2a3f5f\"},\"error_y\":{\"color\":\"#2a3f5f\"},\"marker\":{\"line\":{\"color\":\"#E5ECF6\",\"width\":0.5},\"pattern\":{\"fillmode\":\"overlay\",\"size\":10,\"solidity\":0.2}},\"type\":\"bar\"}],\"scattergeo\":[{\"type\":\"scattergeo\",\"marker\":{\"colorbar\":{\"outlinewidth\":0,\"ticks\":\"\"}}}],\"scatterpolar\":[{\"type\":\"scatterpolar\",\"marker\":{\"colorbar\":{\"outlinewidth\":0,\"ticks\":\"\"}}}],\"histogram\":[{\"marker\":{\"pattern\":{\"fillmode\":\"overlay\",\"size\":10,\"solidity\":0.2}},\"type\":\"histogram\"}],\"scattergl\":[{\"type\":\"scattergl\",\"marker\":{\"colorbar\":{\"outlinewidth\":0,\"ticks\":\"\"}}}],\"scatter3d\":[{\"type\":\"scatter3d\",\"line\":{\"colorbar\":{\"outlinewidth\":0,\"ticks\":\"\"}},\"marker\":{\"colorbar\":{\"outlinewidth\":0,\"ticks\":\"\"}}}],\"scattermapbox\":[{\"type\":\"scattermapbox\",\"marker\":{\"colorbar\":{\"outlinewidth\":0,\"ticks\":\"\"}}}],\"scatterternary\":[{\"type\":\"scatterternary\",\"marker\":{\"colorbar\":{\"outlinewidth\":0,\"ticks\":\"\"}}}],\"scattercarpet\":[{\"type\":\"scattercarpet\",\"marker\":{\"colorbar\":{\"outlinewidth\":0,\"ticks\":\"\"}}}],\"carpet\":[{\"aaxis\":{\"endlinecolor\":\"#2a3f5f\",\"gridcolor\":\"white\",\"linecolor\":\"white\",\"minorgridcolor\":\"white\",\"startlinecolor\":\"#2a3f5f\"},\"baxis\":{\"endlinecolor\":\"#2a3f5f\",\"gridcolor\":\"white\",\"linecolor\":\"white\",\"minorgridcolor\":\"white\",\"startlinecolor\":\"#2a3f5f\"},\"type\":\"carpet\"}],\"table\":[{\"cells\":{\"fill\":{\"color\":\"#EBF0F8\"},\"line\":{\"color\":\"white\"}},\"header\":{\"fill\":{\"color\":\"#C8D4E3\"},\"line\":{\"color\":\"white\"}},\"type\":\"table\"}],\"barpolar\":[{\"marker\":{\"line\":{\"color\":\"#E5ECF6\",\"width\":0.5},\"pattern\":{\"fillmode\":\"overlay\",\"size\":10,\"solidity\":0.2}},\"type\":\"barpolar\"}],\"pie\":[{\"automargin\":true,\"type\":\"pie\"}]},\"layout\":{\"autotypenumbers\":\"strict\",\"colorway\":[\"#636efa\",\"#EF553B\",\"#00cc96\",\"#ab63fa\",\"#FFA15A\",\"#19d3f3\",\"#FF6692\",\"#B6E880\",\"#FF97FF\",\"#FECB52\"],\"font\":{\"color\":\"#2a3f5f\"},\"hovermode\":\"closest\",\"hoverlabel\":{\"align\":\"left\"},\"paper_bgcolor\":\"white\",\"plot_bgcolor\":\"#E5ECF6\",\"polar\":{\"bgcolor\":\"#E5ECF6\",\"angularaxis\":{\"gridcolor\":\"white\",\"linecolor\":\"white\",\"ticks\":\"\"},\"radialaxis\":{\"gridcolor\":\"white\",\"linecolor\":\"white\",\"ticks\":\"\"}},\"ternary\":{\"bgcolor\":\"#E5ECF6\",\"aaxis\":{\"gridcolor\":\"white\",\"linecolor\":\"white\",\"ticks\":\"\"},\"baxis\":{\"gridcolor\":\"white\",\"linecolor\":\"white\",\"ticks\":\"\"},\"caxis\":{\"gridcolor\":\"white\",\"linecolor\":\"white\",\"ticks\":\"\"}},\"coloraxis\":{\"colorbar\":{\"outlinewidth\":0,\"ticks\":\"\"}},\"colorscale\":{\"sequential\":[[0.0,\"#0d0887\"],[0.1111111111111111,\"#46039f\"],[0.2222222222222222,\"#7201a8\"],[0.3333333333333333,\"#9c179e\"],[0.4444444444444444,\"#bd3786\"],[0.5555555555555556,\"#d8576b\"],[0.6666666666666666,\"#ed7953\"],[0.7777777777777778,\"#fb9f3a\"],[0.8888888888888888,\"#fdca26\"],[1.0,\"#f0f921\"]],\"sequentialminus\":[[0.0,\"#0d0887\"],[0.1111111111111111,\"#46039f\"],[0.2222222222222222,\"#7201a8\"],[0.3333333333333333,\"#9c179e\"],[0.4444444444444444,\"#bd3786\"],[0.5555555555555556,\"#d8576b\"],[0.6666666666666666,\"#ed7953\"],[0.7777777777777778,\"#fb9f3a\"],[0.8888888888888888,\"#fdca26\"],[1.0,\"#f0f921\"]],\"diverging\":[[0,\"#8e0152\"],[0.1,\"#c51b7d\"],[0.2,\"#de77ae\"],[0.3,\"#f1b6da\"],[0.4,\"#fde0ef\"],[0.5,\"#f7f7f7\"],[0.6,\"#e6f5d0\"],[0.7,\"#b8e186\"],[0.8,\"#7fbc41\"],[0.9,\"#4d9221\"],[1,\"#276419\"]]},\"xaxis\":{\"gridcolor\":\"white\",\"linecolor\":\"white\",\"ticks\":\"\",\"title\":{\"standoff\":15},\"zerolinecolor\":\"white\",\"automargin\":true,\"zerolinewidth\":2},\"yaxis\":{\"gridcolor\":\"white\",\"linecolor\":\"white\",\"ticks\":\"\",\"title\":{\"standoff\":15},\"zerolinecolor\":\"white\",\"automargin\":true,\"zerolinewidth\":2},\"scene\":{\"xaxis\":{\"backgroundcolor\":\"#E5ECF6\",\"gridcolor\":\"white\",\"linecolor\":\"white\",\"showbackground\":true,\"ticks\":\"\",\"zerolinecolor\":\"white\",\"gridwidth\":2},\"yaxis\":{\"backgroundcolor\":\"#E5ECF6\",\"gridcolor\":\"white\",\"linecolor\":\"white\",\"showbackground\":true,\"ticks\":\"\",\"zerolinecolor\":\"white\",\"gridwidth\":2},\"zaxis\":{\"backgroundcolor\":\"#E5ECF6\",\"gridcolor\":\"white\",\"linecolor\":\"white\",\"showbackground\":true,\"ticks\":\"\",\"zerolinecolor\":\"white\",\"gridwidth\":2}},\"shapedefaults\":{\"line\":{\"color\":\"#2a3f5f\"}},\"annotationdefaults\":{\"arrowcolor\":\"#2a3f5f\",\"arrowhead\":0,\"arrowwidth\":1},\"geo\":{\"bgcolor\":\"white\",\"landcolor\":\"#E5ECF6\",\"subunitcolor\":\"white\",\"showland\":true,\"showlakes\":true,\"lakecolor\":\"white\"},\"title\":{\"x\":0.05},\"mapbox\":{\"style\":\"light\"}}},\"showlegend\":false,\"updatemenus\":[{\"active\":9,\"buttons\":[{\"args\":[{\"visible\":[true,false,false,false,false,false,false,false,false,false,false,false,false,false,false,false,false,false,false,false,false,false,false,false,false,false,false,false,false,false,false,false,false,false,false,false,false,false,false,false,false,false,false,false,false,false,false,false,false,false]}],\"label\":\"Agra\",\"method\":\"update\"},{\"args\":[{\"visible\":[false,true,false,false,false,false,false,false,false,false,false,false,false,false,false,false,false,false,false,false,false,false,false,false,false,false,false,false,false,false,false,false,false,false,false,false,false,false,false,false,false,false,false,false,false,false,false,false,false,false]}],\"label\":\"Ahmedabad\",\"method\":\"update\"},{\"args\":[{\"visible\":[false,false,true,false,false,false,false,false,false,false,false,false,false,false,false,false,false,false,false,false,false,false,false,false,false,false,false,false,false,false,false,false,false,false,false,false,false,false,false,false,false,false,false,false,false,false,false,false,false,false]}],\"label\":\"Allahabad(Prayagraj)\",\"method\":\"update\"},{\"args\":[{\"visible\":[false,false,false,true,false,false,false,false,false,false,false,false,false,false,false,false,false,false,false,false,false,false,false,false,false,false,false,false,false,false,false,false,false,false,false,false,false,false,false,false,false,false,false,false,false,false,false,false,false,false]}],\"label\":\"Amritsar\",\"method\":\"update\"},{\"args\":[{\"visible\":[false,false,false,false,true,false,false,false,false,false,false,false,false,false,false,false,false,false,false,false,false,false,false,false,false,false,false,false,false,false,false,false,false,false,false,false,false,false,false,false,false,false,false,false,false,false,false,false,false,false]}],\"label\":\"Asansol Durgapur\",\"method\":\"update\"},{\"args\":[{\"visible\":[false,false,false,false,false,true,false,false,false,false,false,false,false,false,false,false,false,false,false,false,false,false,false,false,false,false,false,false,false,false,false,false,false,false,false,false,false,false,false,false,false,false,false,false,false,false,false,false,false,false]}],\"label\":\"Aurangabad\",\"method\":\"update\"},{\"args\":[{\"visible\":[false,false,false,false,false,false,true,false,false,false,false,false,false,false,false,false,false,false,false,false,false,false,false,false,false,false,false,false,false,false,false,false,false,false,false,false,false,false,false,false,false,false,false,false,false,false,false,false,false,false]}],\"label\":\"Bengaluru\",\"method\":\"update\"},{\"args\":[{\"visible\":[false,false,false,false,false,false,false,true,false,false,false,false,false,false,false,false,false,false,false,false,false,false,false,false,false,false,false,false,false,false,false,false,false,false,false,false,false,false,false,false,false,false,false,false,false,false,false,false,false,false]}],\"label\":\"Bhopal\",\"method\":\"update\"},{\"args\":[{\"visible\":[false,false,false,false,false,false,false,false,true,false,false,false,false,false,false,false,false,false,false,false,false,false,false,false,false,false,false,false,false,false,false,false,false,false,false,false,false,false,false,false,false,false,false,false,false,false,false,false,false,false]}],\"label\":\"Chandigarh\",\"method\":\"update\"},{\"args\":[{\"visible\":[false,false,false,false,false,false,false,false,false,true,false,false,false,false,false,false,false,false,false,false,false,false,false,false,false,false,false,false,false,false,false,false,false,false,false,false,false,false,false,false,false,false,false,false,false,false,false,false,false,false]}],\"label\":\"Chennai\",\"method\":\"update\"},{\"args\":[{\"visible\":[false,false,false,false,false,false,false,false,false,false,true,false,false,false,false,false,false,false,false,false,false,false,false,false,false,false,false,false,false,false,false,false,false,false,false,false,false,false,false,false,false,false,false,false,false,false,false,false,false,false]}],\"label\":\"Coimbatore\",\"method\":\"update\"},{\"args\":[{\"visible\":[false,false,false,false,false,false,false,false,false,false,false,true,false,false,false,false,false,false,false,false,false,false,false,false,false,false,false,false,false,false,false,false,false,false,false,false,false,false,false,false,false,false,false,false,false,false,false,false,false,false]}],\"label\":\"Delhi\",\"method\":\"update\"},{\"args\":[{\"visible\":[false,false,false,false,false,false,false,false,false,false,false,false,true,false,false,false,false,false,false,false,false,false,false,false,false,false,false,false,false,false,false,false,false,false,false,false,false,false,false,false,false,false,false,false,false,false,false,false,false,false]}],\"label\":\"Dhanbad\",\"method\":\"update\"},{\"args\":[{\"visible\":[false,false,false,false,false,false,false,false,false,false,false,false,false,true,false,false,false,false,false,false,false,false,false,false,false,false,false,false,false,false,false,false,false,false,false,false,false,false,false,false,false,false,false,false,false,false,false,false,false,false]}],\"label\":\"Faridabad\",\"method\":\"update\"},{\"args\":[{\"visible\":[false,false,false,false,false,false,false,false,false,false,false,false,false,false,true,false,false,false,false,false,false,false,false,false,false,false,false,false,false,false,false,false,false,false,false,false,false,false,false,false,false,false,false,false,false,false,false,false,false,false]}],\"label\":\"Ghaziabad\",\"method\":\"update\"},{\"args\":[{\"visible\":[false,false,false,false,false,false,false,false,false,false,false,false,false,false,false,true,false,false,false,false,false,false,false,false,false,false,false,false,false,false,false,false,false,false,false,false,false,false,false,false,false,false,false,false,false,false,false,false,false,false]}],\"label\":\"Gwalior\",\"method\":\"update\"},{\"args\":[{\"visible\":[false,false,false,false,false,false,false,false,false,false,false,false,false,false,false,false,true,false,false,false,false,false,false,false,false,false,false,false,false,false,false,false,false,false,false,false,false,false,false,false,false,false,false,false,false,false,false,false,false,false]}],\"label\":\"Hyderabad\",\"method\":\"update\"},{\"args\":[{\"visible\":[false,false,false,false,false,false,false,false,false,false,false,false,false,false,false,false,false,true,false,false,false,false,false,false,false,false,false,false,false,false,false,false,false,false,false,false,false,false,false,false,false,false,false,false,false,false,false,false,false,false]}],\"label\":\"Indore\",\"method\":\"update\"},{\"args\":[{\"visible\":[false,false,false,false,false,false,false,false,false,false,false,false,false,false,false,false,false,false,true,false,false,false,false,false,false,false,false,false,false,false,false,false,false,false,false,false,false,false,false,false,false,false,false,false,false,false,false,false,false,false]}],\"label\":\"Jabalpur\",\"method\":\"update\"},{\"args\":[{\"visible\":[false,false,false,false,false,false,false,false,false,false,false,false,false,false,false,false,false,false,false,true,false,false,false,false,false,false,false,false,false,false,false,false,false,false,false,false,false,false,false,false,false,false,false,false,false,false,false,false,false,false]}],\"label\":\"Jaipur\",\"method\":\"update\"},{\"args\":[{\"visible\":[false,false,false,false,false,false,false,false,false,false,false,false,false,false,false,false,false,false,false,false,true,false,false,false,false,false,false,false,false,false,false,false,false,false,false,false,false,false,false,false,false,false,false,false,false,false,false,false,false,false]}],\"label\":\"Jamshedpur\",\"method\":\"update\"},{\"args\":[{\"visible\":[false,false,false,false,false,false,false,false,false,false,false,false,false,false,false,false,false,false,false,false,false,true,false,false,false,false,false,false,false,false,false,false,false,false,false,false,false,false,false,false,false,false,false,false,false,false,false,false,false,false]}],\"label\":\"Jodhpur\",\"method\":\"update\"},{\"args\":[{\"visible\":[false,false,false,false,false,false,false,false,false,false,false,false,false,false,false,false,false,false,false,false,false,false,true,false,false,false,false,false,false,false,false,false,false,false,false,false,false,false,false,false,false,false,false,false,false,false,false,false,false,false]}],\"label\":\"Kannur\",\"method\":\"update\"},{\"args\":[{\"visible\":[false,false,false,false,false,false,false,false,false,false,false,false,false,false,false,false,false,false,false,false,false,false,false,true,false,false,false,false,false,false,false,false,false,false,false,false,false,false,false,false,false,false,false,false,false,false,false,false,false,false]}],\"label\":\"Kanpur\",\"method\":\"update\"},{\"args\":[{\"visible\":[false,false,false,false,false,false,false,false,false,false,false,false,false,false,false,false,false,false,false,false,false,false,false,false,true,false,false,false,false,false,false,false,false,false,false,false,false,false,false,false,false,false,false,false,false,false,false,false,false,false]}],\"label\":\"Khozikode\",\"method\":\"update\"},{\"args\":[{\"visible\":[false,false,false,false,false,false,false,false,false,false,false,false,false,false,false,false,false,false,false,false,false,false,false,false,false,true,false,false,false,false,false,false,false,false,false,false,false,false,false,false,false,false,false,false,false,false,false,false,false,false]}],\"label\":\"Kochi\",\"method\":\"update\"},{\"args\":[{\"visible\":[false,false,false,false,false,false,false,false,false,false,false,false,false,false,false,false,false,false,false,false,false,false,false,false,false,false,true,false,false,false,false,false,false,false,false,false,false,false,false,false,false,false,false,false,false,false,false,false,false,false]}],\"label\":\"Kolkata\",\"method\":\"update\"},{\"args\":[{\"visible\":[false,false,false,false,false,false,false,false,false,false,false,false,false,false,false,false,false,false,false,false,false,false,false,false,false,false,false,true,false,false,false,false,false,false,false,false,false,false,false,false,false,false,false,false,false,false,false,false,false,false]}],\"label\":\"Kollam\",\"method\":\"update\"},{\"args\":[{\"visible\":[false,false,false,false,false,false,false,false,false,false,false,false,false,false,false,false,false,false,false,false,false,false,false,false,false,false,false,false,true,false,false,false,false,false,false,false,false,false,false,false,false,false,false,false,false,false,false,false,false,false]}],\"label\":\"Kota\",\"method\":\"update\"},{\"args\":[{\"visible\":[false,false,false,false,false,false,false,false,false,false,false,false,false,false,false,false,false,false,false,false,false,false,false,false,false,false,false,false,false,true,false,false,false,false,false,false,false,false,false,false,false,false,false,false,false,false,false,false,false,false]}],\"label\":\"Lucknow\",\"method\":\"update\"},{\"args\":[{\"visible\":[false,false,false,false,false,false,false,false,false,false,false,false,false,false,false,false,false,false,false,false,false,false,false,false,false,false,false,false,false,false,true,false,false,false,false,false,false,false,false,false,false,false,false,false,false,false,false,false,false,false]}],\"label\":\"Ludhiana\",\"method\":\"update\"},{\"args\":[{\"visible\":[false,false,false,false,false,false,false,false,false,false,false,false,false,false,false,false,false,false,false,false,false,false,false,false,false,false,false,false,false,false,false,true,false,false,false,false,false,false,false,false,false,false,false,false,false,false,false,false,false,false]}],\"label\":\"Madurai\",\"method\":\"update\"},{\"args\":[{\"visible\":[false,false,false,false,false,false,false,false,false,false,false,false,false,false,false,false,false,false,false,false,false,false,false,false,false,false,false,false,false,false,false,false,true,false,false,false,false,false,false,false,false,false,false,false,false,false,false,false,false,false]}],\"label\":\"Mallapuram\",\"method\":\"update\"},{\"args\":[{\"visible\":[false,false,false,false,false,false,false,false,false,false,false,false,false,false,false,false,false,false,false,false,false,false,false,false,false,false,false,false,false,false,false,false,false,true,false,false,false,false,false,false,false,false,false,false,false,false,false,false,false,false]}],\"label\":\"Meerut\",\"method\":\"update\"},{\"args\":[{\"visible\":[false,false,false,false,false,false,false,false,false,false,false,false,false,false,false,false,false,false,false,false,false,false,false,false,false,false,false,false,false,false,false,false,false,false,true,false,false,false,false,false,false,false,false,false,false,false,false,false,false,false]}],\"label\":\"Mumbai\",\"method\":\"update\"},{\"args\":[{\"visible\":[false,false,false,false,false,false,false,false,false,false,false,false,false,false,false,false,false,false,false,false,false,false,false,false,false,false,false,false,false,false,false,false,false,false,false,true,false,false,false,false,false,false,false,false,false,false,false,false,false,false]}],\"label\":\"Nagpur\",\"method\":\"update\"},{\"args\":[{\"visible\":[false,false,false,false,false,false,false,false,false,false,false,false,false,false,false,false,false,false,false,false,false,false,false,false,false,false,false,false,false,false,false,false,false,false,false,false,true,false,false,false,false,false,false,false,false,false,false,false,false,false]}],\"label\":\"Nashik\",\"method\":\"update\"},{\"args\":[{\"visible\":[false,false,false,false,false,false,false,false,false,false,false,false,false,false,false,false,false,false,false,false,false,false,false,false,false,false,false,false,false,false,false,false,false,false,false,false,false,true,false,false,false,false,false,false,false,false,false,false,false,false]}],\"label\":\"Patna\",\"method\":\"update\"},{\"args\":[{\"visible\":[false,false,false,false,false,false,false,false,false,false,false,false,false,false,false,false,false,false,false,false,false,false,false,false,false,false,false,false,false,false,false,false,false,false,false,false,false,false,true,false,false,false,false,false,false,false,false,false,false,false]}],\"label\":\"Pune\",\"method\":\"update\"},{\"args\":[{\"visible\":[false,false,false,false,false,false,false,false,false,false,false,false,false,false,false,false,false,false,false,false,false,false,false,false,false,false,false,false,false,false,false,false,false,false,false,false,false,false,false,true,false,false,false,false,false,false,false,false,false,false]}],\"label\":\"Raipur\",\"method\":\"update\"},{\"args\":[{\"visible\":[false,false,false,false,false,false,false,false,false,false,false,false,false,false,false,false,false,false,false,false,false,false,false,false,false,false,false,false,false,false,false,false,false,false,false,false,false,false,false,false,true,false,false,false,false,false,false,false,false,false]}],\"label\":\"Rajkot\",\"method\":\"update\"},{\"args\":[{\"visible\":[false,false,false,false,false,false,false,false,false,false,false,false,false,false,false,false,false,false,false,false,false,false,false,false,false,false,false,false,false,false,false,false,false,false,false,false,false,false,false,false,false,true,false,false,false,false,false,false,false,false]}],\"label\":\"Srinagar\",\"method\":\"update\"},{\"args\":[{\"visible\":[false,false,false,false,false,false,false,false,false,false,false,false,false,false,false,false,false,false,false,false,false,false,false,false,false,false,false,false,false,false,false,false,false,false,false,false,false,false,false,false,false,false,true,false,false,false,false,false,false,false]}],\"label\":\"Surat\",\"method\":\"update\"},{\"args\":[{\"visible\":[false,false,false,false,false,false,false,false,false,false,false,false,false,false,false,false,false,false,false,false,false,false,false,false,false,false,false,false,false,false,false,false,false,false,false,false,false,false,false,false,false,false,false,true,false,false,false,false,false,false]}],\"label\":\"Thiruvanthapuram\",\"method\":\"update\"},{\"args\":[{\"visible\":[false,false,false,false,false,false,false,false,false,false,false,false,false,false,false,false,false,false,false,false,false,false,false,false,false,false,false,false,false,false,false,false,false,false,false,false,false,false,false,false,false,false,false,false,true,false,false,false,false,false]}],\"label\":\"Thrissur\",\"method\":\"update\"},{\"args\":[{\"visible\":[false,false,false,false,false,false,false,false,false,false,false,false,false,false,false,false,false,false,false,false,false,false,false,false,false,false,false,false,false,false,false,false,false,false,false,false,false,false,false,false,false,false,false,false,false,true,false,false,false,false]}],\"label\":\"Tiruchirapalli\",\"method\":\"update\"},{\"args\":[{\"visible\":[false,false,false,false,false,false,false,false,false,false,false,false,false,false,false,false,false,false,false,false,false,false,false,false,false,false,false,false,false,false,false,false,false,false,false,false,false,false,false,false,false,false,false,false,false,false,true,false,false,false]}],\"label\":\"Vadodra\",\"method\":\"update\"},{\"args\":[{\"visible\":[false,false,false,false,false,false,false,false,false,false,false,false,false,false,false,false,false,false,false,false,false,false,false,false,false,false,false,false,false,false,false,false,false,false,false,false,false,false,false,false,false,false,false,false,false,false,false,true,false,false]}],\"label\":\"Varanasi\",\"method\":\"update\"},{\"args\":[{\"visible\":[false,false,false,false,false,false,false,false,false,false,false,false,false,false,false,false,false,false,false,false,false,false,false,false,false,false,false,false,false,false,false,false,false,false,false,false,false,false,false,false,false,false,false,false,false,false,false,false,true,false]}],\"label\":\"Vijaywada city\",\"method\":\"update\"},{\"args\":[{\"visible\":[false,false,false,false,false,false,false,false,false,false,false,false,false,false,false,false,false,false,false,false,false,false,false,false,false,false,false,false,false,false,false,false,false,false,false,false,false,false,false,false,false,false,false,false,false,false,false,false,false,true]}],\"label\":\"Vizaq\",\"method\":\"update\"}],\"direction\":\"down\"}],\"title\":{\"font\":{\"size\":40},\"text\":\"City Vs OutCome Of the Incident\"},\"xaxis\":{\"title\":{\"text\":\"Outcome\"}},\"yaxis\":{\"title\":{\"text\":\"Count\"}}},                        {\"responsive\": true}                    ).then(function(){\n",
              "                            \n",
              "var gd = document.getElementById('1b1f6a4c-282e-49b6-a8ff-3b822e05333f');\n",
              "var x = new MutationObserver(function (mutations, observer) {{\n",
              "        var display = window.getComputedStyle(gd).display;\n",
              "        if (!display || display === 'none') {{\n",
              "            console.log([gd, 'removed!']);\n",
              "            Plotly.purge(gd);\n",
              "            observer.disconnect();\n",
              "        }}\n",
              "}});\n",
              "\n",
              "// Listen for the removal of the full notebook cells\n",
              "var notebookContainer = gd.closest('#notebook-container');\n",
              "if (notebookContainer) {{\n",
              "    x.observe(notebookContainer, {childList: true});\n",
              "}}\n",
              "\n",
              "// Listen for the clearing of the current output cell\n",
              "var outputEl = gd.closest('.output');\n",
              "if (outputEl) {{\n",
              "    x.observe(outputEl, {childList: true});\n",
              "}}\n",
              "\n",
              "                        })                };                            </script>        </div>\n",
              "</body>\n",
              "</html>"
            ]
          },
          "metadata": {}
        }
      ]
    },
    {
      "cell_type": "code",
      "source": [
        "Traffic_violation=data[data[\"Cause category\"]==\"Traffic Violation\"].groupby(by=\"Cause Subcategory\")[\"Count\"].sum()\n",
        "Traffic_violation=Traffic_violation.reset_index()\n",
        "Traffic_violation.sort_values(by=\"Count\",ascending=False,inplace=True)\n",
        "px.bar(Traffic_violation,x=\"Cause Subcategory\",y=\"Count\",color=\"Cause Subcategory\",title=\"Accident Due to Traffic Violations\",text=\"Count\")"
      ],
      "metadata": {
        "colab": {
          "base_uri": "https://localhost:8080/",
          "height": 542
        },
        "id": "Xn66RxJ0EKhT",
        "outputId": "045e271b-6038-4533-a57a-d583bb1c9484"
      },
      "execution_count": 23,
      "outputs": [
        {
          "output_type": "display_data",
          "data": {
            "text/html": [
              "<html>\n",
              "<head><meta charset=\"utf-8\" /></head>\n",
              "<body>\n",
              "    <div>            <script src=\"https://cdnjs.cloudflare.com/ajax/libs/mathjax/2.7.5/MathJax.js?config=TeX-AMS-MML_SVG\"></script><script type=\"text/javascript\">if (window.MathJax && window.MathJax.Hub && window.MathJax.Hub.Config) {window.MathJax.Hub.Config({SVG: {font: \"STIX-Web\"}});}</script>                <script type=\"text/javascript\">window.PlotlyConfig = {MathJaxConfig: 'local'};</script>\n",
              "        <script charset=\"utf-8\" src=\"https://cdn.plot.ly/plotly-2.24.1.min.js\"></script>                <div id=\"dde7fc9f-43b6-4128-8a48-74704300178f\" class=\"plotly-graph-div\" style=\"height:525px; width:100%;\"></div>            <script type=\"text/javascript\">                                    window.PLOTLYENV=window.PLOTLYENV || {};                                    if (document.getElementById(\"dde7fc9f-43b6-4128-8a48-74704300178f\")) {                    Plotly.newPlot(                        \"dde7fc9f-43b6-4128-8a48-74704300178f\",                        [{\"alignmentgroup\":\"True\",\"hovertemplate\":\"Cause Subcategory=%{x}\\u003cbr\\u003eCount=%{text}\\u003cextra\\u003e\\u003c\\u002fextra\\u003e\",\"legendgroup\":\"Over\",\"marker\":{\"color\":\"#636efa\",\"pattern\":{\"shape\":\"\"}},\"name\":\"Over\",\"offsetgroup\":\"Over\",\"orientation\":\"v\",\"showlegend\":true,\"text\":[123013.0],\"textposition\":\"auto\",\"x\":[\"Over\"],\"xaxis\":\"x\",\"y\":[123013],\"yaxis\":\"y\",\"type\":\"bar\"},{\"alignmentgroup\":\"True\",\"hovertemplate\":\"Cause Subcategory=%{x}\\u003cbr\\u003eCount=%{text}\\u003cextra\\u003e\\u003c\\u002fextra\\u003e\",\"legendgroup\":\"Others\",\"marker\":{\"color\":\"#EF553B\",\"pattern\":{\"shape\":\"\"}},\"name\":\"Others\",\"offsetgroup\":\"Others\",\"orientation\":\"v\",\"showlegend\":true,\"text\":[32594.0],\"textposition\":\"auto\",\"x\":[\"Others\"],\"xaxis\":\"x\",\"y\":[32594],\"yaxis\":\"y\",\"type\":\"bar\"},{\"alignmentgroup\":\"True\",\"hovertemplate\":\"Cause Subcategory=%{x}\\u003cbr\\u003eCount=%{text}\\u003cextra\\u003e\\u003c\\u002fextra\\u003e\",\"legendgroup\":\"Driving on Wrong side\",\"marker\":{\"color\":\"#00cc96\",\"pattern\":{\"shape\":\"\"}},\"name\":\"Driving on Wrong side\",\"offsetgroup\":\"Driving on Wrong side\",\"orientation\":\"v\",\"showlegend\":true,\"text\":[6731.0],\"textposition\":\"auto\",\"x\":[\"Driving on Wrong side\"],\"xaxis\":\"x\",\"y\":[6731],\"yaxis\":\"y\",\"type\":\"bar\"},{\"alignmentgroup\":\"True\",\"hovertemplate\":\"Cause Subcategory=%{x}\\u003cbr\\u003eCount=%{text}\\u003cextra\\u003e\\u003c\\u002fextra\\u003e\",\"legendgroup\":\"Drunken Driving\\u002f Consumption of alcohol and drug\",\"marker\":{\"color\":\"#ab63fa\",\"pattern\":{\"shape\":\"\"}},\"name\":\"Drunken Driving\\u002f Consumption of alcohol and drug\",\"offsetgroup\":\"Drunken Driving\\u002f Consumption of alcohol and drug\",\"orientation\":\"v\",\"showlegend\":true,\"text\":[4355.0],\"textposition\":\"auto\",\"x\":[\"Drunken Driving\\u002f Consumption of alcohol and drug\"],\"xaxis\":\"x\",\"y\":[4355],\"yaxis\":\"y\",\"type\":\"bar\"},{\"alignmentgroup\":\"True\",\"hovertemplate\":\"Cause Subcategory=%{x}\\u003cbr\\u003eCount=%{text}\\u003cextra\\u003e\\u003c\\u002fextra\\u003e\",\"legendgroup\":\"Jumping Red Light\",\"marker\":{\"color\":\"#FFA15A\",\"pattern\":{\"shape\":\"\"}},\"name\":\"Jumping Red Light\",\"offsetgroup\":\"Jumping Red Light\",\"orientation\":\"v\",\"showlegend\":true,\"text\":[3387.0],\"textposition\":\"auto\",\"x\":[\"Jumping Red Light\"],\"xaxis\":\"x\",\"y\":[3387],\"yaxis\":\"y\",\"type\":\"bar\"},{\"alignmentgroup\":\"True\",\"hovertemplate\":\"Cause Subcategory=%{x}\\u003cbr\\u003eCount=%{text}\\u003cextra\\u003e\\u003c\\u002fextra\\u003e\",\"legendgroup\":\"Use of Mobile Phone\",\"marker\":{\"color\":\"#19d3f3\",\"pattern\":{\"shape\":\"\"}},\"name\":\"Use of Mobile Phone\",\"offsetgroup\":\"Use of Mobile Phone\",\"orientation\":\"v\",\"showlegend\":true,\"text\":[3228.0],\"textposition\":\"auto\",\"x\":[\"Use of Mobile Phone\"],\"xaxis\":\"x\",\"y\":[3228],\"yaxis\":\"y\",\"type\":\"bar\"}],                        {\"template\":{\"data\":{\"histogram2dcontour\":[{\"type\":\"histogram2dcontour\",\"colorbar\":{\"outlinewidth\":0,\"ticks\":\"\"},\"colorscale\":[[0.0,\"#0d0887\"],[0.1111111111111111,\"#46039f\"],[0.2222222222222222,\"#7201a8\"],[0.3333333333333333,\"#9c179e\"],[0.4444444444444444,\"#bd3786\"],[0.5555555555555556,\"#d8576b\"],[0.6666666666666666,\"#ed7953\"],[0.7777777777777778,\"#fb9f3a\"],[0.8888888888888888,\"#fdca26\"],[1.0,\"#f0f921\"]]}],\"choropleth\":[{\"type\":\"choropleth\",\"colorbar\":{\"outlinewidth\":0,\"ticks\":\"\"}}],\"histogram2d\":[{\"type\":\"histogram2d\",\"colorbar\":{\"outlinewidth\":0,\"ticks\":\"\"},\"colorscale\":[[0.0,\"#0d0887\"],[0.1111111111111111,\"#46039f\"],[0.2222222222222222,\"#7201a8\"],[0.3333333333333333,\"#9c179e\"],[0.4444444444444444,\"#bd3786\"],[0.5555555555555556,\"#d8576b\"],[0.6666666666666666,\"#ed7953\"],[0.7777777777777778,\"#fb9f3a\"],[0.8888888888888888,\"#fdca26\"],[1.0,\"#f0f921\"]]}],\"heatmap\":[{\"type\":\"heatmap\",\"colorbar\":{\"outlinewidth\":0,\"ticks\":\"\"},\"colorscale\":[[0.0,\"#0d0887\"],[0.1111111111111111,\"#46039f\"],[0.2222222222222222,\"#7201a8\"],[0.3333333333333333,\"#9c179e\"],[0.4444444444444444,\"#bd3786\"],[0.5555555555555556,\"#d8576b\"],[0.6666666666666666,\"#ed7953\"],[0.7777777777777778,\"#fb9f3a\"],[0.8888888888888888,\"#fdca26\"],[1.0,\"#f0f921\"]]}],\"heatmapgl\":[{\"type\":\"heatmapgl\",\"colorbar\":{\"outlinewidth\":0,\"ticks\":\"\"},\"colorscale\":[[0.0,\"#0d0887\"],[0.1111111111111111,\"#46039f\"],[0.2222222222222222,\"#7201a8\"],[0.3333333333333333,\"#9c179e\"],[0.4444444444444444,\"#bd3786\"],[0.5555555555555556,\"#d8576b\"],[0.6666666666666666,\"#ed7953\"],[0.7777777777777778,\"#fb9f3a\"],[0.8888888888888888,\"#fdca26\"],[1.0,\"#f0f921\"]]}],\"contourcarpet\":[{\"type\":\"contourcarpet\",\"colorbar\":{\"outlinewidth\":0,\"ticks\":\"\"}}],\"contour\":[{\"type\":\"contour\",\"colorbar\":{\"outlinewidth\":0,\"ticks\":\"\"},\"colorscale\":[[0.0,\"#0d0887\"],[0.1111111111111111,\"#46039f\"],[0.2222222222222222,\"#7201a8\"],[0.3333333333333333,\"#9c179e\"],[0.4444444444444444,\"#bd3786\"],[0.5555555555555556,\"#d8576b\"],[0.6666666666666666,\"#ed7953\"],[0.7777777777777778,\"#fb9f3a\"],[0.8888888888888888,\"#fdca26\"],[1.0,\"#f0f921\"]]}],\"surface\":[{\"type\":\"surface\",\"colorbar\":{\"outlinewidth\":0,\"ticks\":\"\"},\"colorscale\":[[0.0,\"#0d0887\"],[0.1111111111111111,\"#46039f\"],[0.2222222222222222,\"#7201a8\"],[0.3333333333333333,\"#9c179e\"],[0.4444444444444444,\"#bd3786\"],[0.5555555555555556,\"#d8576b\"],[0.6666666666666666,\"#ed7953\"],[0.7777777777777778,\"#fb9f3a\"],[0.8888888888888888,\"#fdca26\"],[1.0,\"#f0f921\"]]}],\"mesh3d\":[{\"type\":\"mesh3d\",\"colorbar\":{\"outlinewidth\":0,\"ticks\":\"\"}}],\"scatter\":[{\"fillpattern\":{\"fillmode\":\"overlay\",\"size\":10,\"solidity\":0.2},\"type\":\"scatter\"}],\"parcoords\":[{\"type\":\"parcoords\",\"line\":{\"colorbar\":{\"outlinewidth\":0,\"ticks\":\"\"}}}],\"scatterpolargl\":[{\"type\":\"scatterpolargl\",\"marker\":{\"colorbar\":{\"outlinewidth\":0,\"ticks\":\"\"}}}],\"bar\":[{\"error_x\":{\"color\":\"#2a3f5f\"},\"error_y\":{\"color\":\"#2a3f5f\"},\"marker\":{\"line\":{\"color\":\"#E5ECF6\",\"width\":0.5},\"pattern\":{\"fillmode\":\"overlay\",\"size\":10,\"solidity\":0.2}},\"type\":\"bar\"}],\"scattergeo\":[{\"type\":\"scattergeo\",\"marker\":{\"colorbar\":{\"outlinewidth\":0,\"ticks\":\"\"}}}],\"scatterpolar\":[{\"type\":\"scatterpolar\",\"marker\":{\"colorbar\":{\"outlinewidth\":0,\"ticks\":\"\"}}}],\"histogram\":[{\"marker\":{\"pattern\":{\"fillmode\":\"overlay\",\"size\":10,\"solidity\":0.2}},\"type\":\"histogram\"}],\"scattergl\":[{\"type\":\"scattergl\",\"marker\":{\"colorbar\":{\"outlinewidth\":0,\"ticks\":\"\"}}}],\"scatter3d\":[{\"type\":\"scatter3d\",\"line\":{\"colorbar\":{\"outlinewidth\":0,\"ticks\":\"\"}},\"marker\":{\"colorbar\":{\"outlinewidth\":0,\"ticks\":\"\"}}}],\"scattermapbox\":[{\"type\":\"scattermapbox\",\"marker\":{\"colorbar\":{\"outlinewidth\":0,\"ticks\":\"\"}}}],\"scatterternary\":[{\"type\":\"scatterternary\",\"marker\":{\"colorbar\":{\"outlinewidth\":0,\"ticks\":\"\"}}}],\"scattercarpet\":[{\"type\":\"scattercarpet\",\"marker\":{\"colorbar\":{\"outlinewidth\":0,\"ticks\":\"\"}}}],\"carpet\":[{\"aaxis\":{\"endlinecolor\":\"#2a3f5f\",\"gridcolor\":\"white\",\"linecolor\":\"white\",\"minorgridcolor\":\"white\",\"startlinecolor\":\"#2a3f5f\"},\"baxis\":{\"endlinecolor\":\"#2a3f5f\",\"gridcolor\":\"white\",\"linecolor\":\"white\",\"minorgridcolor\":\"white\",\"startlinecolor\":\"#2a3f5f\"},\"type\":\"carpet\"}],\"table\":[{\"cells\":{\"fill\":{\"color\":\"#EBF0F8\"},\"line\":{\"color\":\"white\"}},\"header\":{\"fill\":{\"color\":\"#C8D4E3\"},\"line\":{\"color\":\"white\"}},\"type\":\"table\"}],\"barpolar\":[{\"marker\":{\"line\":{\"color\":\"#E5ECF6\",\"width\":0.5},\"pattern\":{\"fillmode\":\"overlay\",\"size\":10,\"solidity\":0.2}},\"type\":\"barpolar\"}],\"pie\":[{\"automargin\":true,\"type\":\"pie\"}]},\"layout\":{\"autotypenumbers\":\"strict\",\"colorway\":[\"#636efa\",\"#EF553B\",\"#00cc96\",\"#ab63fa\",\"#FFA15A\",\"#19d3f3\",\"#FF6692\",\"#B6E880\",\"#FF97FF\",\"#FECB52\"],\"font\":{\"color\":\"#2a3f5f\"},\"hovermode\":\"closest\",\"hoverlabel\":{\"align\":\"left\"},\"paper_bgcolor\":\"white\",\"plot_bgcolor\":\"#E5ECF6\",\"polar\":{\"bgcolor\":\"#E5ECF6\",\"angularaxis\":{\"gridcolor\":\"white\",\"linecolor\":\"white\",\"ticks\":\"\"},\"radialaxis\":{\"gridcolor\":\"white\",\"linecolor\":\"white\",\"ticks\":\"\"}},\"ternary\":{\"bgcolor\":\"#E5ECF6\",\"aaxis\":{\"gridcolor\":\"white\",\"linecolor\":\"white\",\"ticks\":\"\"},\"baxis\":{\"gridcolor\":\"white\",\"linecolor\":\"white\",\"ticks\":\"\"},\"caxis\":{\"gridcolor\":\"white\",\"linecolor\":\"white\",\"ticks\":\"\"}},\"coloraxis\":{\"colorbar\":{\"outlinewidth\":0,\"ticks\":\"\"}},\"colorscale\":{\"sequential\":[[0.0,\"#0d0887\"],[0.1111111111111111,\"#46039f\"],[0.2222222222222222,\"#7201a8\"],[0.3333333333333333,\"#9c179e\"],[0.4444444444444444,\"#bd3786\"],[0.5555555555555556,\"#d8576b\"],[0.6666666666666666,\"#ed7953\"],[0.7777777777777778,\"#fb9f3a\"],[0.8888888888888888,\"#fdca26\"],[1.0,\"#f0f921\"]],\"sequentialminus\":[[0.0,\"#0d0887\"],[0.1111111111111111,\"#46039f\"],[0.2222222222222222,\"#7201a8\"],[0.3333333333333333,\"#9c179e\"],[0.4444444444444444,\"#bd3786\"],[0.5555555555555556,\"#d8576b\"],[0.6666666666666666,\"#ed7953\"],[0.7777777777777778,\"#fb9f3a\"],[0.8888888888888888,\"#fdca26\"],[1.0,\"#f0f921\"]],\"diverging\":[[0,\"#8e0152\"],[0.1,\"#c51b7d\"],[0.2,\"#de77ae\"],[0.3,\"#f1b6da\"],[0.4,\"#fde0ef\"],[0.5,\"#f7f7f7\"],[0.6,\"#e6f5d0\"],[0.7,\"#b8e186\"],[0.8,\"#7fbc41\"],[0.9,\"#4d9221\"],[1,\"#276419\"]]},\"xaxis\":{\"gridcolor\":\"white\",\"linecolor\":\"white\",\"ticks\":\"\",\"title\":{\"standoff\":15},\"zerolinecolor\":\"white\",\"automargin\":true,\"zerolinewidth\":2},\"yaxis\":{\"gridcolor\":\"white\",\"linecolor\":\"white\",\"ticks\":\"\",\"title\":{\"standoff\":15},\"zerolinecolor\":\"white\",\"automargin\":true,\"zerolinewidth\":2},\"scene\":{\"xaxis\":{\"backgroundcolor\":\"#E5ECF6\",\"gridcolor\":\"white\",\"linecolor\":\"white\",\"showbackground\":true,\"ticks\":\"\",\"zerolinecolor\":\"white\",\"gridwidth\":2},\"yaxis\":{\"backgroundcolor\":\"#E5ECF6\",\"gridcolor\":\"white\",\"linecolor\":\"white\",\"showbackground\":true,\"ticks\":\"\",\"zerolinecolor\":\"white\",\"gridwidth\":2},\"zaxis\":{\"backgroundcolor\":\"#E5ECF6\",\"gridcolor\":\"white\",\"linecolor\":\"white\",\"showbackground\":true,\"ticks\":\"\",\"zerolinecolor\":\"white\",\"gridwidth\":2}},\"shapedefaults\":{\"line\":{\"color\":\"#2a3f5f\"}},\"annotationdefaults\":{\"arrowcolor\":\"#2a3f5f\",\"arrowhead\":0,\"arrowwidth\":1},\"geo\":{\"bgcolor\":\"white\",\"landcolor\":\"#E5ECF6\",\"subunitcolor\":\"white\",\"showland\":true,\"showlakes\":true,\"lakecolor\":\"white\"},\"title\":{\"x\":0.05},\"mapbox\":{\"style\":\"light\"}}},\"xaxis\":{\"anchor\":\"y\",\"domain\":[0.0,1.0],\"title\":{\"text\":\"Cause Subcategory\"},\"categoryorder\":\"array\",\"categoryarray\":[\"Over\",\"Others\",\"Driving on Wrong side\",\"Drunken Driving\\u002f Consumption of alcohol and drug\",\"Jumping Red Light\",\"Use of Mobile Phone\"]},\"yaxis\":{\"anchor\":\"x\",\"domain\":[0.0,1.0],\"title\":{\"text\":\"Count\"}},\"legend\":{\"title\":{\"text\":\"Cause Subcategory\"},\"tracegroupgap\":0},\"title\":{\"text\":\"Accident Due to Traffic Violations\"},\"barmode\":\"relative\"},                        {\"responsive\": true}                    ).then(function(){\n",
              "                            \n",
              "var gd = document.getElementById('dde7fc9f-43b6-4128-8a48-74704300178f');\n",
              "var x = new MutationObserver(function (mutations, observer) {{\n",
              "        var display = window.getComputedStyle(gd).display;\n",
              "        if (!display || display === 'none') {{\n",
              "            console.log([gd, 'removed!']);\n",
              "            Plotly.purge(gd);\n",
              "            observer.disconnect();\n",
              "        }}\n",
              "}});\n",
              "\n",
              "// Listen for the removal of the full notebook cells\n",
              "var notebookContainer = gd.closest('#notebook-container');\n",
              "if (notebookContainer) {{\n",
              "    x.observe(notebookContainer, {childList: true});\n",
              "}}\n",
              "\n",
              "// Listen for the clearing of the current output cell\n",
              "var outputEl = gd.closest('.output');\n",
              "if (outputEl) {{\n",
              "    x.observe(outputEl, {childList: true});\n",
              "}}\n",
              "\n",
              "                        })                };                            </script>        </div>\n",
              "</body>\n",
              "</html>"
            ]
          },
          "metadata": {}
        }
      ]
    },
    {
      "cell_type": "code",
      "source": [
        "# Group by 'Outcome of Incident' and calculate the sum of 'Count'\n",
        "outcome_table = data.groupby('Outcome of Incident')['Count'].sum().reset_index()\n",
        "\n",
        "# Display the outcome table\n",
        "print(outcome_table)"
      ],
      "metadata": {
        "colab": {
          "base_uri": "https://localhost:8080/"
        },
        "id": "ZJrUnk68EQgG",
        "outputId": "3390de2a-511d-4bb2-d306-c534041cd35f"
      },
      "execution_count": 24,
      "outputs": [
        {
          "output_type": "stream",
          "name": "stdout",
          "text": [
            "         Outcome of Incident   Count\n",
            "0         Greviously Injured  123192\n",
            "1               Minor Injury  179898\n",
            "2             Persons Killed   81250\n",
            "3              Total Injured  252575\n",
            "4  Total number of Accidents  352416\n"
          ]
        }
      ]
    },
    {
      "cell_type": "code",
      "source": [
        "# Create a pie chart for the distribution of accident causes\n",
        "cause_distribution = data['Cause category'].value_counts()\n",
        "fig = px.pie(cause_distribution, values=cause_distribution.values, names=cause_distribution.index,\n",
        "             title='Distribution of Accident Causes')\n",
        "fig.show()"
      ],
      "metadata": {
        "colab": {
          "base_uri": "https://localhost:8080/",
          "height": 542
        },
        "id": "el8eZtm_EY9H",
        "outputId": "918afdd3-9731-4f3e-b09f-59a5c3ad5311"
      },
      "execution_count": 25,
      "outputs": [
        {
          "output_type": "display_data",
          "data": {
            "text/html": [
              "<html>\n",
              "<head><meta charset=\"utf-8\" /></head>\n",
              "<body>\n",
              "    <div>            <script src=\"https://cdnjs.cloudflare.com/ajax/libs/mathjax/2.7.5/MathJax.js?config=TeX-AMS-MML_SVG\"></script><script type=\"text/javascript\">if (window.MathJax && window.MathJax.Hub && window.MathJax.Hub.Config) {window.MathJax.Hub.Config({SVG: {font: \"STIX-Web\"}});}</script>                <script type=\"text/javascript\">window.PlotlyConfig = {MathJaxConfig: 'local'};</script>\n",
              "        <script charset=\"utf-8\" src=\"https://cdn.plot.ly/plotly-2.24.1.min.js\"></script>                <div id=\"3e5e569e-c31c-4446-a57c-d847fb10e6ee\" class=\"plotly-graph-div\" style=\"height:525px; width:100%;\"></div>            <script type=\"text/javascript\">                                    window.PLOTLYENV=window.PLOTLYENV || {};                                    if (document.getElementById(\"3e5e569e-c31c-4446-a57c-d847fb10e6ee\")) {                    Plotly.newPlot(                        \"3e5e569e-c31c-4446-a57c-d847fb10e6ee\",                        [{\"domain\":{\"x\":[0.0,1.0],\"y\":[0.0,1.0]},\"hovertemplate\":\"Cause category=%{label}\\u003cbr\\u003evalue=%{value}\\u003cextra\\u003e\\u003c\\u002fextra\\u003e\",\"labels\":[\"Road Features\",\"Impacting Vehicle\\u002fObject\",\"Traffic Control\",\"Junction\",\"Traffic Violation\",\"Weather\"],\"legendgroup\":\"\",\"name\":\"\",\"showlegend\":true,\"values\":[2000,1797,1500,1500,1500,1250],\"type\":\"pie\"}],                        {\"template\":{\"data\":{\"histogram2dcontour\":[{\"type\":\"histogram2dcontour\",\"colorbar\":{\"outlinewidth\":0,\"ticks\":\"\"},\"colorscale\":[[0.0,\"#0d0887\"],[0.1111111111111111,\"#46039f\"],[0.2222222222222222,\"#7201a8\"],[0.3333333333333333,\"#9c179e\"],[0.4444444444444444,\"#bd3786\"],[0.5555555555555556,\"#d8576b\"],[0.6666666666666666,\"#ed7953\"],[0.7777777777777778,\"#fb9f3a\"],[0.8888888888888888,\"#fdca26\"],[1.0,\"#f0f921\"]]}],\"choropleth\":[{\"type\":\"choropleth\",\"colorbar\":{\"outlinewidth\":0,\"ticks\":\"\"}}],\"histogram2d\":[{\"type\":\"histogram2d\",\"colorbar\":{\"outlinewidth\":0,\"ticks\":\"\"},\"colorscale\":[[0.0,\"#0d0887\"],[0.1111111111111111,\"#46039f\"],[0.2222222222222222,\"#7201a8\"],[0.3333333333333333,\"#9c179e\"],[0.4444444444444444,\"#bd3786\"],[0.5555555555555556,\"#d8576b\"],[0.6666666666666666,\"#ed7953\"],[0.7777777777777778,\"#fb9f3a\"],[0.8888888888888888,\"#fdca26\"],[1.0,\"#f0f921\"]]}],\"heatmap\":[{\"type\":\"heatmap\",\"colorbar\":{\"outlinewidth\":0,\"ticks\":\"\"},\"colorscale\":[[0.0,\"#0d0887\"],[0.1111111111111111,\"#46039f\"],[0.2222222222222222,\"#7201a8\"],[0.3333333333333333,\"#9c179e\"],[0.4444444444444444,\"#bd3786\"],[0.5555555555555556,\"#d8576b\"],[0.6666666666666666,\"#ed7953\"],[0.7777777777777778,\"#fb9f3a\"],[0.8888888888888888,\"#fdca26\"],[1.0,\"#f0f921\"]]}],\"heatmapgl\":[{\"type\":\"heatmapgl\",\"colorbar\":{\"outlinewidth\":0,\"ticks\":\"\"},\"colorscale\":[[0.0,\"#0d0887\"],[0.1111111111111111,\"#46039f\"],[0.2222222222222222,\"#7201a8\"],[0.3333333333333333,\"#9c179e\"],[0.4444444444444444,\"#bd3786\"],[0.5555555555555556,\"#d8576b\"],[0.6666666666666666,\"#ed7953\"],[0.7777777777777778,\"#fb9f3a\"],[0.8888888888888888,\"#fdca26\"],[1.0,\"#f0f921\"]]}],\"contourcarpet\":[{\"type\":\"contourcarpet\",\"colorbar\":{\"outlinewidth\":0,\"ticks\":\"\"}}],\"contour\":[{\"type\":\"contour\",\"colorbar\":{\"outlinewidth\":0,\"ticks\":\"\"},\"colorscale\":[[0.0,\"#0d0887\"],[0.1111111111111111,\"#46039f\"],[0.2222222222222222,\"#7201a8\"],[0.3333333333333333,\"#9c179e\"],[0.4444444444444444,\"#bd3786\"],[0.5555555555555556,\"#d8576b\"],[0.6666666666666666,\"#ed7953\"],[0.7777777777777778,\"#fb9f3a\"],[0.8888888888888888,\"#fdca26\"],[1.0,\"#f0f921\"]]}],\"surface\":[{\"type\":\"surface\",\"colorbar\":{\"outlinewidth\":0,\"ticks\":\"\"},\"colorscale\":[[0.0,\"#0d0887\"],[0.1111111111111111,\"#46039f\"],[0.2222222222222222,\"#7201a8\"],[0.3333333333333333,\"#9c179e\"],[0.4444444444444444,\"#bd3786\"],[0.5555555555555556,\"#d8576b\"],[0.6666666666666666,\"#ed7953\"],[0.7777777777777778,\"#fb9f3a\"],[0.8888888888888888,\"#fdca26\"],[1.0,\"#f0f921\"]]}],\"mesh3d\":[{\"type\":\"mesh3d\",\"colorbar\":{\"outlinewidth\":0,\"ticks\":\"\"}}],\"scatter\":[{\"fillpattern\":{\"fillmode\":\"overlay\",\"size\":10,\"solidity\":0.2},\"type\":\"scatter\"}],\"parcoords\":[{\"type\":\"parcoords\",\"line\":{\"colorbar\":{\"outlinewidth\":0,\"ticks\":\"\"}}}],\"scatterpolargl\":[{\"type\":\"scatterpolargl\",\"marker\":{\"colorbar\":{\"outlinewidth\":0,\"ticks\":\"\"}}}],\"bar\":[{\"error_x\":{\"color\":\"#2a3f5f\"},\"error_y\":{\"color\":\"#2a3f5f\"},\"marker\":{\"line\":{\"color\":\"#E5ECF6\",\"width\":0.5},\"pattern\":{\"fillmode\":\"overlay\",\"size\":10,\"solidity\":0.2}},\"type\":\"bar\"}],\"scattergeo\":[{\"type\":\"scattergeo\",\"marker\":{\"colorbar\":{\"outlinewidth\":0,\"ticks\":\"\"}}}],\"scatterpolar\":[{\"type\":\"scatterpolar\",\"marker\":{\"colorbar\":{\"outlinewidth\":0,\"ticks\":\"\"}}}],\"histogram\":[{\"marker\":{\"pattern\":{\"fillmode\":\"overlay\",\"size\":10,\"solidity\":0.2}},\"type\":\"histogram\"}],\"scattergl\":[{\"type\":\"scattergl\",\"marker\":{\"colorbar\":{\"outlinewidth\":0,\"ticks\":\"\"}}}],\"scatter3d\":[{\"type\":\"scatter3d\",\"line\":{\"colorbar\":{\"outlinewidth\":0,\"ticks\":\"\"}},\"marker\":{\"colorbar\":{\"outlinewidth\":0,\"ticks\":\"\"}}}],\"scattermapbox\":[{\"type\":\"scattermapbox\",\"marker\":{\"colorbar\":{\"outlinewidth\":0,\"ticks\":\"\"}}}],\"scatterternary\":[{\"type\":\"scatterternary\",\"marker\":{\"colorbar\":{\"outlinewidth\":0,\"ticks\":\"\"}}}],\"scattercarpet\":[{\"type\":\"scattercarpet\",\"marker\":{\"colorbar\":{\"outlinewidth\":0,\"ticks\":\"\"}}}],\"carpet\":[{\"aaxis\":{\"endlinecolor\":\"#2a3f5f\",\"gridcolor\":\"white\",\"linecolor\":\"white\",\"minorgridcolor\":\"white\",\"startlinecolor\":\"#2a3f5f\"},\"baxis\":{\"endlinecolor\":\"#2a3f5f\",\"gridcolor\":\"white\",\"linecolor\":\"white\",\"minorgridcolor\":\"white\",\"startlinecolor\":\"#2a3f5f\"},\"type\":\"carpet\"}],\"table\":[{\"cells\":{\"fill\":{\"color\":\"#EBF0F8\"},\"line\":{\"color\":\"white\"}},\"header\":{\"fill\":{\"color\":\"#C8D4E3\"},\"line\":{\"color\":\"white\"}},\"type\":\"table\"}],\"barpolar\":[{\"marker\":{\"line\":{\"color\":\"#E5ECF6\",\"width\":0.5},\"pattern\":{\"fillmode\":\"overlay\",\"size\":10,\"solidity\":0.2}},\"type\":\"barpolar\"}],\"pie\":[{\"automargin\":true,\"type\":\"pie\"}]},\"layout\":{\"autotypenumbers\":\"strict\",\"colorway\":[\"#636efa\",\"#EF553B\",\"#00cc96\",\"#ab63fa\",\"#FFA15A\",\"#19d3f3\",\"#FF6692\",\"#B6E880\",\"#FF97FF\",\"#FECB52\"],\"font\":{\"color\":\"#2a3f5f\"},\"hovermode\":\"closest\",\"hoverlabel\":{\"align\":\"left\"},\"paper_bgcolor\":\"white\",\"plot_bgcolor\":\"#E5ECF6\",\"polar\":{\"bgcolor\":\"#E5ECF6\",\"angularaxis\":{\"gridcolor\":\"white\",\"linecolor\":\"white\",\"ticks\":\"\"},\"radialaxis\":{\"gridcolor\":\"white\",\"linecolor\":\"white\",\"ticks\":\"\"}},\"ternary\":{\"bgcolor\":\"#E5ECF6\",\"aaxis\":{\"gridcolor\":\"white\",\"linecolor\":\"white\",\"ticks\":\"\"},\"baxis\":{\"gridcolor\":\"white\",\"linecolor\":\"white\",\"ticks\":\"\"},\"caxis\":{\"gridcolor\":\"white\",\"linecolor\":\"white\",\"ticks\":\"\"}},\"coloraxis\":{\"colorbar\":{\"outlinewidth\":0,\"ticks\":\"\"}},\"colorscale\":{\"sequential\":[[0.0,\"#0d0887\"],[0.1111111111111111,\"#46039f\"],[0.2222222222222222,\"#7201a8\"],[0.3333333333333333,\"#9c179e\"],[0.4444444444444444,\"#bd3786\"],[0.5555555555555556,\"#d8576b\"],[0.6666666666666666,\"#ed7953\"],[0.7777777777777778,\"#fb9f3a\"],[0.8888888888888888,\"#fdca26\"],[1.0,\"#f0f921\"]],\"sequentialminus\":[[0.0,\"#0d0887\"],[0.1111111111111111,\"#46039f\"],[0.2222222222222222,\"#7201a8\"],[0.3333333333333333,\"#9c179e\"],[0.4444444444444444,\"#bd3786\"],[0.5555555555555556,\"#d8576b\"],[0.6666666666666666,\"#ed7953\"],[0.7777777777777778,\"#fb9f3a\"],[0.8888888888888888,\"#fdca26\"],[1.0,\"#f0f921\"]],\"diverging\":[[0,\"#8e0152\"],[0.1,\"#c51b7d\"],[0.2,\"#de77ae\"],[0.3,\"#f1b6da\"],[0.4,\"#fde0ef\"],[0.5,\"#f7f7f7\"],[0.6,\"#e6f5d0\"],[0.7,\"#b8e186\"],[0.8,\"#7fbc41\"],[0.9,\"#4d9221\"],[1,\"#276419\"]]},\"xaxis\":{\"gridcolor\":\"white\",\"linecolor\":\"white\",\"ticks\":\"\",\"title\":{\"standoff\":15},\"zerolinecolor\":\"white\",\"automargin\":true,\"zerolinewidth\":2},\"yaxis\":{\"gridcolor\":\"white\",\"linecolor\":\"white\",\"ticks\":\"\",\"title\":{\"standoff\":15},\"zerolinecolor\":\"white\",\"automargin\":true,\"zerolinewidth\":2},\"scene\":{\"xaxis\":{\"backgroundcolor\":\"#E5ECF6\",\"gridcolor\":\"white\",\"linecolor\":\"white\",\"showbackground\":true,\"ticks\":\"\",\"zerolinecolor\":\"white\",\"gridwidth\":2},\"yaxis\":{\"backgroundcolor\":\"#E5ECF6\",\"gridcolor\":\"white\",\"linecolor\":\"white\",\"showbackground\":true,\"ticks\":\"\",\"zerolinecolor\":\"white\",\"gridwidth\":2},\"zaxis\":{\"backgroundcolor\":\"#E5ECF6\",\"gridcolor\":\"white\",\"linecolor\":\"white\",\"showbackground\":true,\"ticks\":\"\",\"zerolinecolor\":\"white\",\"gridwidth\":2}},\"shapedefaults\":{\"line\":{\"color\":\"#2a3f5f\"}},\"annotationdefaults\":{\"arrowcolor\":\"#2a3f5f\",\"arrowhead\":0,\"arrowwidth\":1},\"geo\":{\"bgcolor\":\"white\",\"landcolor\":\"#E5ECF6\",\"subunitcolor\":\"white\",\"showland\":true,\"showlakes\":true,\"lakecolor\":\"white\"},\"title\":{\"x\":0.05},\"mapbox\":{\"style\":\"light\"}}},\"legend\":{\"tracegroupgap\":0},\"title\":{\"text\":\"Distribution of Accident Causes\"}},                        {\"responsive\": true}                    ).then(function(){\n",
              "                            \n",
              "var gd = document.getElementById('3e5e569e-c31c-4446-a57c-d847fb10e6ee');\n",
              "var x = new MutationObserver(function (mutations, observer) {{\n",
              "        var display = window.getComputedStyle(gd).display;\n",
              "        if (!display || display === 'none') {{\n",
              "            console.log([gd, 'removed!']);\n",
              "            Plotly.purge(gd);\n",
              "            observer.disconnect();\n",
              "        }}\n",
              "}});\n",
              "\n",
              "// Listen for the removal of the full notebook cells\n",
              "var notebookContainer = gd.closest('#notebook-container');\n",
              "if (notebookContainer) {{\n",
              "    x.observe(notebookContainer, {childList: true});\n",
              "}}\n",
              "\n",
              "// Listen for the clearing of the current output cell\n",
              "var outputEl = gd.closest('.output');\n",
              "if (outputEl) {{\n",
              "    x.observe(outputEl, {childList: true});\n",
              "}}\n",
              "\n",
              "                        })                };                            </script>        </div>\n",
              "</body>\n",
              "</html>"
            ]
          },
          "metadata": {}
        }
      ]
    },
    {
      "cell_type": "code",
      "source": [
        "personkilled_data = data[data[\"Outcome of Incident\"] == \"Persons Killed\"]\n",
        "\n",
        "Table=personkilled_data.groupby('Million Plus Cities')['Count'].sum().sort_values(ascending=False).reset_index()\n",
        "\n",
        "# Apply border styling to the table\n",
        "styled_table = Table.style.set_table_styles([{\n",
        "    'selector': 'table',\n",
        "    'props': [('border', '1px solid black')]\n",
        "}])\n",
        "\n",
        "# Display the styled table\n",
        "display(styled_table)"
      ],
      "metadata": {
        "colab": {
          "base_uri": "https://localhost:8080/",
          "height": 1000
        },
        "id": "MmbXnbkXEdUu",
        "outputId": "f0139c78-6592-45eb-a1aa-6653956d5ebe"
      },
      "execution_count": 26,
      "outputs": [
        {
          "output_type": "display_data",
          "data": {
            "text/plain": [
              "<pandas.io.formats.style.Styler at 0x7b04ba23b880>"
            ],
            "text/html": [
              "<style type=\"text/css\">\n",
              "#T_47284 table {\n",
              "  border: 1px solid black;\n",
              "}\n",
              "</style>\n",
              "<table id=\"T_47284\" class=\"dataframe\">\n",
              "  <thead>\n",
              "    <tr>\n",
              "      <th class=\"blank level0\" >&nbsp;</th>\n",
              "      <th id=\"T_47284_level0_col0\" class=\"col_heading level0 col0\" >Million Plus Cities</th>\n",
              "      <th id=\"T_47284_level0_col1\" class=\"col_heading level0 col1\" >Count</th>\n",
              "    </tr>\n",
              "  </thead>\n",
              "  <tbody>\n",
              "    <tr>\n",
              "      <th id=\"T_47284_level0_row0\" class=\"row_heading level0 row0\" >0</th>\n",
              "      <td id=\"T_47284_row0_col0\" class=\"data row0 col0\" >Delhi</td>\n",
              "      <td id=\"T_47284_row0_col1\" class=\"data row0 col1\" >7176</td>\n",
              "    </tr>\n",
              "    <tr>\n",
              "      <th id=\"T_47284_level0_row1\" class=\"row_heading level0 row1\" >1</th>\n",
              "      <td id=\"T_47284_row1_col0\" class=\"data row1 col0\" >Chennai</td>\n",
              "      <td id=\"T_47284_row1_col1\" class=\"data row1 col1\" >5232</td>\n",
              "    </tr>\n",
              "    <tr>\n",
              "      <th id=\"T_47284_level0_row2\" class=\"row_heading level0 row2\" >2</th>\n",
              "      <td id=\"T_47284_row2_col0\" class=\"data row2 col0\" >Bengaluru</td>\n",
              "      <td id=\"T_47284_row2_col1\" class=\"data row2 col1\" >3876</td>\n",
              "    </tr>\n",
              "    <tr>\n",
              "      <th id=\"T_47284_level0_row3\" class=\"row_heading level0 row3\" >3</th>\n",
              "      <td id=\"T_47284_row3_col0\" class=\"data row3 col0\" >Jaipur</td>\n",
              "      <td id=\"T_47284_row3_col1\" class=\"data row3 col1\" >3636</td>\n",
              "    </tr>\n",
              "    <tr>\n",
              "      <th id=\"T_47284_level0_row4\" class=\"row_heading level0 row4\" >4</th>\n",
              "      <td id=\"T_47284_row4_col0\" class=\"data row4 col0\" >Kanpur</td>\n",
              "      <td id=\"T_47284_row4_col1\" class=\"data row4 col1\" >3378</td>\n",
              "    </tr>\n",
              "    <tr>\n",
              "      <th id=\"T_47284_level0_row5\" class=\"row_heading level0 row5\" >5</th>\n",
              "      <td id=\"T_47284_row5_col0\" class=\"data row5 col0\" >Allahabad(Prayagraj)</td>\n",
              "      <td id=\"T_47284_row5_col1\" class=\"data row5 col1\" >3102</td>\n",
              "    </tr>\n",
              "    <tr>\n",
              "      <th id=\"T_47284_level0_row6\" class=\"row_heading level0 row6\" >6</th>\n",
              "      <td id=\"T_47284_row6_col0\" class=\"data row6 col0\" >Agra</td>\n",
              "      <td id=\"T_47284_row6_col1\" class=\"data row6 col1\" >3084</td>\n",
              "    </tr>\n",
              "    <tr>\n",
              "      <th id=\"T_47284_level0_row7\" class=\"row_heading level0 row7\" >7</th>\n",
              "      <td id=\"T_47284_row7_col0\" class=\"data row7 col0\" >Raipur</td>\n",
              "      <td id=\"T_47284_row7_col1\" class=\"data row7 col1\" >2892</td>\n",
              "    </tr>\n",
              "    <tr>\n",
              "      <th id=\"T_47284_level0_row8\" class=\"row_heading level0 row8\" >8</th>\n",
              "      <td id=\"T_47284_row8_col0\" class=\"data row8 col0\" >Indore</td>\n",
              "      <td id=\"T_47284_row8_col1\" class=\"data row8 col1\" >2754</td>\n",
              "    </tr>\n",
              "    <tr>\n",
              "      <th id=\"T_47284_level0_row9\" class=\"row_heading level0 row9\" >9</th>\n",
              "      <td id=\"T_47284_row9_col0\" class=\"data row9 col0\" >Jabalpur</td>\n",
              "      <td id=\"T_47284_row9_col1\" class=\"data row9 col1\" >2532</td>\n",
              "    </tr>\n",
              "    <tr>\n",
              "      <th id=\"T_47284_level0_row10\" class=\"row_heading level0 row10\" >10</th>\n",
              "      <td id=\"T_47284_row10_col0\" class=\"data row10 col0\" >Lucknow</td>\n",
              "      <td id=\"T_47284_row10_col1\" class=\"data row10 col1\" >2244</td>\n",
              "    </tr>\n",
              "    <tr>\n",
              "      <th id=\"T_47284_level0_row11\" class=\"row_heading level0 row11\" >11</th>\n",
              "      <td id=\"T_47284_row11_col0\" class=\"data row11 col0\" >Mumbai</td>\n",
              "      <td id=\"T_47284_row11_col1\" class=\"data row11 col1\" >2094</td>\n",
              "    </tr>\n",
              "    <tr>\n",
              "      <th id=\"T_47284_level0_row12\" class=\"row_heading level0 row12\" >12</th>\n",
              "      <td id=\"T_47284_row12_col0\" class=\"data row12 col0\" >Meerut</td>\n",
              "      <td id=\"T_47284_row12_col1\" class=\"data row12 col1\" >2094</td>\n",
              "    </tr>\n",
              "    <tr>\n",
              "      <th id=\"T_47284_level0_row13\" class=\"row_heading level0 row13\" >13</th>\n",
              "      <td id=\"T_47284_row13_col0\" class=\"data row13 col0\" >Ahmedabad</td>\n",
              "      <td id=\"T_47284_row13_col1\" class=\"data row13 col1\" >2040</td>\n",
              "    </tr>\n",
              "    <tr>\n",
              "      <th id=\"T_47284_level0_row14\" class=\"row_heading level0 row14\" >14</th>\n",
              "      <td id=\"T_47284_row14_col0\" class=\"data row14 col0\" >Ghaziabad</td>\n",
              "      <td id=\"T_47284_row14_col1\" class=\"data row14 col1\" >1956</td>\n",
              "    </tr>\n",
              "    <tr>\n",
              "      <th id=\"T_47284_level0_row15\" class=\"row_heading level0 row15\" >15</th>\n",
              "      <td id=\"T_47284_row15_col0\" class=\"data row15 col0\" >Gwalior</td>\n",
              "      <td id=\"T_47284_row15_col1\" class=\"data row15 col1\" >1896</td>\n",
              "    </tr>\n",
              "    <tr>\n",
              "      <th id=\"T_47284_level0_row16\" class=\"row_heading level0 row16\" >16</th>\n",
              "      <td id=\"T_47284_row16_col0\" class=\"data row16 col0\" >Asansol Durgapur</td>\n",
              "      <td id=\"T_47284_row16_col1\" class=\"data row16 col1\" >1890</td>\n",
              "    </tr>\n",
              "    <tr>\n",
              "      <th id=\"T_47284_level0_row17\" class=\"row_heading level0 row17\" >17</th>\n",
              "      <td id=\"T_47284_row17_col0\" class=\"data row17 col0\" >Ludhiana</td>\n",
              "      <td id=\"T_47284_row17_col1\" class=\"data row17 col1\" >1698</td>\n",
              "    </tr>\n",
              "    <tr>\n",
              "      <th id=\"T_47284_level0_row18\" class=\"row_heading level0 row18\" >18</th>\n",
              "      <td id=\"T_47284_row18_col0\" class=\"data row18 col0\" >Vijaywada city</td>\n",
              "      <td id=\"T_47284_row18_col1\" class=\"data row18 col1\" >1644</td>\n",
              "    </tr>\n",
              "    <tr>\n",
              "      <th id=\"T_47284_level0_row19\" class=\"row_heading level0 row19\" >19</th>\n",
              "      <td id=\"T_47284_row19_col0\" class=\"data row19 col0\" >Vizaq</td>\n",
              "      <td id=\"T_47284_row19_col1\" class=\"data row19 col1\" >1530</td>\n",
              "    </tr>\n",
              "    <tr>\n",
              "      <th id=\"T_47284_level0_row20\" class=\"row_heading level0 row20\" >20</th>\n",
              "      <td id=\"T_47284_row20_col0\" class=\"data row20 col0\" >Hyderabad</td>\n",
              "      <td id=\"T_47284_row20_col1\" class=\"data row20 col1\" >1524</td>\n",
              "    </tr>\n",
              "    <tr>\n",
              "      <th id=\"T_47284_level0_row21\" class=\"row_heading level0 row21\" >21</th>\n",
              "      <td id=\"T_47284_row21_col0\" class=\"data row21 col0\" >Mallapuram</td>\n",
              "      <td id=\"T_47284_row21_col1\" class=\"data row21 col1\" >1482</td>\n",
              "    </tr>\n",
              "    <tr>\n",
              "      <th id=\"T_47284_level0_row22\" class=\"row_heading level0 row22\" >22</th>\n",
              "      <td id=\"T_47284_row22_col0\" class=\"data row22 col0\" >Bhopal</td>\n",
              "      <td id=\"T_47284_row22_col1\" class=\"data row22 col1\" >1422</td>\n",
              "    </tr>\n",
              "    <tr>\n",
              "      <th id=\"T_47284_level0_row23\" class=\"row_heading level0 row23\" >23</th>\n",
              "      <td id=\"T_47284_row23_col0\" class=\"data row23 col0\" >Varanasi</td>\n",
              "      <td id=\"T_47284_row23_col1\" class=\"data row23 col1\" >1278</td>\n",
              "    </tr>\n",
              "    <tr>\n",
              "      <th id=\"T_47284_level0_row24\" class=\"row_heading level0 row24\" >24</th>\n",
              "      <td id=\"T_47284_row24_col0\" class=\"data row24 col0\" >Nagpur</td>\n",
              "      <td id=\"T_47284_row24_col1\" class=\"data row24 col1\" >1260</td>\n",
              "    </tr>\n",
              "    <tr>\n",
              "      <th id=\"T_47284_level0_row25\" class=\"row_heading level0 row25\" >25</th>\n",
              "      <td id=\"T_47284_row25_col0\" class=\"data row25 col0\" >Kolkata</td>\n",
              "      <td id=\"T_47284_row25_col1\" class=\"data row25 col1\" >1206</td>\n",
              "    </tr>\n",
              "    <tr>\n",
              "      <th id=\"T_47284_level0_row26\" class=\"row_heading level0 row26\" >26</th>\n",
              "      <td id=\"T_47284_row26_col0\" class=\"data row26 col0\" >Faridabad</td>\n",
              "      <td id=\"T_47284_row26_col1\" class=\"data row26 col1\" >1170</td>\n",
              "    </tr>\n",
              "    <tr>\n",
              "      <th id=\"T_47284_level0_row27\" class=\"row_heading level0 row27\" >27</th>\n",
              "      <td id=\"T_47284_row27_col0\" class=\"data row27 col0\" >Kollam</td>\n",
              "      <td id=\"T_47284_row27_col1\" class=\"data row27 col1\" >1164</td>\n",
              "    </tr>\n",
              "    <tr>\n",
              "      <th id=\"T_47284_level0_row28\" class=\"row_heading level0 row28\" >28</th>\n",
              "      <td id=\"T_47284_row28_col0\" class=\"data row28 col0\" >Surat</td>\n",
              "      <td id=\"T_47284_row28_col1\" class=\"data row28 col1\" >1146</td>\n",
              "    </tr>\n",
              "    <tr>\n",
              "      <th id=\"T_47284_level0_row29\" class=\"row_heading level0 row29\" >29</th>\n",
              "      <td id=\"T_47284_row29_col0\" class=\"data row29 col0\" >Patna</td>\n",
              "      <td id=\"T_47284_row29_col1\" class=\"data row29 col1\" >1086</td>\n",
              "    </tr>\n",
              "    <tr>\n",
              "      <th id=\"T_47284_level0_row30\" class=\"row_heading level0 row30\" >30</th>\n",
              "      <td id=\"T_47284_row30_col0\" class=\"data row30 col0\" >Nashik</td>\n",
              "      <td id=\"T_47284_row30_col1\" class=\"data row30 col1\" >1026</td>\n",
              "    </tr>\n",
              "    <tr>\n",
              "      <th id=\"T_47284_level0_row31\" class=\"row_heading level0 row31\" >31</th>\n",
              "      <td id=\"T_47284_row31_col0\" class=\"data row31 col0\" >Vadodra</td>\n",
              "      <td id=\"T_47284_row31_col1\" class=\"data row31 col1\" >918</td>\n",
              "    </tr>\n",
              "    <tr>\n",
              "      <th id=\"T_47284_level0_row32\" class=\"row_heading level0 row32\" >32</th>\n",
              "      <td id=\"T_47284_row32_col0\" class=\"data row32 col0\" >Pune</td>\n",
              "      <td id=\"T_47284_row32_col1\" class=\"data row32 col1\" >858</td>\n",
              "    </tr>\n",
              "    <tr>\n",
              "      <th id=\"T_47284_level0_row33\" class=\"row_heading level0 row33\" >33</th>\n",
              "      <td id=\"T_47284_row33_col0\" class=\"data row33 col0\" >Jodhpur</td>\n",
              "      <td id=\"T_47284_row33_col1\" class=\"data row33 col1\" >852</td>\n",
              "    </tr>\n",
              "    <tr>\n",
              "      <th id=\"T_47284_level0_row34\" class=\"row_heading level0 row34\" >34</th>\n",
              "      <td id=\"T_47284_row34_col0\" class=\"data row34 col0\" >Rajkot</td>\n",
              "      <td id=\"T_47284_row34_col1\" class=\"data row34 col1\" >828</td>\n",
              "    </tr>\n",
              "    <tr>\n",
              "      <th id=\"T_47284_level0_row35\" class=\"row_heading level0 row35\" >35</th>\n",
              "      <td id=\"T_47284_row35_col0\" class=\"data row35 col0\" >Aurangabad</td>\n",
              "      <td id=\"T_47284_row35_col1\" class=\"data row35 col1\" >816</td>\n",
              "    </tr>\n",
              "    <tr>\n",
              "      <th id=\"T_47284_level0_row36\" class=\"row_heading level0 row36\" >36</th>\n",
              "      <td id=\"T_47284_row36_col0\" class=\"data row36 col0\" >Thrissur</td>\n",
              "      <td id=\"T_47284_row36_col1\" class=\"data row36 col1\" >804</td>\n",
              "    </tr>\n",
              "    <tr>\n",
              "      <th id=\"T_47284_level0_row37\" class=\"row_heading level0 row37\" >37</th>\n",
              "      <td id=\"T_47284_row37_col0\" class=\"data row37 col0\" >Thiruvanthapuram</td>\n",
              "      <td id=\"T_47284_row37_col1\" class=\"data row37 col1\" >648</td>\n",
              "    </tr>\n",
              "    <tr>\n",
              "      <th id=\"T_47284_level0_row38\" class=\"row_heading level0 row38\" >38</th>\n",
              "      <td id=\"T_47284_row38_col0\" class=\"data row38 col0\" >Kochi</td>\n",
              "      <td id=\"T_47284_row38_col1\" class=\"data row38 col1\" >606</td>\n",
              "    </tr>\n",
              "    <tr>\n",
              "      <th id=\"T_47284_level0_row39\" class=\"row_heading level0 row39\" >39</th>\n",
              "      <td id=\"T_47284_row39_col0\" class=\"data row39 col0\" >Khozikode</td>\n",
              "      <td id=\"T_47284_row39_col1\" class=\"data row39 col1\" >546</td>\n",
              "    </tr>\n",
              "    <tr>\n",
              "      <th id=\"T_47284_level0_row40\" class=\"row_heading level0 row40\" >40</th>\n",
              "      <td id=\"T_47284_row40_col0\" class=\"data row40 col0\" >Tiruchirapalli</td>\n",
              "      <td id=\"T_47284_row40_col1\" class=\"data row40 col1\" >522</td>\n",
              "    </tr>\n",
              "    <tr>\n",
              "      <th id=\"T_47284_level0_row41\" class=\"row_heading level0 row41\" >41</th>\n",
              "      <td id=\"T_47284_row41_col0\" class=\"data row41 col0\" >Dhanbad</td>\n",
              "      <td id=\"T_47284_row41_col1\" class=\"data row41 col1\" >498</td>\n",
              "    </tr>\n",
              "    <tr>\n",
              "      <th id=\"T_47284_level0_row42\" class=\"row_heading level0 row42\" >42</th>\n",
              "      <td id=\"T_47284_row42_col0\" class=\"data row42 col0\" >Madurai</td>\n",
              "      <td id=\"T_47284_row42_col1\" class=\"data row42 col1\" >486</td>\n",
              "    </tr>\n",
              "    <tr>\n",
              "      <th id=\"T_47284_level0_row43\" class=\"row_heading level0 row43\" >43</th>\n",
              "      <td id=\"T_47284_row43_col0\" class=\"data row43 col0\" >Amritsar</td>\n",
              "      <td id=\"T_47284_row43_col1\" class=\"data row43 col1\" >396</td>\n",
              "    </tr>\n",
              "    <tr>\n",
              "      <th id=\"T_47284_level0_row44\" class=\"row_heading level0 row44\" >44</th>\n",
              "      <td id=\"T_47284_row44_col0\" class=\"data row44 col0\" >Coimbatore</td>\n",
              "      <td id=\"T_47284_row44_col1\" class=\"data row44 col1\" >388</td>\n",
              "    </tr>\n",
              "    <tr>\n",
              "      <th id=\"T_47284_level0_row45\" class=\"row_heading level0 row45\" >45</th>\n",
              "      <td id=\"T_47284_row45_col0\" class=\"data row45 col0\" >Kota</td>\n",
              "      <td id=\"T_47284_row45_col1\" class=\"data row45 col1\" >360</td>\n",
              "    </tr>\n",
              "    <tr>\n",
              "      <th id=\"T_47284_level0_row46\" class=\"row_heading level0 row46\" >46</th>\n",
              "      <td id=\"T_47284_row46_col0\" class=\"data row46 col0\" >Kannur</td>\n",
              "      <td id=\"T_47284_row46_col1\" class=\"data row46 col1\" >342</td>\n",
              "    </tr>\n",
              "    <tr>\n",
              "      <th id=\"T_47284_level0_row47\" class=\"row_heading level0 row47\" >47</th>\n",
              "      <td id=\"T_47284_row47_col0\" class=\"data row47 col0\" >Chandigarh</td>\n",
              "      <td id=\"T_47284_row47_col1\" class=\"data row47 col1\" >318</td>\n",
              "    </tr>\n",
              "    <tr>\n",
              "      <th id=\"T_47284_level0_row48\" class=\"row_heading level0 row48\" >48</th>\n",
              "      <td id=\"T_47284_row48_col0\" class=\"data row48 col0\" >Jamshedpur</td>\n",
              "      <td id=\"T_47284_row48_col1\" class=\"data row48 col1\" >282</td>\n",
              "    </tr>\n",
              "    <tr>\n",
              "      <th id=\"T_47284_level0_row49\" class=\"row_heading level0 row49\" >49</th>\n",
              "      <td id=\"T_47284_row49_col0\" class=\"data row49 col0\" >Srinagar</td>\n",
              "      <td id=\"T_47284_row49_col1\" class=\"data row49 col1\" >270</td>\n",
              "    </tr>\n",
              "  </tbody>\n",
              "</table>\n"
            ]
          },
          "metadata": {}
        }
      ]
    },
    {
      "cell_type": "code",
      "source": [],
      "metadata": {
        "id": "rOCMR0O-EiaC"
      },
      "execution_count": null,
      "outputs": []
    }
  ]
}